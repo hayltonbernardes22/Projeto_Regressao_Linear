{
 "cells": [
  {
   "cell_type": "markdown",
   "metadata": {
    "id": "4gc0bpWWaUIg"
   },
   "source": [
    "### Machine learning aplicado ao Airbnb \n",
    "\n",
    "\n",
    "<br>\n",
    "\n",
    "##### <b> Problema de negócio </b> \n",
    "\n",
    "<br>\n",
    "\n",
    "Em sua jornada profissional, Gulliver entendeu ser pertinente desenvolver modelos de aprendizagem de máquina voltados para compreender os preços de hospedagens. Para isso, optou por usar uma base de dados proveniente da AirBNB para São Paulo e, com algumas features coletadas, esteves foi desenvolver um modelo de regressão linear em três algoritmos de regressão: regressão linear múltipla, árvores de regressão e random-forest.\n",
    " Inspirado na necessidade de Gulliver, estamos fazendo uso de dados da AirBNB de São Paulo com o objetivo de desenvolver três modelos para predizer o preço de uma hospedagem no AirBNB para São Paulo, e utilizar o melhor deles como nossa solução final.\n",
    "\n",
    "\n",
    "\n",
    "\n",
    "<br>\n",
    "<br>\n",
    "\n",
    "<img src=\"https://aloalobahia.com/images/p/airnbccrescimentoe_alo_alo_bahia.jpg\">\n",
    "\n",
    "<br>\n",
    "<hr>\n",
    "<br>\n",
    "<br>"
   ]
  },
  {
   "cell_type": "markdown",
   "metadata": {
    "id": "djkqBJuzbCDk"
   },
   "source": [
    "#### 1- bibliotecas a leitura dos dados \n",
    "\n",
    "vamos iniciar importando os pacotes necessários para esse projeto de Machine learning, e a carga dos dados.\n",
    "\n",
    "\n",
    "\n",
    "<br>"
   ]
  },
  {
   "cell_type": "code",
   "execution_count": 1,
   "metadata": {
    "colab": {
     "base_uri": "https://localhost:8080/"
    },
    "id": "dAak22DndCM1",
    "outputId": "a44f625b-9882-440a-b38f-6869ba7c9a25"
   },
   "outputs": [
    {
     "name": "stdout",
     "output_type": "stream",
     "text": [
      "Requirement already satisfied: bayesian-optimization in /usr/local/lib/python3.7/dist-packages (1.2.0)\n",
      "Requirement already satisfied: scikit-learn>=0.18.0 in /usr/local/lib/python3.7/dist-packages (from bayesian-optimization) (0.22.2.post1)\n",
      "Requirement already satisfied: numpy>=1.9.0 in /usr/local/lib/python3.7/dist-packages (from bayesian-optimization) (1.19.5)\n",
      "Requirement already satisfied: scipy>=0.14.0 in /usr/local/lib/python3.7/dist-packages (from bayesian-optimization) (1.4.1)\n",
      "Requirement already satisfied: joblib>=0.11 in /usr/local/lib/python3.7/dist-packages (from scikit-learn>=0.18.0->bayesian-optimization) (1.0.1)\n",
      "Requirement already satisfied: hyperopt in /usr/local/lib/python3.7/dist-packages (0.1.2)\n",
      "Requirement already satisfied: networkx in /usr/local/lib/python3.7/dist-packages (from hyperopt) (2.5.1)\n",
      "Requirement already satisfied: pymongo in /usr/local/lib/python3.7/dist-packages (from hyperopt) (3.11.4)\n",
      "Requirement already satisfied: numpy in /usr/local/lib/python3.7/dist-packages (from hyperopt) (1.19.5)\n",
      "Requirement already satisfied: future in /usr/local/lib/python3.7/dist-packages (from hyperopt) (0.16.0)\n",
      "Requirement already satisfied: six in /usr/local/lib/python3.7/dist-packages (from hyperopt) (1.15.0)\n",
      "Requirement already satisfied: tqdm in /usr/local/lib/python3.7/dist-packages (from hyperopt) (4.41.1)\n",
      "Requirement already satisfied: scipy in /usr/local/lib/python3.7/dist-packages (from hyperopt) (1.4.1)\n",
      "Requirement already satisfied: decorator<5,>=4.3 in /usr/local/lib/python3.7/dist-packages (from networkx->hyperopt) (4.4.2)\n"
     ]
    }
   ],
   "source": [
    "!pip install bayesian-optimization\n",
    "!pip install hyperopt"
   ]
  },
  {
   "cell_type": "code",
   "execution_count": 2,
   "metadata": {
    "id": "XxVNJ1zPbXpL"
   },
   "outputs": [],
   "source": [
    "# bibliotecas \n",
    "import os \n",
    "import numpy as np \n",
    "import pandas as pd\n",
    "import matplotlib.pyplot as plt\n",
    "import seaborn as sns\n",
    "\n",
    "import warnings\n",
    "warnings.filterwarnings(\"ignore\")\n",
    "\n",
    "from bayes_opt import BayesianOptimization\n",
    "\n",
    "from scipy import stats\n",
    "from sklearn.linear_model import LinearRegression\n",
    "from sklearn.neighbors import KNeighborsRegressor\n",
    "from sklearn.preprocessing import OneHotEncoder, LabelEncoder\n",
    "from sklearn.model_selection import train_test_split, KFold, RandomizedSearchCV\n",
    "from sklearn.preprocessing import StandardScaler, MinMaxScaler, Normalizer\n",
    "from sklearn.tree import DecisionTreeRegressor\n",
    "from sklearn.ensemble import RandomForestRegressor, GradientBoostingRegressor\n",
    "from sklearn.metrics import mean_absolute_error, mean_squared_error, r2_score"
   ]
  },
  {
   "cell_type": "code",
   "execution_count": 3,
   "metadata": {
    "colab": {
     "base_uri": "https://localhost:8080/",
     "height": 196
    },
    "id": "kDeqcjE5aO_u",
    "outputId": "ef8a724b-1065-48a7-b9f1-662f5c69f22e"
   },
   "outputs": [
    {
     "data": {
      "text/html": [
       "<div>\n",
       "<style scoped>\n",
       "    .dataframe tbody tr th:only-of-type {\n",
       "        vertical-align: middle;\n",
       "    }\n",
       "\n",
       "    .dataframe tbody tr th {\n",
       "        vertical-align: top;\n",
       "    }\n",
       "\n",
       "    .dataframe thead th {\n",
       "        text-align: right;\n",
       "    }\n",
       "</style>\n",
       "<table border=\"1\" class=\"dataframe\">\n",
       "  <thead>\n",
       "    <tr style=\"text-align: right;\">\n",
       "      <th></th>\n",
       "      <th>room_id</th>\n",
       "      <th>room_type</th>\n",
       "      <th>city</th>\n",
       "      <th>borough</th>\n",
       "      <th>neighborhood</th>\n",
       "      <th>reviews</th>\n",
       "      <th>overall_satisfaction</th>\n",
       "      <th>accommodates</th>\n",
       "      <th>bedrooms</th>\n",
       "      <th>price</th>\n",
       "      <th>property_type</th>\n",
       "    </tr>\n",
       "  </thead>\n",
       "  <tbody>\n",
       "    <tr>\n",
       "      <th>0</th>\n",
       "      <td>3732200</td>\n",
       "      <td>Shared room</td>\n",
       "      <td>Sao Paulo</td>\n",
       "      <td>SAO PAULO</td>\n",
       "      <td>Mooca</td>\n",
       "      <td>0</td>\n",
       "      <td>0.0</td>\n",
       "      <td>5</td>\n",
       "      <td>1.0</td>\n",
       "      <td>47.0</td>\n",
       "      <td>House</td>\n",
       "    </tr>\n",
       "    <tr>\n",
       "      <th>1</th>\n",
       "      <td>2247926</td>\n",
       "      <td>Shared room</td>\n",
       "      <td>Sao Paulo</td>\n",
       "      <td>SAO PAULO</td>\n",
       "      <td>Pinheiros</td>\n",
       "      <td>0</td>\n",
       "      <td>0.0</td>\n",
       "      <td>16</td>\n",
       "      <td>1.0</td>\n",
       "      <td>21.0</td>\n",
       "      <td>Bed &amp; Breakfast</td>\n",
       "    </tr>\n",
       "    <tr>\n",
       "      <th>2</th>\n",
       "      <td>2674673</td>\n",
       "      <td>Shared room</td>\n",
       "      <td>Sao Paulo</td>\n",
       "      <td>SAO PAULO</td>\n",
       "      <td>Itaquera</td>\n",
       "      <td>0</td>\n",
       "      <td>0.0</td>\n",
       "      <td>8</td>\n",
       "      <td>1.0</td>\n",
       "      <td>311.0</td>\n",
       "      <td>House</td>\n",
       "    </tr>\n",
       "    <tr>\n",
       "      <th>3</th>\n",
       "      <td>2996011</td>\n",
       "      <td>Shared room</td>\n",
       "      <td>Sao Paulo</td>\n",
       "      <td>SAO PAULO</td>\n",
       "      <td>Penha</td>\n",
       "      <td>0</td>\n",
       "      <td>0.0</td>\n",
       "      <td>5</td>\n",
       "      <td>1.0</td>\n",
       "      <td>389.0</td>\n",
       "      <td>Apartment</td>\n",
       "    </tr>\n",
       "    <tr>\n",
       "      <th>4</th>\n",
       "      <td>2939182</td>\n",
       "      <td>Shared room</td>\n",
       "      <td>Sao Paulo</td>\n",
       "      <td>SAO PAULO</td>\n",
       "      <td>Iguatemi</td>\n",
       "      <td>0</td>\n",
       "      <td>0.0</td>\n",
       "      <td>4</td>\n",
       "      <td>1.0</td>\n",
       "      <td>311.0</td>\n",
       "      <td>House</td>\n",
       "    </tr>\n",
       "  </tbody>\n",
       "</table>\n",
       "</div>"
      ],
      "text/plain": [
       "   room_id    room_type       city  ... bedrooms  price    property_type\n",
       "0  3732200  Shared room  Sao Paulo  ...      1.0   47.0            House\n",
       "1  2247926  Shared room  Sao Paulo  ...      1.0   21.0  Bed & Breakfast\n",
       "2  2674673  Shared room  Sao Paulo  ...      1.0  311.0            House\n",
       "3  2996011  Shared room  Sao Paulo  ...      1.0  389.0        Apartment\n",
       "4  2939182  Shared room  Sao Paulo  ...      1.0  311.0            House\n",
       "\n",
       "[5 rows x 11 columns]"
      ]
     },
     "execution_count": 3,
     "metadata": {
      "tags": []
     },
     "output_type": "execute_result"
    }
   ],
   "source": [
    "path = \"/content/drive/MyDrive/FIAP/machine-learning-global/dataset_airbnb.csv\"\n",
    "df = pd.read_csv(path, sep=\";\")\n",
    "df.head()"
   ]
  },
  {
   "cell_type": "code",
   "execution_count": 4,
   "metadata": {
    "colab": {
     "base_uri": "https://localhost:8080/"
    },
    "id": "KDtxjUc4pdB2",
    "outputId": "b6ea2558-409d-410c-8025-e1696b62edb6"
   },
   "outputs": [
    {
     "data": {
      "text/plain": [
       "0      5275\n",
       "1      1134\n",
       "2       658\n",
       "3       502\n",
       "4       391\n",
       "       ... \n",
       "170       1\n",
       "138       1\n",
       "113       1\n",
       "105       1\n",
       "167       1\n",
       "Name: reviews, Length: 128, dtype: int64"
      ]
     },
     "execution_count": 4,
     "metadata": {
      "tags": []
     },
     "output_type": "execute_result"
    }
   ],
   "source": [
    "df[\"reviews\"].value_counts()"
   ]
  },
  {
   "cell_type": "code",
   "execution_count": 5,
   "metadata": {
    "colab": {
     "base_uri": "https://localhost:8080/"
    },
    "id": "6m9XfGQkcLZE",
    "outputId": "a18186a7-0e40-4c9f-ca57-ff2c2937c7d8"
   },
   "outputs": [
    {
     "name": "stdout",
     "output_type": "stream",
     "text": [
      "número de linhas: 11118 | número de colunas: 11\n"
     ]
    }
   ],
   "source": [
    "# número de linhas e colunas  \n",
    "print(f\"número de linhas: {df.shape[0]} | número de colunas: {df.shape[1]}\")"
   ]
  },
  {
   "cell_type": "code",
   "execution_count": 6,
   "metadata": {
    "colab": {
     "base_uri": "https://localhost:8080/"
    },
    "id": "YRpu9X0_gclW",
    "outputId": "64a89962-3fb5-4e35-a473-ce865ac5402b"
   },
   "outputs": [
    {
     "name": "stdout",
     "output_type": "stream",
     "text": [
      "<class 'pandas.core.frame.DataFrame'>\n",
      "RangeIndex: 11118 entries, 0 to 11117\n",
      "Data columns (total 11 columns):\n",
      " #   Column                Non-Null Count  Dtype  \n",
      "---  ------                --------------  -----  \n",
      " 0   room_id               11118 non-null  int64  \n",
      " 1   room_type             11118 non-null  object \n",
      " 2   city                  11118 non-null  object \n",
      " 3   borough               11118 non-null  object \n",
      " 4   neighborhood          11118 non-null  object \n",
      " 5   reviews               11118 non-null  int64  \n",
      " 6   overall_satisfaction  11118 non-null  float64\n",
      " 7   accommodates          11118 non-null  int64  \n",
      " 8   bedrooms              11118 non-null  float64\n",
      " 9   price                 11118 non-null  float64\n",
      " 10  property_type         11118 non-null  object \n",
      "dtypes: float64(3), int64(3), object(5)\n",
      "memory usage: 955.6+ KB\n"
     ]
    }
   ],
   "source": [
    "df.info()"
   ]
  },
  {
   "cell_type": "code",
   "execution_count": 7,
   "metadata": {
    "colab": {
     "base_uri": "https://localhost:8080/"
    },
    "id": "krmnHGJrcdJl",
    "outputId": "68a8fd11-1b90-4a2b-a6af-64b5e0f5b9c4"
   },
   "outputs": [
    {
     "data": {
      "text/plain": [
       "room_id                   int64\n",
       "room_type                object\n",
       "city                     object\n",
       "borough                  object\n",
       "neighborhood             object\n",
       "reviews                   int64\n",
       "overall_satisfaction    float64\n",
       "accommodates              int64\n",
       "bedrooms                float64\n",
       "price                   float64\n",
       "property_type            object\n",
       "dtype: object"
      ]
     },
     "execution_count": 7,
     "metadata": {
      "tags": []
     },
     "output_type": "execute_result"
    }
   ],
   "source": [
    "# tipo das colunas \n",
    "df.dtypes"
   ]
  },
  {
   "cell_type": "code",
   "execution_count": 8,
   "metadata": {
    "colab": {
     "base_uri": "https://localhost:8080/",
     "height": 286
    },
    "id": "ea8SPFYOfaPb",
    "outputId": "736be1f0-04cc-4f10-ce3c-9f974b859ed6"
   },
   "outputs": [
    {
     "data": {
      "text/html": [
       "<div>\n",
       "<style scoped>\n",
       "    .dataframe tbody tr th:only-of-type {\n",
       "        vertical-align: middle;\n",
       "    }\n",
       "\n",
       "    .dataframe tbody tr th {\n",
       "        vertical-align: top;\n",
       "    }\n",
       "\n",
       "    .dataframe thead th {\n",
       "        text-align: right;\n",
       "    }\n",
       "</style>\n",
       "<table border=\"1\" class=\"dataframe\">\n",
       "  <thead>\n",
       "    <tr style=\"text-align: right;\">\n",
       "      <th></th>\n",
       "      <th>room_id</th>\n",
       "      <th>reviews</th>\n",
       "      <th>overall_satisfaction</th>\n",
       "      <th>accommodates</th>\n",
       "      <th>bedrooms</th>\n",
       "      <th>price</th>\n",
       "    </tr>\n",
       "  </thead>\n",
       "  <tbody>\n",
       "    <tr>\n",
       "      <th>count</th>\n",
       "      <td>1.111800e+04</td>\n",
       "      <td>11118.000000</td>\n",
       "      <td>11118.000000</td>\n",
       "      <td>11118.000000</td>\n",
       "      <td>11118.000000</td>\n",
       "      <td>11118.000000</td>\n",
       "    </tr>\n",
       "    <tr>\n",
       "      <th>mean</th>\n",
       "      <td>1.097865e+07</td>\n",
       "      <td>6.164598</td>\n",
       "      <td>1.752339</td>\n",
       "      <td>3.040295</td>\n",
       "      <td>1.317143</td>\n",
       "      <td>84.027613</td>\n",
       "    </tr>\n",
       "    <tr>\n",
       "      <th>std</th>\n",
       "      <td>6.087036e+06</td>\n",
       "      <td>14.204120</td>\n",
       "      <td>2.322813</td>\n",
       "      <td>2.345101</td>\n",
       "      <td>0.897948</td>\n",
       "      <td>223.382397</td>\n",
       "    </tr>\n",
       "    <tr>\n",
       "      <th>min</th>\n",
       "      <td>1.077400e+04</td>\n",
       "      <td>0.000000</td>\n",
       "      <td>0.000000</td>\n",
       "      <td>1.000000</td>\n",
       "      <td>0.000000</td>\n",
       "      <td>3.000000</td>\n",
       "    </tr>\n",
       "    <tr>\n",
       "      <th>25%</th>\n",
       "      <td>4.758136e+06</td>\n",
       "      <td>0.000000</td>\n",
       "      <td>0.000000</td>\n",
       "      <td>2.000000</td>\n",
       "      <td>1.000000</td>\n",
       "      <td>25.000000</td>\n",
       "    </tr>\n",
       "    <tr>\n",
       "      <th>50%</th>\n",
       "      <td>1.233381e+07</td>\n",
       "      <td>1.000000</td>\n",
       "      <td>0.000000</td>\n",
       "      <td>2.000000</td>\n",
       "      <td>1.000000</td>\n",
       "      <td>43.000000</td>\n",
       "    </tr>\n",
       "    <tr>\n",
       "      <th>75%</th>\n",
       "      <td>1.646424e+07</td>\n",
       "      <td>6.000000</td>\n",
       "      <td>4.500000</td>\n",
       "      <td>4.000000</td>\n",
       "      <td>2.000000</td>\n",
       "      <td>72.000000</td>\n",
       "    </tr>\n",
       "    <tr>\n",
       "      <th>max</th>\n",
       "      <td>1.962464e+07</td>\n",
       "      <td>248.000000</td>\n",
       "      <td>5.000000</td>\n",
       "      <td>16.000000</td>\n",
       "      <td>10.000000</td>\n",
       "      <td>10905.000000</td>\n",
       "    </tr>\n",
       "  </tbody>\n",
       "</table>\n",
       "</div>"
      ],
      "text/plain": [
       "            room_id       reviews  ...      bedrooms         price\n",
       "count  1.111800e+04  11118.000000  ...  11118.000000  11118.000000\n",
       "mean   1.097865e+07      6.164598  ...      1.317143     84.027613\n",
       "std    6.087036e+06     14.204120  ...      0.897948    223.382397\n",
       "min    1.077400e+04      0.000000  ...      0.000000      3.000000\n",
       "25%    4.758136e+06      0.000000  ...      1.000000     25.000000\n",
       "50%    1.233381e+07      1.000000  ...      1.000000     43.000000\n",
       "75%    1.646424e+07      6.000000  ...      2.000000     72.000000\n",
       "max    1.962464e+07    248.000000  ...     10.000000  10905.000000\n",
       "\n",
       "[8 rows x 6 columns]"
      ]
     },
     "execution_count": 8,
     "metadata": {
      "tags": []
     },
     "output_type": "execute_result"
    }
   ],
   "source": [
    "# estátistica descritiva \n",
    "df.describe()"
   ]
  },
  {
   "cell_type": "markdown",
   "metadata": {
    "id": "PcdVVRR-f6FM"
   },
   "source": [
    "<br>\n",
    "<br>\n",
    "<br>\n",
    "\n",
    "\n",
    "#### 2- Análise Exploratória de dados \n",
    "\n",
    "\n",
    "nesta etapa vamos explorar nosso dataset, tirar algumas medidas estátisticas e ver o principais insights que podemos encontrar nestes dados, e assim partir para a modelagem levando em consideração nossas descobertas com esta análise.\n",
    "\n",
    "\n",
    "<br>\n",
    "<br>"
   ]
  },
  {
   "cell_type": "code",
   "execution_count": 9,
   "metadata": {
    "colab": {
     "base_uri": "https://localhost:8080/",
     "height": 489
    },
    "id": "QBw-CfH9gYUe",
    "outputId": "4af729bd-d870-4182-cbf9-04878235a956"
   },
   "outputs": [
    {
     "data": {
      "image/png": "[encoded data removed]",
      "text/plain": [
       "<Figure size 864x432 with 1 Axes>"
      ]
     },
     "metadata": {
      "needs_background": "light",
      "tags": []
     },
     "output_type": "display_data"
    },
    {
     "name": "stdout",
     "output_type": "stream",
     "text": [
      "\n",
      "\n",
      "\n",
      "média de preços: 84.02761288001439\n",
      "desvio padrão de preços: 223.37235119534895\n"
     ]
    }
   ],
   "source": [
    "# distribuição do target (price)\n",
    "plt.figure(figsize=(12,6))\n",
    "sns.distplot(df[\"price\"], color='red', kde=True)\n",
    "plt.title(\"Distribuição de Preços\", fontsize=15)\n",
    "plt.show()\n",
    "\n",
    "\n",
    "\n",
    "media = np.mean(df[\"price\"])\n",
    "desvio_padrao = np.std(df[\"price\"])\n",
    "\n",
    "\n",
    "print(\"\\n\\n\")\n",
    "print(f\"média de preços: {media}\")\n",
    "print(f\"desvio padrão de preços: {desvio_padrao}\")"
   ]
  },
  {
   "cell_type": "markdown",
   "metadata": {
    "id": "qsT_6NEuhe7s"
   },
   "source": [
    "<br>\n",
    "\n",
    "\n",
    "\n",
    "<br>\n",
    "<br>\n",
    "\n",
    "##### Quais tipos de quartos possuem os maiores aluguéis ? \n",
    "\n",
    "\n",
    "<br>"
   ]
  },
  {
   "cell_type": "code",
   "execution_count": 10,
   "metadata": {
    "colab": {
     "base_uri": "https://localhost:8080/",
     "height": 559
    },
    "id": "6E0E49VYmDX4",
    "outputId": "bbcdada5-e8e6-4668-bbcc-f26be5c7d5ab"
   },
   "outputs": [
    {
     "name": "stdout",
     "output_type": "stream",
     "text": [
      "\n",
      "\n",
      "número de Quartos compartilhados: 463\n",
      "número de Casas: 5880\n",
      "número de Quartos Privados: 4775\n",
      "\n",
      "\n",
      "\n",
      "\n"
     ]
    },
    {
     "data": {
      "image/png": "[encoded data removed]",
      "text/plain": [
       "<Figure size 864x432 with 1 Axes>"
      ]
     },
     "metadata": {
      "needs_background": "light",
      "tags": []
     },
     "output_type": "display_data"
    }
   ],
   "source": [
    "# comparação de quartos e preços \n",
    "\n",
    "print(\"\\n\")\n",
    "\n",
    "qtd_shared_room = len(df[df[\"room_type\"]==\"Shared room\"])\n",
    "qtd_entire_home = len(df[df[\"room_type\"]==\"Entire home/apt\"])\n",
    "qtd_private_room = len(df[df[\"room_type\"]==\"Private room\"])\n",
    "\n",
    "print(f\"número de Quartos compartilhados: {qtd_shared_room}\")\n",
    "print(f\"número de Casas: {qtd_entire_home}\")\n",
    "print(f\"número de Quartos Privados: {qtd_private_room}\")\n",
    "print(\"\\n\\n\\n\")\n",
    "\n",
    "\n",
    "\n",
    "plt.figure(figsize=(12,6))\n",
    "sns.barplot(x=\"room_type\", y=\"price\", data=df, color=\"salmon\")\n",
    "plt.ylabel(\"Preço\", fontsize=12)\n",
    "plt.xlabel(\"Tipo de Quartos\", fontsize=12)\n",
    "plt.title(\"Quartos com maiores valores\", fontsize=15)\n",
    "plt.show()"
   ]
  },
  {
   "cell_type": "markdown",
   "metadata": {
    "id": "1Fm_Gz6TmmAh"
   },
   "source": [
    "<br>\n",
    "<br>\n",
    "\n",
    "Através do gráfico conseguimos ver que os maiores valores são para aluguéis de casas completas, seguidos de quartos privados, e por último quartos compartilhados que é a categoria mais básica dos clientes da AirBNB, seguindo a lógica dos preços da plataforma.  \n",
    "\n",
    "\n",
    "<br>\n",
    "<br>\n",
    "\n",
    "\n",
    "##### Quais bairros possuem avaliações melhores ? \n",
    "\n",
    "\n",
    "<br>"
   ]
  },
  {
   "cell_type": "code",
   "execution_count": 11,
   "metadata": {
    "colab": {
     "base_uri": "https://localhost:8080/"
    },
    "id": "lPaK5jdN7cK2",
    "outputId": "ef974127-ebc9-4a35-8fd4-e2e39c97a56e"
   },
   "outputs": [
    {
     "data": {
      "text/plain": [
       "Jardim Paulista          944\n",
       "Itaim Bibi               923\n",
       "Pinheiros                712\n",
       "Bela Vista               583\n",
       "Consolação               547\n",
       "                        ... \n",
       "Itaim Paulista             1\n",
       "Ouro Fino Paulista         1\n",
       "Itaquaquecetuba            1\n",
       "Cajamar                    1\n",
       "São Lourenço da Serra      1\n",
       "Name: neighborhood, Length: 138, dtype: int64"
      ]
     },
     "execution_count": 11,
     "metadata": {
      "tags": []
     },
     "output_type": "execute_result"
    }
   ],
   "source": [
    "df[\"neighborhood\"].value_counts()"
   ]
  },
  {
   "cell_type": "code",
   "execution_count": 12,
   "metadata": {
    "colab": {
     "base_uri": "https://localhost:8080/",
     "height": 492
    },
    "id": "XSeYj6bMzo7v",
    "outputId": "3a09f344-622f-4d28-f23e-22e3db80c0e9"
   },
   "outputs": [
    {
     "name": "stdout",
     "output_type": "stream",
     "text": [
      "\n",
      "\n"
     ]
    },
    {
     "data": {
      "image/png": "[encoded data removed]",
      "text/plain": [
       "<Figure size 864x432 with 1 Axes>"
      ]
     },
     "metadata": {
      "needs_background": "light",
      "tags": []
     },
     "output_type": "display_data"
    },
    {
     "name": "stdout",
     "output_type": "stream",
     "text": [
      "\n",
      "\n",
      "\n"
     ]
    }
   ],
   "source": [
    "# distribuição de nota por bairros (top 7)\n",
    "\n",
    "print(\"\\n\")\n",
    "\n",
    "plt.figure(figsize=(12,6))\n",
    "sns.countplot(x='neighborhood', hue = 'overall_satisfaction',data = df, palette='Oranges', order=pd.value_counts(df['neighborhood']).iloc[:7].index, edgecolor=\"black\",linewidth = 1, zorder = 3, alpha = 0.9 )\n",
    "plt.grid(True, zorder = 0)\n",
    "plt.title(\"Distribuição de Nota por Bairro (Top 7)\", fontsize=15)\n",
    "plt.xlabel('Bairros', fontsize=12)\n",
    "plt.ylabel('Contagem de registros', fontsize=12)\n",
    "plt.show()\n",
    "\n",
    "\n",
    "print('\\n\\n')"
   ]
  },
  {
   "cell_type": "markdown",
   "metadata": {
    "id": "zgyiis2E2nRo"
   },
   "source": [
    "Os bairros de SP com as melhores notas, as acomodações em cada região tem uma distribuição parecida quando olhamos para as notas em cada bairro, Jardim paulista é o bairro com o maior número de notas 5.0 com cerca de <b> 944 </b> avaliações, logo em seguida o Itaim Bibi recebeu cerca de <b> 923 </b> avaliações, Pinheiros segue com <b> 712 </b>, são os três bairros com as melhores avaliações, e esses fazem parte dos bairros mais luxuosos de São Paulo.  \n",
    "\n",
    "\n",
    "<br>\n",
    "<br>\n",
    "<br>\n",
    "<br>\n",
    "\n",
    "##### Qual a média de notas por bairros ? \n",
    "\n",
    "\n",
    "<br>"
   ]
  },
  {
   "cell_type": "code",
   "execution_count": 13,
   "metadata": {
    "colab": {
     "base_uri": "https://localhost:8080/",
     "height": 492
    },
    "id": "dJgUTM605to8",
    "outputId": "2c3c7fd6-7a30-4140-d521-e82ef540687a"
   },
   "outputs": [
    {
     "name": "stdout",
     "output_type": "stream",
     "text": [
      "\n",
      "\n"
     ]
    },
    {
     "data": {
      "image/png": "[encoded data removed]",
      "text/plain": [
       "<Figure size 864x432 with 1 Axes>"
      ]
     },
     "metadata": {
      "needs_background": "light",
      "tags": []
     },
     "output_type": "display_data"
    },
    {
     "name": "stdout",
     "output_type": "stream",
     "text": [
      "\n",
      "\n",
      "\n"
     ]
    }
   ],
   "source": [
    "# média de notas (top 6)\n",
    "\n",
    "print(\"\\n\")\n",
    "\n",
    "df_sorted_desc = df[['overall_satisfaction', 'price']].groupby('overall_satisfaction').mean().reset_index().sort_values('price',ascending=False).iloc[1:]\n",
    "\n",
    "plt.figure(figsize=(12,6))\n",
    "plt.bar(df_sorted_desc['overall_satisfaction'],df_sorted_desc['price'],data=df_sorted_desc, edgecolor=\"black\",linewidth = 1, color = 'salmon', zorder = 3, alpha = 0.9)\n",
    "plt.grid(True, zorder = 0)\n",
    "plt.title(\"Media de valor por nota de classificação (Top 6)\", fontsize=15)\n",
    "plt.xlabel('nota de classificação', fontsize=12)\n",
    "plt.show()\n",
    "\n",
    "print(\"\\n\\n\")"
   ]
  },
  {
   "cell_type": "markdown",
   "metadata": {
    "id": "qOAm55NC6Gl6"
   },
   "source": [
    "<br>\n",
    "<br>"
   ]
  },
  {
   "cell_type": "code",
   "execution_count": 14,
   "metadata": {
    "colab": {
     "base_uri": "https://localhost:8080/",
     "height": 619
    },
    "id": "5nx2chTG6GJb",
    "outputId": "68a65bac-9f6d-47f8-956c-556c26eaf945"
   },
   "outputs": [
    {
     "name": "stdout",
     "output_type": "stream",
     "text": [
      "\n",
      "\n"
     ]
    },
    {
     "data": {
      "image/png": "[encoded data removed]",
      "text/plain": [
       "<Figure size 1152x576 with 1 Axes>"
      ]
     },
     "metadata": {
      "needs_background": "light",
      "tags": []
     },
     "output_type": "display_data"
    },
    {
     "data": {
      "image/png": "[encoded data removed]",
      "text/plain": [
       "<Figure size 1152x576 with 1 Axes>"
      ]
     },
     "metadata": {
      "needs_background": "light",
      "tags": []
     },
     "output_type": "display_data"
    },
    {
     "name": "stdout",
     "output_type": "stream",
     "text": [
      "\n",
      "\n",
      "\n"
     ]
    }
   ],
   "source": [
    "# Somatório e Média de valores por Tipo de propriedades \n",
    "\n",
    "print(\"\\n\")\n",
    "\n",
    "df_sorted_desc = df[['property_type', 'price']].groupby('property_type').mean().reset_index().sort_values('price',ascending=False).iloc[:7]\n",
    "\n",
    "plt.figure(figsize=(16,8))\n",
    "plt.subplot(2,1,2) \n",
    "plt.bar(df_sorted_desc['property_type'],df_sorted_desc['price'],data=df_sorted_desc, edgecolor=\"black\",linewidth = 1, color = 'salmon', zorder = 3, alpha = 0.9)\n",
    "plt.grid(True, zorder = 0)\n",
    "plt.title(\"Média de valores por tipo de propriedade (Top 7)\")\n",
    "plt.xlabel('property_type')\n",
    "plt.show()\n",
    "\n",
    "df_sorted_desc = df[['property_type', 'price']].groupby('property_type').sum().reset_index().sort_values('price',ascending=False).iloc[:7]\n",
    "\n",
    "plt.figure(figsize=(16,8))\n",
    "plt.subplot(2,1,2) \n",
    "plt.bar(df_sorted_desc['property_type'],df_sorted_desc['price'],data=df_sorted_desc, edgecolor=\"black\",linewidth = 1, color = 'salmon', zorder = 3, alpha = 0.9)\n",
    "plt.grid(True, zorder = 0)\n",
    "plt.title(\"Somatória de valores por tipo de propriedade (Top 7)\")\n",
    "plt.xlabel('property_type')\n",
    "plt.show()\n",
    "\n",
    "\n",
    "print('\\n\\n')"
   ]
  },
  {
   "cell_type": "code",
   "execution_count": 15,
   "metadata": {
    "colab": {
     "base_uri": "https://localhost:8080/",
     "height": 535
    },
    "id": "88mVqcTy7Seq",
    "outputId": "7f3933ce-f47e-4073-bfb1-2dc6fc46a6a5"
   },
   "outputs": [
    {
     "data": {
      "image/png": "[encoded data removed]",
      "text/plain": [
       "<Figure size 1152x576 with 1 Axes>"
      ]
     },
     "metadata": {
      "needs_background": "light",
      "tags": []
     },
     "output_type": "display_data"
    },
    {
     "data": {
      "image/png": "[encoded data removed]",
      "text/plain": [
       "<Figure size 1152x576 with 1 Axes>"
      ]
     },
     "metadata": {
      "needs_background": "light",
      "tags": []
     },
     "output_type": "display_data"
    }
   ],
   "source": [
    "# Média de valor por Bairro \n",
    "\n",
    "\n",
    "df_sorted_desc = df[['neighborhood', 'price']].groupby('neighborhood').mean().reset_index().sort_values('price',ascending=False).iloc[:7]\n",
    "plt.figure(figsize=(16,8))\n",
    "plt.subplot(2,1,2) \n",
    "\n",
    "plt.bar(df_sorted_desc['neighborhood'],df_sorted_desc['price'],data=df_sorted_desc, edgecolor=\"black\",linewidth = 1, color = 'salmon', zorder = 3, alpha = 0.9)\n",
    "plt.grid(True, zorder = 0)\n",
    "plt.title(\"Media de valor por bairro (Top 7)\")\n",
    "plt.xlabel('neighborhood')\n",
    "plt.show()\n",
    "\n",
    "df_sorted_desc = df[['neighborhood', 'price']].groupby('neighborhood').sum().reset_index().sort_values('price',ascending=False).iloc[:7]\n",
    "plt.figure(figsize=(16,8))\n",
    "plt.subplot(2,1,2) \n",
    "\n",
    "plt.bar(df_sorted_desc['neighborhood'],df_sorted_desc['price'],data=df_sorted_desc, edgecolor=\"black\",linewidth = 1, color = 'salmon', zorder = 3, alpha = 0.9)\n",
    "plt.grid(True, zorder = 0)\n",
    "plt.title(\"Somatoria de valor por bairro (Top 7)\")\n",
    "plt.xlabel('neighborhood')\n",
    "plt.show()"
   ]
  },
  {
   "cell_type": "code",
   "execution_count": 16,
   "metadata": {
    "id": "PzNQ8uMtr2AA"
   },
   "outputs": [],
   "source": [
    "def scatter_plot_r(x, \n",
    "                   y, \n",
    "                   title_label, \n",
    "                   x_label, \n",
    "                   y_label):\n",
    "    \"\"\"\"Plota um gráfico de linhas com dados de previsão e de teste. \n",
    "    Args:\n",
    "          x: variavel independente\n",
    "          y: variavel dependente\n",
    "          title_label(str): título do gráfico.\n",
    "          x_label(str): Nome do label do eixo X.\n",
    "          y_label(str): Nome do label do eixo Y.\n",
    "    \"\"\"\n",
    "    #Calcula o coef. de Correlação\n",
    "    pearson = stats.pearsonr(x,y)[0]\n",
    "    # Determina o estilo\n",
    "    sns.set_style(\"whitegrid\", {'grid.linestyle': ':'})\n",
    "    # Determina o tamanho do gráfico.\n",
    "    fig, ax = plt.subplots(figsize=(9,8))\n",
    "    #plota o gráfico\n",
    "    ax = sns.regplot(x=x,\n",
    "                     y=y,\n",
    "                     robust = False, # True: ignora os outliers,demora mais para calcular a regressão linear\n",
    "                     scatter_kws={\"color\":'#0000CD',\"alpha\":0.2,\"s\":50},\n",
    "                     line_kws={\"color\":'#00FFFF',\"alpha\":0.9,\"lw\":1},\n",
    "                     label=\"Coeficiente de Correlação = {0:.2f}\".format(pearson))\n",
    "    #local da legenda\n",
    "    ax.legend(loc=\"best\")\n",
    "    #plota titulo\n",
    "    ax.set_title(title_label, size = 15, fontdict={'family': 'serif','color' : 'black','weight': 'bold'})\n",
    "    #plota eixo x\n",
    "    ax.set_xlabel(x_label, horizontalalignment='left', x=0, size = 14)\n",
    "    #plota eixo y\n",
    "    ax.set_ylabel(y_label,horizontalalignment='left', y=0, size = 14)\n",
    "    #retira as linhas que delimitam o gráfico\n",
    "    sns.despine(top=True, right=True, left=False, bottom=False)\n",
    "    #seta o Zero como limite\n",
    "    plt.ylim(ymin=0)  \n",
    "    #Mostra o gráfico\n",
    "    plt.show()"
   ]
  },
  {
   "cell_type": "code",
   "execution_count": 17,
   "metadata": {
    "colab": {
     "base_uri": "https://localhost:8080/",
     "height": 657
    },
    "id": "Mc60htTbzHAb",
    "outputId": "731e6a3f-f3a7-4e6a-d070-ec274a882edb"
   },
   "outputs": [
    {
     "name": "stdout",
     "output_type": "stream",
     "text": [
      "\n",
      "\n"
     ]
    },
    {
     "data": {
      "image/png": "[encoded data removed]",
      "text/plain": [
       "<Figure size 792x648 with 2 Axes>"
      ]
     },
     "metadata": {
      "needs_background": "light",
      "tags": []
     },
     "output_type": "display_data"
    }
   ],
   "source": [
    "# Gráfico de correlação de Pearson\n",
    "\n",
    "print(\"\\n\")\n",
    "\n",
    "corr_celular = df.corr()\n",
    "mask = np.triu(np.ones_like(corr_celular, dtype=bool))\n",
    "f, ax = plt.subplots(figsize=(11, 9))\n",
    "cmap = sns.diverging_palette(230, 20, as_cmap=True)\n",
    "sns.heatmap(corr_celular, mask=mask, cmap=cmap, center=0,square=True, linewidths=.5, cbar_kws={\"shrink\": .5}, annot=True)\n",
    "plt.show()"
   ]
  },
  {
   "cell_type": "code",
   "execution_count": 18,
   "metadata": {
    "colab": {
     "base_uri": "https://localhost:8080/",
     "height": 519
    },
    "id": "j9zmVhFFr7yz",
    "outputId": "82c9d322-f70e-4b96-a0ff-86f849630dcc"
   },
   "outputs": [
    {
     "data": {
      "image/png": "[encoded data removed]",
      "text/plain": [
       "<Figure size 648x576 with 1 Axes>"
      ]
     },
     "metadata": {
      "tags": []
     },
     "output_type": "display_data"
    }
   ],
   "source": [
    "scatter_plot_r(df['overall_satisfaction'], df['price'], \"Correlação entre Ranking de Satisfação e o Preço\", \"overall_satisfaction\", \"price\")"
   ]
  },
  {
   "cell_type": "markdown",
   "metadata": {
    "id": "R9g9XQGRz2z-"
   },
   "source": [
    "<br>\n",
    "\n",
    "\n",
    "analisando as correlações das váriaveis com o target <b> Price </b> identificamos que temos poucas correlações positivas, apenas as váriaveis <b> accommodates </b> e <b> bedrooms </b> com uma correlção de pearson por volta de 0.33 e .29 considerasas baixas.\n",
    "\n",
    "\n",
    "<br>\n",
    "\n"
   ]
  },
  {
   "cell_type": "markdown",
   "metadata": {
    "id": "Xg0wef0N8KEd"
   },
   "source": [
    "<br>\n",
    "<br>\n",
    "<hr>\n",
    "<br>\n",
    "<br>\n",
    "\n",
    "##### 3- Modelagem \n",
    "\n",
    "\n",
    "etapa que vamos modelar os dados para serem usados no treinamendo dos modelos\n",
    "\n",
    "\n",
    "<br>"
   ]
  },
  {
   "cell_type": "code",
   "execution_count": 19,
   "metadata": {
    "colab": {
     "base_uri": "https://localhost:8080/"
    },
    "id": "RCovYINK-szt",
    "outputId": "5fc9f325-c5fd-4246-82c8-98d1a0894bc7"
   },
   "outputs": [
    {
     "data": {
      "text/plain": [
       "room_id                 0\n",
       "room_type               0\n",
       "city                    0\n",
       "borough                 0\n",
       "neighborhood            0\n",
       "reviews                 0\n",
       "overall_satisfaction    0\n",
       "accommodates            0\n",
       "bedrooms                0\n",
       "price                   0\n",
       "property_type           0\n",
       "dtype: int64"
      ]
     },
     "execution_count": 19,
     "metadata": {
      "tags": []
     },
     "output_type": "execute_result"
    }
   ],
   "source": [
    "# valores nulos \n",
    "df.isnull().sum()"
   ]
  },
  {
   "cell_type": "code",
   "execution_count": 20,
   "metadata": {
    "id": "Rj_BNk7-_O6b"
   },
   "outputs": [],
   "source": [
    "# retirar variáveis \n",
    "df.drop(\"room_id\",  axis=1, inplace=True)"
   ]
  },
  {
   "cell_type": "code",
   "execution_count": 21,
   "metadata": {
    "id": "2-8mtCw17LX6"
   },
   "outputs": [],
   "source": [
    "# categóricas e numéricas \n",
    "cat_cols = df.select_dtypes(include=\"object\").columns\n",
    "num_cols = df.select_dtypes(exclude=\"object\").columns\n",
    "\n",
    "\n",
    "# dummies \n",
    "dummies = pd.get_dummies(df[cat_cols], prefix=cat_cols, drop_first=True)\n",
    "df = pd.concat([df, dummies], axis=1)\n",
    "df.drop(cat_cols, axis=1, inplace=True)"
   ]
  },
  {
   "cell_type": "markdown",
   "metadata": {
    "id": "wjPdUDdg7VEn"
   },
   "source": [
    "<br>\n",
    "<br>\n",
    "<hr>\n",
    "<br>\n",
    "<br>\n",
    "<br>\n",
    "\n",
    "\n",
    "#### 4- Validação Cruzada \n",
    "\n",
    "\n",
    "vamos aplicar validação cruzada utilizando o <b> KFold </b> nos três modelos principais. \n",
    "\n",
    "\n",
    "<br>\n",
    "<br>"
   ]
  },
  {
   "cell_type": "markdown",
   "metadata": {
    "id": "aq8URjtlFzE5"
   },
   "source": [
    "#### << Modelo de Regressão Linear -> 4º Lugar >>"
   ]
  },
  {
   "cell_type": "code",
   "execution_count": 22,
   "metadata": {
    "colab": {
     "base_uri": "https://localhost:8080/"
    },
    "id": "gwDFkxWgyynQ",
    "outputId": "482198d0-a416-48ff-b3cf-acaba345bef5"
   },
   "outputs": [
    {
     "name": "stdout",
     "output_type": "stream",
     "text": [
      "<<< Regressão Linear >>>\n",
      "\n",
      "\n",
      "_______________________\n",
      "\n",
      "\n",
      "Fold:  1\n",
      "Treino:  8894\n",
      "Teste:  2224\n",
      "-----------------------\n",
      "Validação Cruzada (RL):\n",
      "RMSE: 2173853908618.1912\n",
      "MSE: 4.7256408160145865e+24\n",
      "MAE: 86390699621.43973\n",
      "R2: -1.0653996987871665e+20\n",
      "_______________________\n",
      "\n",
      "\n",
      "Fold:  2\n",
      "Treino:  8894\n",
      "Teste:  2224\n",
      "-----------------------\n",
      "Validação Cruzada (RL):\n",
      "RMSE: 284.2248370499042\n",
      "MSE: 80783.75799604457\n",
      "MAE: 68.15942558453237\n",
      "R2: 0.09915235892041396\n",
      "_______________________\n",
      "\n",
      "\n",
      "Fold:  3\n",
      "Treino:  8894\n",
      "Teste:  2224\n",
      "-----------------------\n",
      "Validação Cruzada (RL):\n",
      "RMSE: 1266536525082.2634\n",
      "MSE: 1.6041147693674548e+24\n",
      "MAE: 38493889694.43728\n",
      "R2: -5.751587069467566e+19\n",
      "_______________________\n",
      "\n",
      "\n",
      "Fold:  4\n",
      "Treino:  8895\n",
      "Teste:  2223\n",
      "-----------------------\n",
      "Validação Cruzada (RL):\n",
      "RMSE: 267367233254.88776\n",
      "MSE: 7.148523741837355e+22\n",
      "MAE: 5670723281.039271\n",
      "R2: -4.456547679596728e+18\n",
      "_______________________\n",
      "\n",
      "\n",
      "Fold:  5\n",
      "Treino:  8895\n",
      "Teste:  2223\n",
      "-----------------------\n",
      "Validação Cruzada (RL):\n",
      "RMSE: 1700317674895.5132\n",
      "MSE: 2.8910801955620843e+24\n",
      "MAE: 36062874356.65206\n",
      "R2: -4.051635508746559e+19\n",
      "______________________________________________________\n",
      "Cross-Validation (Regressão Linear):\n",
      "-> RMSE (Root Mean Squared Error): 1081615068427.016;\n",
      "-> MSE (Mean Squared Error): 1.8584642036724997e+24;\n",
      "-> MAE (Mean Absolute Error): 33323637404.34556;\n",
      "-> R2 (Root Squared): -4.1805748668090925e+19.\n",
      "______________________________________________________\n"
     ]
    }
   ],
   "source": [
    "X = df.drop(\"price\", axis=1)\n",
    "y = df['price']\n",
    "\n",
    "# validação cruzada \n",
    "kfold = KFold(n_splits=5, shuffle=True, random_state=42) \n",
    "rmse_results = []\n",
    "mse_results = []\n",
    "mae_results = []\n",
    "r2_results = []\n",
    "\n",
    "fold = 0\n",
    "print('<<< Regressão Linear >>>')\n",
    "print('\\n')\n",
    "\n",
    "\n",
    "for train_index, test_index in kfold.split(X):\n",
    "    fold += 1\n",
    "    print('_'*23)\n",
    "    print(\"\\n\")\n",
    "    print('Fold: ', fold)\n",
    "    print('Treino: ',train_index.shape[0])\n",
    "    print('Teste: ', test_index.shape[0])\n",
    "    \n",
    "\n",
    "\n",
    "    # separando os dados \n",
    "    X_train, X_test = X.iloc[train_index], X.iloc[test_index]\n",
    "    y_train, y_test = y.iloc[train_index], y.iloc[test_index]  \n",
    "    \n",
    "\n",
    "    # Normalizer \n",
    "    normalizer = MinMaxScaler()\n",
    "    X_train = normalizer.fit_transform(X_train)\n",
    "    X_test = normalizer.transform(X_test)\n",
    "    \n",
    "    # modelo Linear Regressão\n",
    "    model = LinearRegression()\n",
    "    model.fit(X_train,y_train)\n",
    "    y_pred = model.predict(X_test)\n",
    "\n",
    "\n",
    "    # métricas \n",
    "    mse = mean_squared_error(y_test,y_pred)\n",
    "    rmse = np.sqrt(mean_squared_error(y_test, y_pred))\n",
    "    mae = mean_absolute_error(y_test,y_pred)\n",
    "    r2 = r2_score(y_test, y_pred)\n",
    "\n",
    "    mse_results.append(mse)\n",
    "    rmse_results.append(rmse)\n",
    "    mae_results.append(mae)\n",
    "    r2_results.append(r2)\n",
    "    \n",
    "    print('-'*23)\n",
    "    print('Validação Cruzada (RL):')\n",
    "    print('RMSE: {}'.format(rmse))\n",
    "    print('MSE: {}'.format(mse))\n",
    "    print('MAE: {}'.format(mae))\n",
    "    print(\"R2: {}\".format(r2))\n",
    "\n",
    "print('_'*54)\n",
    "print('Cross-Validation (Regressão Linear):')\n",
    "print('-> RMSE (Root Mean Squared Error): {};'.format(np.mean(rmse_results))) \n",
    "print('-> MSE (Mean Squared Error): {};'.format(np.mean(mse_results)))\n",
    "print('-> MAE (Mean Absolute Error): {};'.format(np.mean(mae_results))) \n",
    "print('-> R2 (Root Squared): {}.'.format(np.mean(r2_results)))\n",
    "print('_'*54)"
   ]
  },
  {
   "cell_type": "markdown",
   "metadata": {
    "id": "CpwZJgi3GnB4"
   },
   "source": [
    "#### << Modelo KNN -> 3º Lugar >>"
   ]
  },
  {
   "cell_type": "code",
   "execution_count": 23,
   "metadata": {
    "colab": {
     "base_uri": "https://localhost:8080/"
    },
    "id": "Ky6yj1XrH1hf",
    "outputId": "d6f07faf-d3d2-40cf-fe99-e636a23ddd26"
   },
   "outputs": [
    {
     "name": "stdout",
     "output_type": "stream",
     "text": [
      "<<< K Nearest Neighbors >>>\n",
      "\n",
      "\n",
      "_______________________\n",
      "\n",
      "\n",
      "Fold:  1\n",
      "Treino:  8894\n",
      "Teste:  2224\n",
      "-----------------------\n",
      "Validação Cruzada (KNN):\n",
      "RMSE: 199.9641354534005\n",
      "MSE: 39985.655467625904\n",
      "MAE: 58.224100719424456\n",
      "R2: 0.09852003252875752\n",
      "_______________________\n",
      "\n",
      "\n",
      "Fold:  2\n",
      "Treino:  8894\n",
      "Teste:  2224\n",
      "-----------------------\n",
      "Validação Cruzada (KNN):\n",
      "RMSE: 293.4955059832673\n",
      "MSE: 86139.61203237412\n",
      "MAE: 62.13767985611511\n",
      "R2: 0.03942737713842892\n",
      "_______________________\n",
      "\n",
      "\n",
      "Fold:  3\n",
      "Treino:  8894\n",
      "Teste:  2224\n",
      "-----------------------\n",
      "Validação Cruzada (KNN):\n",
      "RMSE: 150.40631109520035\n",
      "MSE: 22622.058417266187\n",
      "MAE: 52.80017985611511\n",
      "R2: 0.1888813620935923\n",
      "_______________________\n",
      "\n",
      "\n",
      "Fold:  4\n",
      "Treino:  8895\n",
      "Teste:  2223\n",
      "-----------------------\n",
      "Validação Cruzada (KNN):\n",
      "RMSE: 129.55534730837755\n",
      "MSE: 16784.58801619433\n",
      "MAE: 51.69113810166442\n",
      "R2: -0.04638831006151234\n",
      "_______________________\n",
      "\n",
      "\n",
      "Fold:  5\n",
      "Treino:  8895\n",
      "Teste:  2223\n",
      "-----------------------\n",
      "Validação Cruzada (KNN):\n",
      "RMSE: 260.5529702237103\n",
      "MSE: 67887.85029239766\n",
      "MAE: 64.68250112460638\n",
      "R2: 0.048601884930859596\n",
      "______________________________________________________\n",
      "Cross-Validation (K Nearest Neighbors):\n",
      "-> RMSE (Root Mean Squared Error): 206.7948540127912;\n",
      "-> MSE (Mean Squared Error): 46683.95284517163;\n",
      "-> MAE (Mean Absolute Error): 57.907119931585086.\n",
      "-> R2 (Root Squared): 0.0658084693260252\n",
      "______________________________________________________\n"
     ]
    }
   ],
   "source": [
    "X = df.drop(\"price\", axis=1)\n",
    "y = df['price']\n",
    "\n",
    "# validação cruzada \n",
    "kfold = KFold(n_splits=5, shuffle=True, random_state=42) \n",
    "\n",
    "rmse_results = []\n",
    "mse_results = []\n",
    "mae_results = []\n",
    "r2_results = []\n",
    "\n",
    "fold = 0\n",
    "print('<<< K Nearest Neighbors >>>')\n",
    "print('\\n')\n",
    "\n",
    "\n",
    "for train_index, test_index in kfold.split(X):\n",
    "    fold += 1\n",
    "    print('_'*23)\n",
    "    print(\"\\n\")\n",
    "    print('Fold: ', fold)\n",
    "    print('Treino: ',train_index.shape[0])\n",
    "    print('Teste: ', test_index.shape[0])\n",
    "    \n",
    "\n",
    "\n",
    "    # separando os dados \n",
    "    X_train, X_test = X.iloc[train_index], X.iloc[test_index]\n",
    "    y_train, y_test = y.iloc[train_index], y.iloc[test_index]  \n",
    "    \n",
    "\n",
    "    # Normalizer \n",
    "    normalizer = MinMaxScaler()\n",
    "    X_train = normalizer.fit_transform(X_train)\n",
    "    X_test = normalizer.transform(X_test)\n",
    "    \n",
    "    # modelo K Nearest Neighbors\n",
    "    model_knn = KNeighborsRegressor()\n",
    "    model_knn.fit(X_train,y_train)\n",
    "    y_pred_knn = model_knn.predict(X_test)\n",
    "\n",
    "\n",
    "    # métricas \n",
    "    mse = mean_squared_error(y_test,y_pred_knn)\n",
    "    rmse = np.sqrt(mean_squared_error(y_test, y_pred_knn))\n",
    "    mae = mean_absolute_error(y_test,y_pred_knn)\n",
    "    r2 = r2_score(y_test, y_pred_knn)\n",
    "\n",
    "    mse_results.append(mse)\n",
    "    rmse_results.append(rmse)\n",
    "    mae_results.append(mae)\n",
    "    r2_results.append(r2)\n",
    "    print('-'*23)\n",
    "    print('Validação Cruzada (KNN):')\n",
    "    print('RMSE: {}'.format(rmse))\n",
    "    print('MSE: {}'.format(mse))\n",
    "    print('MAE: {}'.format(mae))\n",
    "    print(\"R2: {}\".format(r2))\n",
    "\n",
    "print('_'*54)\n",
    "print('Cross-Validation (K Nearest Neighbors):')\n",
    "print('-> RMSE (Root Mean Squared Error): {};'.format(np.mean(rmse_results))) \n",
    "print('-> MSE (Mean Squared Error): {};'.format(np.mean(mse_results)))\n",
    "print('-> MAE (Mean Absolute Error): {}.'.format(np.mean(mae_results))) \n",
    "print('-> R2 (Root Squared): {}'.format(np.mean(r2_results)))\n",
    "print('_'*54)"
   ]
  },
  {
   "cell_type": "markdown",
   "metadata": {
    "id": "NwAJQ16MGGq6"
   },
   "source": [
    "#### << Modelo Random Forest Regressor -> 2º Lugar >>"
   ]
  },
  {
   "cell_type": "code",
   "execution_count": 24,
   "metadata": {
    "colab": {
     "base_uri": "https://localhost:8080/"
    },
    "id": "UG_j-D9fCNU2",
    "outputId": "a7d6bf9d-a317-4549-e910-284abf5c2808"
   },
   "outputs": [
    {
     "name": "stdout",
     "output_type": "stream",
     "text": [
      "<<< Random Forest >>>\n",
      "\n",
      "\n",
      "_______________________\n",
      "\n",
      "\n",
      "Fold:  1\n",
      "Treino:  8894\n",
      "Teste:  2224\n",
      "-----------------------\n",
      "Validação Cruzada (RF):\n",
      "RMSE: 178.0528608921545\n",
      "MSE: 31702.821271880926\n",
      "MAE: 51.43600315124222\n",
      "R2: 0.2852572265056157\n",
      "_______________________\n",
      "\n",
      "\n",
      "Fold:  2\n",
      "Treino:  8894\n",
      "Teste:  2224\n",
      "-----------------------\n",
      "Validação Cruzada (RF):\n",
      "RMSE: 311.58151063329615\n",
      "MSE: 97083.03776852683\n",
      "MAE: 60.68487853055054\n",
      "R2: -0.08260655027833597\n",
      "_______________________\n",
      "\n",
      "\n",
      "Fold:  3\n",
      "Treino:  8894\n",
      "Teste:  2224\n",
      "-----------------------\n",
      "Validação Cruzada (RF):\n",
      "RMSE: 148.5241226990191\n",
      "MSE: 22059.41502351328\n",
      "MAE: 46.610035413550676\n",
      "R2: 0.20905505870201302\n",
      "_______________________\n",
      "\n",
      "\n",
      "Fold:  4\n",
      "Treino:  8895\n",
      "Teste:  2223\n",
      "-----------------------\n",
      "Validação Cruzada (RF):\n",
      "RMSE: 126.17017917676712\n",
      "MSE: 15918.914113497518\n",
      "MAE: 45.64583725590843\n",
      "R2: 0.0075797141302816895\n",
      "_______________________\n",
      "\n",
      "\n",
      "Fold:  5\n",
      "Treino:  8895\n",
      "Teste:  2223\n",
      "-----------------------\n",
      "Validação Cruzada (RF):\n",
      "RMSE: 244.6976730740977\n",
      "MSE: 59876.951207877995\n",
      "MAE: 54.64972773691934\n",
      "R2: 0.16086872290252263\n",
      "______________________________________________________\n",
      "Cross-Validation (Random Forest):\n",
      "-> RMSE (Root Mean Squared Error): 201.80526929506692;\n",
      "-> MSE (Mean Squared Error): 45328.22787705931;\n",
      "-> MAE (Mean Absolute Error): 51.80529641763424.\n",
      "-> R2 (Root Squared): 0.11603083439241942\n",
      "______________________________________________________\n"
     ]
    }
   ],
   "source": [
    "X = df.drop(\"price\", axis=1)\n",
    "y = df['price']\n",
    "\n",
    "# validação cruzada \n",
    "kfold = KFold(n_splits=5, shuffle=True, random_state=42) \n",
    "rmse_results = []\n",
    "mse_results = []\n",
    "mae_results = []\n",
    "r2_results = []\n",
    "\n",
    "fold = 0\n",
    "print('<<< Random Forest >>>')\n",
    "print('\\n')\n",
    "\n",
    "\n",
    "for train_index, test_index in kfold.split(X):\n",
    "    fold += 1\n",
    "    print('_'*23)\n",
    "    print(\"\\n\")\n",
    "    print('Fold: ', fold)\n",
    "    print('Treino: ',train_index.shape[0])\n",
    "    print('Teste: ', test_index.shape[0])\n",
    "    \n",
    "\n",
    "\n",
    "    # separando os dados \n",
    "    X_train, X_test = X.iloc[train_index], X.iloc[test_index]\n",
    "    y_train, y_test = y.iloc[train_index], y.iloc[test_index]  \n",
    "    \n",
    "\n",
    "    # Normalizer \n",
    "    normalizer = MinMaxScaler()\n",
    "    X_train = normalizer.fit_transform(X_train)\n",
    "    X_test = normalizer.transform(X_test)\n",
    "    \n",
    "    # modelo Random Forest\n",
    "    model_rf = RandomForestRegressor()\n",
    "    model_rf.fit(X_train,y_train)\n",
    "    y_pred_rf = model_rf.predict(X_test)\n",
    "\n",
    "\n",
    "    # métricas \n",
    "    mse = mean_squared_error(y_test,y_pred_rf)\n",
    "    rmse = np.sqrt(mean_squared_error(y_test, y_pred_rf))\n",
    "    mae = mean_absolute_error(y_test,y_pred_rf)\n",
    "    r2 = r2_score(y_test, y_pred_rf)\n",
    "\n",
    "    mse_results.append(mse)\n",
    "    rmse_results.append(rmse)\n",
    "    mae_results.append(mae)\n",
    "    r2_results.append(r2)\n",
    "    print('-'*23)\n",
    "    print('Validação Cruzada (RF):')\n",
    "    print('RMSE: {}'.format(rmse))\n",
    "    print('MSE: {}'.format(mse))\n",
    "    print('MAE: {}'.format(mae))\n",
    "    print(\"R2: {}\".format(r2))\n",
    "\n",
    "print('_'*54)\n",
    "print('Cross-Validation (Random Forest):')\n",
    "print('-> RMSE (Root Mean Squared Error): {};'.format(np.mean(rmse_results))) \n",
    "print('-> MSE (Mean Squared Error): {};'.format(np.mean(mse_results)))\n",
    "print('-> MAE (Mean Absolute Error): {}.'.format(np.mean(mae_results))) \n",
    "print('-> R2 (Root Squared): {}'.format(np.mean(r2_results)))\n",
    "print('_'*54)"
   ]
  },
  {
   "cell_type": "markdown",
   "metadata": {
    "id": "D87LbIn1GUQ1"
   },
   "source": [
    "#### << Modelo Decision Tree -> 1º Lugar >>"
   ]
  },
  {
   "cell_type": "code",
   "execution_count": 25,
   "metadata": {
    "colab": {
     "base_uri": "https://localhost:8080/"
    },
    "id": "vNTj0vVMFpm8",
    "outputId": "bdd0bad6-a24e-44fe-8c9d-cc61065268e0"
   },
   "outputs": [
    {
     "name": "stdout",
     "output_type": "stream",
     "text": [
      "<<< Decision Tree >>>\n",
      "\n",
      "\n",
      "_______________________\n",
      "\n",
      "\n",
      "Fold:  1\n",
      "Treino:  8894\n",
      "Teste:  2224\n",
      "-----------------------\n",
      "Validação Cruzada (DT):\n",
      "RMSE: 85.82762992979082\n",
      "MSE: 7366.382059365124\n",
      "MAE: 29.667673449453346\n",
      "R2: 0.8339242965609562\n",
      "_______________________\n",
      "\n",
      "\n",
      "Fold:  2\n",
      "Treino:  8894\n",
      "Teste:  2224\n",
      "-----------------------\n",
      "Validação Cruzada (DT):\n",
      "RMSE: 153.47073177877394\n",
      "MSE: 23553.26551271237\n",
      "MAE: 35.12780241417033\n",
      "R2: 0.7373493855301086\n",
      "_______________________\n",
      "\n",
      "\n",
      "Fold:  3\n",
      "Treino:  8894\n",
      "Teste:  2224\n",
      "-----------------------\n",
      "Validação Cruzada (DT):\n",
      "RMSE: 87.75267861830828\n",
      "MSE: 7700.532604688098\n",
      "MAE: 28.588146338515944\n",
      "R2: 0.7238957922281191\n",
      "_______________________\n",
      "\n",
      "\n",
      "Fold:  4\n",
      "Treino:  8895\n",
      "Teste:  2223\n",
      "-----------------------\n",
      "Validação Cruzada (DT):\n",
      "RMSE: 68.46035914785257\n",
      "MSE: 4686.8207746529615\n",
      "MAE: 27.936501101857054\n",
      "R2: 0.7078132352597197\n",
      "_______________________\n",
      "\n",
      "\n",
      "Fold:  5\n",
      "Treino:  8895\n",
      "Teste:  2223\n",
      "-----------------------\n",
      "Validação Cruzada (DT):\n",
      "RMSE: 244.6976730740977\n",
      "MSE: 59876.951207877995\n",
      "MAE: 54.64972773691934\n",
      "R2: 0.16086872290252263\n",
      "______________________________________________________\n",
      "Cross-Validation (Decision Tree):\n",
      "-> RMSE (Root Mean Squared Error): 128.04181450976466;\n",
      "-> MSE (Mean Squared Error): 20636.79043185931;\n",
      "-> MAE (Mean Absolute Error): 35.1939702081832.\n",
      "-> R2 (Root Squared): 0.6327702864962852\n",
      "______________________________________________________\n"
     ]
    }
   ],
   "source": [
    "X = df.drop(\"price\", axis=1)\n",
    "y = df['price']\n",
    "\n",
    "# validação cruzada \n",
    "kfold = KFold(n_splits=5, shuffle=True, random_state=42) \n",
    "\n",
    "rmse_results = []\n",
    "mse_results = []\n",
    "mae_results = []\n",
    "r2_results = []\n",
    "\n",
    "fold = 0\n",
    "print('<<< Decision Tree >>>')\n",
    "print('\\n')\n",
    "\n",
    "\n",
    "for train_index, test_index in kfold.split(X):\n",
    "    fold += 1\n",
    "    print('_'*23)\n",
    "    print(\"\\n\")\n",
    "    print('Fold: ', fold)\n",
    "    print('Treino: ',train_index.shape[0])\n",
    "    print('Teste: ', test_index.shape[0])\n",
    "    \n",
    "\n",
    "\n",
    "    # separando os dados \n",
    "    X_train, X_test = X.iloc[train_index], X.iloc[test_index]\n",
    "    y_train, y_test = y.iloc[train_index], y.iloc[test_index]  \n",
    "    \n",
    "\n",
    "    # Normalizer \n",
    "    normalizer = MinMaxScaler()\n",
    "    X_train = normalizer.fit_transform(X_train)\n",
    "    X_test = normalizer.transform(X_test)\n",
    "    \n",
    "    # modelo Random Forest\n",
    "    model_dt = DecisionTreeRegressor(random_state=42)\n",
    "    model_dt.fit(X_train,y_train)\n",
    "    y_pred_dt = model_rf.predict(X_test)\n",
    "\n",
    "\n",
    "    # métricas \n",
    "    mse = mean_squared_error(y_test,y_pred_dt)\n",
    "    rmse = np.sqrt(mean_squared_error(y_test, y_pred_dt))\n",
    "    mae = mean_absolute_error(y_test,y_pred_dt)\n",
    "    r2 = r2_score(y_test, y_pred_dt)\n",
    "\n",
    "    mse_results.append(mse)\n",
    "    rmse_results.append(rmse)\n",
    "    mae_results.append(mae)\n",
    "    r2_results.append(r2)\n",
    "    print('-'*23)\n",
    "    print('Validação Cruzada (DT):')\n",
    "    print('RMSE: {}'.format(rmse))\n",
    "    print('MSE: {}'.format(mse))\n",
    "    print('MAE: {}'.format(mae))\n",
    "    print(\"R2: {}\".format(r2))\n",
    "\n",
    "print('_'*54)\n",
    "print('Cross-Validation (Decision Tree):')\n",
    "print('-> RMSE (Root Mean Squared Error): {};'.format(np.mean(rmse_results))) \n",
    "print('-> MSE (Mean Squared Error): {};'.format(np.mean(mse_results)))\n",
    "print('-> MAE (Mean Absolute Error): {}.'.format(np.mean(mae_results))) \n",
    "print('-> R2 (Root Squared): {}'.format(np.mean(r2_results)))\n",
    "print('_'*54)"
   ]
  },
  {
   "cell_type": "markdown",
   "metadata": {
    "id": "73A08tnaMpyW"
   },
   "source": [
    "<br>\n",
    "<br>\n",
    "<br>\n",
    "<hr>\n",
    "<br>\n",
    "<br>\n",
    "<br>\n",
    "\n",
    "\n",
    "5- Tuning de Hiperparâmetros \n",
    "\n",
    "<br>\n",
    "<br>\n",
    "\n",
    "\n",
    "\n",
    "###### Random Forest Tunning \n",
    "\n",
    "\n",
    "<br>"
   ]
  },
  {
   "cell_type": "code",
   "execution_count": 26,
   "metadata": {
    "id": "TUssj3ykNfuj"
   },
   "outputs": [],
   "source": [
    "from hyperopt import hp, fmin, Trials, tpe"
   ]
  },
  {
   "cell_type": "code",
   "execution_count": 27,
   "metadata": {
    "id": "irNXlgaGMsOV"
   },
   "outputs": [],
   "source": [
    "# objective function \n",
    "def objective(params):\n",
    "    return -np.sqrt(mean_squared_error(y_test, y_pred))"
   ]
  },
  {
   "cell_type": "code",
   "execution_count": 28,
   "metadata": {
    "id": "ZRR_bdsLM5SY"
   },
   "outputs": [],
   "source": [
    "spaces_random_forest={'n_estimators': hp.randint('n_estimators', 1200),\n",
    "                  'max_depth': hp.randint('max_depth', 30),\n",
    "                  'min_samples_split': hp.uniform('min_samples_split', 0.0, 1.0),\n",
    "                  'min_samples_leaf': hp.uniform('min_samples_leaf', 0, 0.5),\n",
    "                  'min_weight_fraction_leaf': hp.uniform('min_weight_fraction_leaf', 0.0, 0.10),\n",
    "                  'min_impurity_decrease': hp.uniform('min_impurity_decrease', 0.0, 0.10)}"
   ]
  },
  {
   "cell_type": "code",
   "execution_count": 29,
   "metadata": {
    "colab": {
     "base_uri": "https://localhost:8080/"
    },
    "id": "s-ZTU1i4NkoN",
    "outputId": "f4efbee3-0523-45a5-a424-43930e25cba4"
   },
   "outputs": [
    {
     "name": "stdout",
     "output_type": "stream",
     "text": [
      "100%|██████████| 50/50 [00:00<00:00, 90.72it/s, best loss: -1700317674895.5132]\n"
     ]
    }
   ],
   "source": [
    "trials = Trials()\n",
    "random_tunning = fmin(objective, spaces_random_forest, algo=tpe.suggest, max_evals=50, trials=trials, verbose=1)"
   ]
  },
  {
   "cell_type": "code",
   "execution_count": 30,
   "metadata": {
    "colab": {
     "base_uri": "https://localhost:8080/"
    },
    "id": "YMmWPrVLNwAp",
    "outputId": "bd8cc0a8-c07b-4c71-fc94-8c70eee25ba2"
   },
   "outputs": [
    {
     "name": "stdout",
     "output_type": "stream",
     "text": [
      "RMSE: 267.1835783744337\n",
      "R2: -0.00043702022507052796\n"
     ]
    }
   ],
   "source": [
    "rnd_forest = RandomForestRegressor(**random_tunning, random_state=49)\n",
    "rnd_forest.fit(X_train, y_train)\n",
    "y_pred_tunning_forest = rnd_forest.predict(X_test)\n",
    "\n",
    "\n",
    "print(f\"RMSE: {np.sqrt(mean_squared_error(y_test, y_pred_tunning_forest))}\")\n",
    "print(f\"R2: {r2_score(y_test, y_pred_tunning_forest)}\")"
   ]
  },
  {
   "cell_type": "markdown",
   "metadata": {
    "id": "hCCBNrp1OpL1"
   },
   "source": [
    "<br>\n",
    "<br>\n",
    "<br>\n",
    "<hr>\n",
    "<br>\n",
    "<br>\n",
    "\n",
    "\n",
    "###### Tuning Árvore de decisão\n",
    "\n",
    "\n",
    "<br>\n",
    "<br>"
   ]
  },
  {
   "cell_type": "code",
   "execution_count": 31,
   "metadata": {
    "id": "xC9z_XUaOW2G"
   },
   "outputs": [],
   "source": [
    "spaces_decision_tree ={\n",
    "                      'max_depth': hp.randint('max_depth', 30),\n",
    "                      'min_samples_split': hp.uniform('min_samples_split', 0.0, 1.0),\n",
    "                      'min_samples_leaf': hp.uniform('min_samples_leaf', 0, 0.5)}  "
   ]
  },
  {
   "cell_type": "code",
   "execution_count": 32,
   "metadata": {
    "colab": {
     "base_uri": "https://localhost:8080/"
    },
    "id": "z0cD__dzPRbC",
    "outputId": "83dc5ab4-6aac-47d8-cfa6-f9656c682cf2"
   },
   "outputs": [
    {
     "name": "stdout",
     "output_type": "stream",
     "text": [
      "100%|██████████| 50/50 [00:00<00:00, 155.72it/s, best loss: -1700317674895.5132]\n"
     ]
    }
   ],
   "source": [
    "trials = Trials()\n",
    "tree_tunning = fmin(objective, spaces_decision_tree, algo=tpe.suggest, max_evals=50, trials=trials, verbose=1)"
   ]
  },
  {
   "cell_type": "code",
   "execution_count": 33,
   "metadata": {
    "colab": {
     "base_uri": "https://localhost:8080/"
    },
    "id": "y37JDFZvPU5n",
    "outputId": "1298d5bc-d873-4a01-bc7d-96b012d29e21"
   },
   "outputs": [
    {
     "name": "stdout",
     "output_type": "stream",
     "text": [
      "RMSE: 262.23133561619665\n",
      "R2: 0.03630544798127455\n"
     ]
    }
   ],
   "source": [
    "decision_tree = DecisionTreeRegressor(**tree_tunning, random_state=49)\n",
    "decision_tree.fit(X_train, y_train)\n",
    "y_pred_tree = decision_tree.predict(X_test)\n",
    "\n",
    "\n",
    "print(f\"RMSE: {np.sqrt(mean_squared_error(y_test, y_pred_tree))}\")\n",
    "print(f\"R2: {r2_score(y_test, y_pred_tree)}\")"
   ]
  },
  {
   "cell_type": "markdown",
   "metadata": {
    "id": "34nXOLvOPpVb"
   },
   "source": [
    "<br>\n",
    "<br>\n",
    "<br>\n",
    "<hr>\n",
    "<br>\n",
    "<br>\n",
    "<br>"
   ]
  }
 ],
 "metadata": {
  "colab": {
   "collapsed_sections": [],
   "name": "ml-aplicado-airbnb.ipynb",
   "provenance": [],
   "toc_visible": true
  },
  "kernelspec": {
   "display_name": "Python 3",
   "language": "python",
   "name": "python3"
  },
  "language_info": {
   "codemirror_mode": {
    "name": "ipython",
    "version": 3
   },
   "file_extension": ".py",
   "mimetype": "text/x-python",
   "name": "python",
   "nbconvert_exporter": "python",
   "pygments_lexer": "ipython3",
   "version": "3.8.5"
  }
 },
 "nbformat": 4,
 "nbformat_minor": 1
}
