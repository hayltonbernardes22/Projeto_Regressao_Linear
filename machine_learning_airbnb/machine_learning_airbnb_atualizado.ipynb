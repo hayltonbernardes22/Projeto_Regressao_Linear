{
 "cells": [
  {
   "cell_type": "markdown",
   "metadata": {
    "id": "4gc0bpWWaUIg"
   },
   "source": [
    "### Machine learning aplicado ao Airbnb \n",
    "\n",
    "\n",
    "<br>\n",
    "\n",
    "##### <b> Problema de negócio </b> \n",
    "\n",
    "<br>\n",
    "\n",
    "Em sua jornada profissional, Gulliver entendeu ser pertinente desenvolver modelos de aprendizagem de máquina voltados para compreender os preços de hospedagens. Para isso, optou por usar uma base de dados proveniente da AirBNB para São Paulo e, com algumas features coletadas, esteves foi desenvolver um modelo de regressão linear em três algoritmos de regressão: regressão linear múltipla, árvores de regressão e random-forest.\n",
    " Inspirado na necessidade de Gulliver, estamos fazendo uso de dados da AirBNB de São Paulo com o objetivo de desenvolver três modelos para predizer o preço de uma hospedagem no AirBNB para São Paulo, e utilizar o melhor deles como nossa solução final.\n",
    "\n",
    "\n",
    "\n",
    "\n",
    "<br>\n",
    "<br>\n",
    "\n",
    "<img src=\"https://aloalobahia.com/images/p/airnbccrescimentoe_alo_alo_bahia.jpg\">\n",
    "\n",
    "<br>\n",
    "<hr>\n",
    "<br>\n",
    "<br>\n",
    "<br>\n",
    "<br>\n",
    "\n",
    "\n",
    "\n",
    "<br>\n",
    "<br>"
   ]
  },
  {
   "cell_type": "markdown",
   "metadata": {
    "id": "djkqBJuzbCDk"
   },
   "source": [
    "#### 1- bibliotecas a leitura dos dados \n",
    "\n",
    "vamos iniciar importando os pacotes necessários para esse projeto de Machine learning, e a carga dos dados.\n",
    "\n",
    "\n",
    "\n",
    "<br>"
   ]
  },
  {
   "cell_type": "code",
   "execution_count": 1,
   "metadata": {
    "colab": {
     "base_uri": "https://localhost:8080/"
    },
    "id": "dAak22DndCM1",
    "outputId": "a44f625b-9882-440a-b38f-6869ba7c9a25"
   },
   "outputs": [
    {
     "name": "stdout",
     "output_type": "stream",
     "text": [
      "Requirement already satisfied: bayesian-optimization in d:\\anaconda\\lib\\site-packages (1.2.0)\n",
      "Requirement already satisfied: numpy>=1.9.0 in d:\\anaconda\\lib\\site-packages (from bayesian-optimization) (1.20.1)\n",
      "Requirement already satisfied: scipy>=0.14.0 in d:\\anaconda\\lib\\site-packages (from bayesian-optimization) (1.6.2)\n",
      "Requirement already satisfied: scikit-learn>=0.18.0 in d:\\anaconda\\lib\\site-packages (from bayesian-optimization) (0.24.1)\n",
      "Requirement already satisfied: threadpoolctl>=2.0.0 in d:\\anaconda\\lib\\site-packages (from scikit-learn>=0.18.0->bayesian-optimization) (2.1.0)\n",
      "Requirement already satisfied: joblib>=0.11 in d:\\anaconda\\lib\\site-packages (from scikit-learn>=0.18.0->bayesian-optimization) (1.0.1)\n",
      "Requirement already satisfied: hyperopt in d:\\anaconda\\lib\\site-packages (0.2.5)\n",
      "Requirement already satisfied: future in d:\\anaconda\\lib\\site-packages (from hyperopt) (0.18.2)\n",
      "Requirement already satisfied: six in d:\\anaconda\\lib\\site-packages (from hyperopt) (1.15.0)\n",
      "Requirement already satisfied: cloudpickle in d:\\anaconda\\lib\\site-packages (from hyperopt) (1.6.0)\n",
      "Requirement already satisfied: networkx>=2.2 in d:\\anaconda\\lib\\site-packages (from hyperopt) (2.5)\n",
      "Requirement already satisfied: tqdm in d:\\anaconda\\lib\\site-packages (from hyperopt) (4.59.0)\n",
      "Requirement already satisfied: numpy in d:\\anaconda\\lib\\site-packages (from hyperopt) (1.20.1)\n",
      "Requirement already satisfied: scipy in d:\\anaconda\\lib\\site-packages (from hyperopt) (1.6.2)\n",
      "Requirement already satisfied: decorator>=4.3.0 in d:\\anaconda\\lib\\site-packages (from networkx>=2.2->hyperopt) (5.0.6)\n",
      "Requirement already satisfied: eli5 in d:\\anaconda\\lib\\site-packages (0.11.0)\n",
      "Requirement already satisfied: six in d:\\anaconda\\lib\\site-packages (from eli5) (1.15.0)\n",
      "Requirement already satisfied: scikit-learn>=0.20 in d:\\anaconda\\lib\\site-packages (from eli5) (0.24.1)\n",
      "Requirement already satisfied: attrs>16.0.0 in d:\\anaconda\\lib\\site-packages (from eli5) (20.3.0)\n",
      "Requirement already satisfied: scipy in d:\\anaconda\\lib\\site-packages (from eli5) (1.6.2)\n",
      "Requirement already satisfied: numpy>=1.9.0 in d:\\anaconda\\lib\\site-packages (from eli5) (1.20.1)\n",
      "Requirement already satisfied: tabulate>=0.7.7 in d:\\anaconda\\lib\\site-packages (from eli5) (0.8.9)\n",
      "Requirement already satisfied: graphviz in d:\\anaconda\\lib\\site-packages (from eli5) (0.16)\n",
      "Requirement already satisfied: jinja2 in d:\\anaconda\\lib\\site-packages (from eli5) (2.11.3)\n",
      "Requirement already satisfied: joblib>=0.11 in d:\\anaconda\\lib\\site-packages (from scikit-learn>=0.20->eli5) (1.0.1)\n",
      "Requirement already satisfied: threadpoolctl>=2.0.0 in d:\\anaconda\\lib\\site-packages (from scikit-learn>=0.20->eli5) (2.1.0)\n",
      "Requirement already satisfied: MarkupSafe>=0.23 in d:\\anaconda\\lib\\site-packages (from jinja2->eli5) (1.1.1)\n"
     ]
    }
   ],
   "source": [
    "!pip install bayesian-optimization\n",
    "!pip install hyperopt\n",
    "!pip install eli5"
   ]
  },
  {
   "cell_type": "code",
   "execution_count": 62,
   "metadata": {
    "id": "XxVNJ1zPbXpL"
   },
   "outputs": [],
   "source": [
    "# bibliotecas \n",
    "import os \n",
    "import numpy as np \n",
    "import pandas as pd\n",
    "import matplotlib.pyplot as plt\n",
    "import seaborn as sns\n",
    "\n",
    "import eli5\n",
    "from eli5 import show_weights\n",
    "from eli5 import show_prediction\n",
    "\n",
    "import random\n",
    "\n",
    "import warnings\n",
    "warnings.filterwarnings(\"ignore\")\n",
    "\n",
    "from bayes_opt import BayesianOptimization\n",
    "\n",
    "from scipy import stats\n",
    "from sklearn.linear_model import LinearRegression\n",
    "from sklearn.neighbors import KNeighborsRegressor\n",
    "from sklearn.preprocessing import OneHotEncoder, LabelEncoder\n",
    "from sklearn.model_selection import train_test_split, KFold, RandomizedSearchCV\n",
    "from sklearn.preprocessing import StandardScaler, MinMaxScaler, Normalizer\n",
    "from sklearn.tree import DecisionTreeRegressor\n",
    "from sklearn.ensemble import RandomForestRegressor, GradientBoostingRegressor\n",
    "from sklearn.metrics import mean_absolute_error, mean_squared_error, r2_score\n",
    "\n",
    "# Personalizar o print #\n",
    "class color: # para formatar os prints\n",
    "   PURPLE = '\\033[95m'\n",
    "   CYAN = '\\033[96m'\n",
    "   DARKCYAN = '\\033[36m'\n",
    "   BLUE = '\\033[94m'\n",
    "   GREEN = '\\033[92m'\n",
    "   YELLOW = '\\033[93m'\n",
    "   RED = '\\033[91m'\n",
    "   BOLD = '\\033[1m'\n",
    "   UNDERLINE = '\\033[4m'\n",
    "   END = '\\033[0m'"
   ]
  },
  {
   "cell_type": "code",
   "execution_count": 3,
   "metadata": {
    "colab": {
     "base_uri": "https://localhost:8080/",
     "height": 196
    },
    "id": "kDeqcjE5aO_u",
    "outputId": "ef8a724b-1065-48a7-b9f1-662f5c69f22e"
   },
   "outputs": [
    {
     "data": {
      "text/html": [
       "<div>\n",
       "<style scoped>\n",
       "    .dataframe tbody tr th:only-of-type {\n",
       "        vertical-align: middle;\n",
       "    }\n",
       "\n",
       "    .dataframe tbody tr th {\n",
       "        vertical-align: top;\n",
       "    }\n",
       "\n",
       "    .dataframe thead th {\n",
       "        text-align: right;\n",
       "    }\n",
       "</style>\n",
       "<table border=\"1\" class=\"dataframe\">\n",
       "  <thead>\n",
       "    <tr style=\"text-align: right;\">\n",
       "      <th></th>\n",
       "      <th>room_id</th>\n",
       "      <th>room_type</th>\n",
       "      <th>city</th>\n",
       "      <th>borough</th>\n",
       "      <th>neighborhood</th>\n",
       "      <th>reviews</th>\n",
       "      <th>overall_satisfaction</th>\n",
       "      <th>accommodates</th>\n",
       "      <th>bedrooms</th>\n",
       "      <th>price</th>\n",
       "      <th>property_type</th>\n",
       "    </tr>\n",
       "  </thead>\n",
       "  <tbody>\n",
       "    <tr>\n",
       "      <th>0</th>\n",
       "      <td>3732200</td>\n",
       "      <td>Shared room</td>\n",
       "      <td>Sao Paulo</td>\n",
       "      <td>SAO PAULO</td>\n",
       "      <td>Mooca</td>\n",
       "      <td>0</td>\n",
       "      <td>0.0</td>\n",
       "      <td>5</td>\n",
       "      <td>1.0</td>\n",
       "      <td>47.0</td>\n",
       "      <td>House</td>\n",
       "    </tr>\n",
       "    <tr>\n",
       "      <th>1</th>\n",
       "      <td>2247926</td>\n",
       "      <td>Shared room</td>\n",
       "      <td>Sao Paulo</td>\n",
       "      <td>SAO PAULO</td>\n",
       "      <td>Pinheiros</td>\n",
       "      <td>0</td>\n",
       "      <td>0.0</td>\n",
       "      <td>16</td>\n",
       "      <td>1.0</td>\n",
       "      <td>21.0</td>\n",
       "      <td>Bed &amp; Breakfast</td>\n",
       "    </tr>\n",
       "    <tr>\n",
       "      <th>2</th>\n",
       "      <td>2674673</td>\n",
       "      <td>Shared room</td>\n",
       "      <td>Sao Paulo</td>\n",
       "      <td>SAO PAULO</td>\n",
       "      <td>Itaquera</td>\n",
       "      <td>0</td>\n",
       "      <td>0.0</td>\n",
       "      <td>8</td>\n",
       "      <td>1.0</td>\n",
       "      <td>311.0</td>\n",
       "      <td>House</td>\n",
       "    </tr>\n",
       "    <tr>\n",
       "      <th>3</th>\n",
       "      <td>2996011</td>\n",
       "      <td>Shared room</td>\n",
       "      <td>Sao Paulo</td>\n",
       "      <td>SAO PAULO</td>\n",
       "      <td>Penha</td>\n",
       "      <td>0</td>\n",
       "      <td>0.0</td>\n",
       "      <td>5</td>\n",
       "      <td>1.0</td>\n",
       "      <td>389.0</td>\n",
       "      <td>Apartment</td>\n",
       "    </tr>\n",
       "    <tr>\n",
       "      <th>4</th>\n",
       "      <td>2939182</td>\n",
       "      <td>Shared room</td>\n",
       "      <td>Sao Paulo</td>\n",
       "      <td>SAO PAULO</td>\n",
       "      <td>Iguatemi</td>\n",
       "      <td>0</td>\n",
       "      <td>0.0</td>\n",
       "      <td>4</td>\n",
       "      <td>1.0</td>\n",
       "      <td>311.0</td>\n",
       "      <td>House</td>\n",
       "    </tr>\n",
       "  </tbody>\n",
       "</table>\n",
       "</div>"
      ],
      "text/plain": [
       "   room_id    room_type       city    borough neighborhood  reviews  \\\n",
       "0  3732200  Shared room  Sao Paulo  SAO PAULO        Mooca        0   \n",
       "1  2247926  Shared room  Sao Paulo  SAO PAULO    Pinheiros        0   \n",
       "2  2674673  Shared room  Sao Paulo  SAO PAULO     Itaquera        0   \n",
       "3  2996011  Shared room  Sao Paulo  SAO PAULO        Penha        0   \n",
       "4  2939182  Shared room  Sao Paulo  SAO PAULO     Iguatemi        0   \n",
       "\n",
       "   overall_satisfaction  accommodates  bedrooms  price    property_type  \n",
       "0                   0.0             5       1.0   47.0            House  \n",
       "1                   0.0            16       1.0   21.0  Bed & Breakfast  \n",
       "2                   0.0             8       1.0  311.0            House  \n",
       "3                   0.0             5       1.0  389.0        Apartment  \n",
       "4                   0.0             4       1.0  311.0            House  "
      ]
     },
     "execution_count": 3,
     "metadata": {},
     "output_type": "execute_result"
    }
   ],
   "source": [
    "path = \"dataset_airbnb.csv\"\n",
    "df = pd.read_csv(path, sep=\";\")\n",
    "df.head()"
   ]
  },
  {
   "cell_type": "code",
   "execution_count": 4,
   "metadata": {
    "colab": {
     "base_uri": "https://localhost:8080/"
    },
    "id": "KDtxjUc4pdB2",
    "outputId": "b6ea2558-409d-410c-8025-e1696b62edb6"
   },
   "outputs": [
    {
     "data": {
      "text/plain": [
       "0      5275\n",
       "1      1134\n",
       "2       658\n",
       "3       502\n",
       "4       391\n",
       "       ... \n",
       "100       1\n",
       "116       1\n",
       "132       1\n",
       "180       1\n",
       "167       1\n",
       "Name: reviews, Length: 128, dtype: int64"
      ]
     },
     "execution_count": 4,
     "metadata": {},
     "output_type": "execute_result"
    }
   ],
   "source": [
    "df[\"reviews\"].value_counts()"
   ]
  },
  {
   "cell_type": "code",
   "execution_count": 5,
   "metadata": {
    "colab": {
     "base_uri": "https://localhost:8080/"
    },
    "id": "6m9XfGQkcLZE",
    "outputId": "a18186a7-0e40-4c9f-ca57-ff2c2937c7d8"
   },
   "outputs": [
    {
     "name": "stdout",
     "output_type": "stream",
     "text": [
      "número de linhas: 11118 | número de colunas: 11\n"
     ]
    }
   ],
   "source": [
    "# número de linhas e colunas  \n",
    "print(f\"número de linhas: {df.shape[0]} | número de colunas: {df.shape[1]}\")"
   ]
  },
  {
   "cell_type": "code",
   "execution_count": 6,
   "metadata": {
    "colab": {
     "base_uri": "https://localhost:8080/"
    },
    "id": "YRpu9X0_gclW",
    "outputId": "64a89962-3fb5-4e35-a473-ce865ac5402b"
   },
   "outputs": [
    {
     "name": "stdout",
     "output_type": "stream",
     "text": [
      "<class 'pandas.core.frame.DataFrame'>\n",
      "RangeIndex: 11118 entries, 0 to 11117\n",
      "Data columns (total 11 columns):\n",
      " #   Column                Non-Null Count  Dtype  \n",
      "---  ------                --------------  -----  \n",
      " 0   room_id               11118 non-null  int64  \n",
      " 1   room_type             11118 non-null  object \n",
      " 2   city                  11118 non-null  object \n",
      " 3   borough               11118 non-null  object \n",
      " 4   neighborhood          11118 non-null  object \n",
      " 5   reviews               11118 non-null  int64  \n",
      " 6   overall_satisfaction  11118 non-null  float64\n",
      " 7   accommodates          11118 non-null  int64  \n",
      " 8   bedrooms              11118 non-null  float64\n",
      " 9   price                 11118 non-null  float64\n",
      " 10  property_type         11118 non-null  object \n",
      "dtypes: float64(3), int64(3), object(5)\n",
      "memory usage: 955.6+ KB\n"
     ]
    }
   ],
   "source": [
    "df.info()"
   ]
  },
  {
   "cell_type": "code",
   "execution_count": 7,
   "metadata": {
    "colab": {
     "base_uri": "https://localhost:8080/"
    },
    "id": "krmnHGJrcdJl",
    "outputId": "68a8fd11-1b90-4a2b-a6af-64b5e0f5b9c4"
   },
   "outputs": [
    {
     "data": {
      "text/plain": [
       "room_id                   int64\n",
       "room_type                object\n",
       "city                     object\n",
       "borough                  object\n",
       "neighborhood             object\n",
       "reviews                   int64\n",
       "overall_satisfaction    float64\n",
       "accommodates              int64\n",
       "bedrooms                float64\n",
       "price                   float64\n",
       "property_type            object\n",
       "dtype: object"
      ]
     },
     "execution_count": 7,
     "metadata": {},
     "output_type": "execute_result"
    }
   ],
   "source": [
    "# tipo das colunas \n",
    "df.dtypes"
   ]
  },
  {
   "cell_type": "code",
   "execution_count": 8,
   "metadata": {
    "colab": {
     "base_uri": "https://localhost:8080/",
     "height": 286
    },
    "id": "ea8SPFYOfaPb",
    "outputId": "736be1f0-04cc-4f10-ce3c-9f974b859ed6"
   },
   "outputs": [
    {
     "data": {
      "text/html": [
       "<div>\n",
       "<style scoped>\n",
       "    .dataframe tbody tr th:only-of-type {\n",
       "        vertical-align: middle;\n",
       "    }\n",
       "\n",
       "    .dataframe tbody tr th {\n",
       "        vertical-align: top;\n",
       "    }\n",
       "\n",
       "    .dataframe thead th {\n",
       "        text-align: right;\n",
       "    }\n",
       "</style>\n",
       "<table border=\"1\" class=\"dataframe\">\n",
       "  <thead>\n",
       "    <tr style=\"text-align: right;\">\n",
       "      <th></th>\n",
       "      <th>room_id</th>\n",
       "      <th>reviews</th>\n",
       "      <th>overall_satisfaction</th>\n",
       "      <th>accommodates</th>\n",
       "      <th>bedrooms</th>\n",
       "      <th>price</th>\n",
       "    </tr>\n",
       "  </thead>\n",
       "  <tbody>\n",
       "    <tr>\n",
       "      <th>count</th>\n",
       "      <td>1.111800e+04</td>\n",
       "      <td>11118.000000</td>\n",
       "      <td>11118.000000</td>\n",
       "      <td>11118.000000</td>\n",
       "      <td>11118.000000</td>\n",
       "      <td>11118.000000</td>\n",
       "    </tr>\n",
       "    <tr>\n",
       "      <th>mean</th>\n",
       "      <td>1.097865e+07</td>\n",
       "      <td>6.164598</td>\n",
       "      <td>1.752339</td>\n",
       "      <td>3.040295</td>\n",
       "      <td>1.317143</td>\n",
       "      <td>84.027613</td>\n",
       "    </tr>\n",
       "    <tr>\n",
       "      <th>std</th>\n",
       "      <td>6.087036e+06</td>\n",
       "      <td>14.204120</td>\n",
       "      <td>2.322813</td>\n",
       "      <td>2.345101</td>\n",
       "      <td>0.897948</td>\n",
       "      <td>223.382397</td>\n",
       "    </tr>\n",
       "    <tr>\n",
       "      <th>min</th>\n",
       "      <td>1.077400e+04</td>\n",
       "      <td>0.000000</td>\n",
       "      <td>0.000000</td>\n",
       "      <td>1.000000</td>\n",
       "      <td>0.000000</td>\n",
       "      <td>3.000000</td>\n",
       "    </tr>\n",
       "    <tr>\n",
       "      <th>25%</th>\n",
       "      <td>4.758136e+06</td>\n",
       "      <td>0.000000</td>\n",
       "      <td>0.000000</td>\n",
       "      <td>2.000000</td>\n",
       "      <td>1.000000</td>\n",
       "      <td>25.000000</td>\n",
       "    </tr>\n",
       "    <tr>\n",
       "      <th>50%</th>\n",
       "      <td>1.233381e+07</td>\n",
       "      <td>1.000000</td>\n",
       "      <td>0.000000</td>\n",
       "      <td>2.000000</td>\n",
       "      <td>1.000000</td>\n",
       "      <td>43.000000</td>\n",
       "    </tr>\n",
       "    <tr>\n",
       "      <th>75%</th>\n",
       "      <td>1.646424e+07</td>\n",
       "      <td>6.000000</td>\n",
       "      <td>4.500000</td>\n",
       "      <td>4.000000</td>\n",
       "      <td>2.000000</td>\n",
       "      <td>72.000000</td>\n",
       "    </tr>\n",
       "    <tr>\n",
       "      <th>max</th>\n",
       "      <td>1.962464e+07</td>\n",
       "      <td>248.000000</td>\n",
       "      <td>5.000000</td>\n",
       "      <td>16.000000</td>\n",
       "      <td>10.000000</td>\n",
       "      <td>10905.000000</td>\n",
       "    </tr>\n",
       "  </tbody>\n",
       "</table>\n",
       "</div>"
      ],
      "text/plain": [
       "            room_id       reviews  overall_satisfaction  accommodates  \\\n",
       "count  1.111800e+04  11118.000000          11118.000000  11118.000000   \n",
       "mean   1.097865e+07      6.164598              1.752339      3.040295   \n",
       "std    6.087036e+06     14.204120              2.322813      2.345101   \n",
       "min    1.077400e+04      0.000000              0.000000      1.000000   \n",
       "25%    4.758136e+06      0.000000              0.000000      2.000000   \n",
       "50%    1.233381e+07      1.000000              0.000000      2.000000   \n",
       "75%    1.646424e+07      6.000000              4.500000      4.000000   \n",
       "max    1.962464e+07    248.000000              5.000000     16.000000   \n",
       "\n",
       "           bedrooms         price  \n",
       "count  11118.000000  11118.000000  \n",
       "mean       1.317143     84.027613  \n",
       "std        0.897948    223.382397  \n",
       "min        0.000000      3.000000  \n",
       "25%        1.000000     25.000000  \n",
       "50%        1.000000     43.000000  \n",
       "75%        2.000000     72.000000  \n",
       "max       10.000000  10905.000000  "
      ]
     },
     "execution_count": 8,
     "metadata": {},
     "output_type": "execute_result"
    }
   ],
   "source": [
    "# estátistica descritiva \n",
    "df.describe()"
   ]
  },
  {
   "cell_type": "markdown",
   "metadata": {
    "id": "PcdVVRR-f6FM"
   },
   "source": [
    "<br>\n",
    "<br>\n",
    "<br>\n",
    "\n",
    "\n",
    "#### 2- Análise Exploratória de dados \n",
    "\n",
    "\n",
    "nesta etapa vamos explorar nosso dataset, tirar algumas medidas estátisticas e ver o principais insights que podemos encontrar nestes dados, e assim partir para a modelagem levando em consideração nossas descobertas com esta análise.\n",
    "\n",
    "\n",
    "<br>\n",
    "<br>"
   ]
  },
  {
   "cell_type": "code",
   "execution_count": 9,
   "metadata": {
    "colab": {
     "base_uri": "https://localhost:8080/",
     "height": 489
    },
    "id": "QBw-CfH9gYUe",
    "outputId": "4af729bd-d870-4182-cbf9-04878235a956"
   },
   "outputs": [
    {
     "data": {
      "image/png": "[encoded data removed]",
      "text/plain": [
       "<Figure size 864x432 with 1 Axes>"
      ]
     },
     "metadata": {
      "needs_background": "light"
     },
     "output_type": "display_data"
    },
    {
     "name": "stdout",
     "output_type": "stream",
     "text": [
      "\n",
      "\n",
      "\n",
      "média de preços: 84.02761288001439\n",
      "desvio padrão de preços: 223.37235119534895\n"
     ]
    }
   ],
   "source": [
    "# distribuição do target (price)\n",
    "plt.figure(figsize=(12,6))\n",
    "sns.distplot(df[\"price\"], color='red', kde=True)\n",
    "plt.title(\"Distribuição de Preços\", fontsize=15)\n",
    "plt.show()\n",
    "\n",
    "\n",
    "\n",
    "media = np.mean(df[\"price\"])\n",
    "desvio_padrao = np.std(df[\"price\"])\n",
    "\n",
    "\n",
    "print(\"\\n\\n\")\n",
    "print(f\"média de preços: {media}\")\n",
    "print(f\"desvio padrão de preços: {desvio_padrao}\")"
   ]
  },
  {
   "cell_type": "markdown",
   "metadata": {
    "id": "qsT_6NEuhe7s"
   },
   "source": [
    "<br>\n",
    "\n",
    "\n",
    "\n",
    "<br>\n",
    "<br>\n",
    "\n",
    "##### Quais tipos de quartos possuem os maiores aluguéis ? \n",
    "\n",
    "\n",
    "<br>"
   ]
  },
  {
   "cell_type": "code",
   "execution_count": 10,
   "metadata": {
    "colab": {
     "base_uri": "https://localhost:8080/",
     "height": 559
    },
    "id": "6E0E49VYmDX4",
    "outputId": "bbcdada5-e8e6-4668-bbcc-f26be5c7d5ab"
   },
   "outputs": [
    {
     "name": "stdout",
     "output_type": "stream",
     "text": [
      "\n",
      "\n",
      "número de Quartos compartilhados: 463\n",
      "número de Casas: 5880\n",
      "número de Quartos Privados: 4775\n",
      "\n",
      "\n",
      "\n",
      "\n"
     ]
    },
    {
     "data": {
      "image/png": "[encoded data removed]",
      "text/plain": [
       "<Figure size 864x432 with 1 Axes>"
      ]
     },
     "metadata": {
      "needs_background": "light"
     },
     "output_type": "display_data"
    }
   ],
   "source": [
    "# comparação de quartos e preços \n",
    "\n",
    "print(\"\\n\")\n",
    "\n",
    "qtd_shared_room = len(df[df[\"room_type\"]==\"Shared room\"])\n",
    "qtd_entire_home = len(df[df[\"room_type\"]==\"Entire home/apt\"])\n",
    "qtd_private_room = len(df[df[\"room_type\"]==\"Private room\"])\n",
    "\n",
    "print(f\"número de Quartos compartilhados: {qtd_shared_room}\")\n",
    "print(f\"número de Casas: {qtd_entire_home}\")\n",
    "print(f\"número de Quartos Privados: {qtd_private_room}\")\n",
    "print(\"\\n\\n\\n\")\n",
    "\n",
    "\n",
    "\n",
    "plt.figure(figsize=(12,6))\n",
    "sns.barplot(x=\"room_type\", y=\"price\", data=df, color=\"salmon\")\n",
    "plt.ylabel(\"Preço\", fontsize=12)\n",
    "plt.xlabel(\"Tipo de Quartos\", fontsize=12)\n",
    "plt.title(\"Quartos com maiores valores\", fontsize=15)\n",
    "plt.show()"
   ]
  },
  {
   "cell_type": "markdown",
   "metadata": {
    "id": "1Fm_Gz6TmmAh"
   },
   "source": [
    "<br>\n",
    "<br>\n",
    "\n",
    "Através do gráfico conseguimos ver que os maiores valores são para aluguéis de casas completas, seguidos de quartos privados, e por último quartos compartilhados que é a categoria mais básica dos clientes da AirBNB, seguindo a lógica dos preços da plataforma.  \n",
    "\n",
    "\n",
    "<br>\n",
    "<br>\n",
    "\n",
    "\n",
    "##### Quais bairros possuem avaliações melhores ? \n",
    "\n",
    "\n",
    "<br>"
   ]
  },
  {
   "cell_type": "code",
   "execution_count": 11,
   "metadata": {
    "colab": {
     "base_uri": "https://localhost:8080/"
    },
    "id": "lPaK5jdN7cK2",
    "outputId": "ef974127-ebc9-4a35-8fd4-e2e39c97a56e"
   },
   "outputs": [
    {
     "data": {
      "text/plain": [
       "Jardim Paulista          944\n",
       "Itaim Bibi               923\n",
       "Pinheiros                712\n",
       "Bela Vista               583\n",
       "Consolação               547\n",
       "                        ... \n",
       "Itaim Paulista             1\n",
       "Ouro Fino Paulista         1\n",
       "Franco da Rocha            1\n",
       "São Lourenço da Serra      1\n",
       "Itaquaquecetuba            1\n",
       "Name: neighborhood, Length: 138, dtype: int64"
      ]
     },
     "execution_count": 11,
     "metadata": {},
     "output_type": "execute_result"
    }
   ],
   "source": [
    "df[\"neighborhood\"].value_counts()"
   ]
  },
  {
   "cell_type": "code",
   "execution_count": 12,
   "metadata": {
    "colab": {
     "base_uri": "https://localhost:8080/",
     "height": 492
    },
    "id": "XSeYj6bMzo7v",
    "outputId": "3a09f344-622f-4d28-f23e-22e3db80c0e9"
   },
   "outputs": [
    {
     "name": "stdout",
     "output_type": "stream",
     "text": [
      "\n",
      "\n"
     ]
    },
    {
     "data": {
      "image/png": "[encoded data removed]",
      "text/plain": [
       "<Figure size 864x432 with 1 Axes>"
      ]
     },
     "metadata": {
      "needs_background": "light"
     },
     "output_type": "display_data"
    },
    {
     "name": "stdout",
     "output_type": "stream",
     "text": [
      "\n",
      "\n",
      "\n"
     ]
    }
   ],
   "source": [
    "# distribuição de nota por bairros (top 7)\n",
    "\n",
    "print(\"\\n\")\n",
    "\n",
    "plt.figure(figsize=(12,6))\n",
    "sns.countplot(x='neighborhood', hue = 'overall_satisfaction',data = df, palette='Oranges', order=pd.value_counts(df['neighborhood']).iloc[:7].index, edgecolor=\"black\",linewidth = 1, zorder = 3, alpha = 0.9 )\n",
    "plt.grid(True, zorder = 0)\n",
    "plt.title(\"Distribuição de Nota por Bairro (Top 7)\", fontsize=15)\n",
    "plt.xlabel('Bairros', fontsize=12)\n",
    "plt.ylabel('Contagem de registros', fontsize=12)\n",
    "plt.show()\n",
    "\n",
    "\n",
    "print('\\n\\n')"
   ]
  },
  {
   "cell_type": "markdown",
   "metadata": {
    "id": "zgyiis2E2nRo"
   },
   "source": [
    "Os bairros de SP com as melhores notas, as acomodações em cada região tem uma distribuição parecida quando olhamos para as notas em cada bairro, Jardim paulista é o bairro com o maior número de notas 5.0 com cerca de <b> 944 </b> avaliações, logo em seguida o Itaim Bibi recebeu cerca de <b> 923 </b> avaliações, Pinheiros segue com <b> 712 </b>, são os três bairros com as melhores avaliações, e esses fazem parte dos bairros mais luxuosos de São Paulo.  \n",
    "\n",
    "\n",
    "<br>\n",
    "<br>\n",
    "<br>\n",
    "<br>\n",
    "\n",
    "##### Qual a média de notas por bairros ? \n",
    "\n",
    "\n",
    "<br>"
   ]
  },
  {
   "cell_type": "code",
   "execution_count": 13,
   "metadata": {
    "colab": {
     "base_uri": "https://localhost:8080/",
     "height": 492
    },
    "id": "dJgUTM605to8",
    "outputId": "2c3c7fd6-7a30-4140-d521-e82ef540687a"
   },
   "outputs": [
    {
     "name": "stdout",
     "output_type": "stream",
     "text": [
      "\n",
      "\n"
     ]
    },
    {
     "data": {
      "image/png": "[encoded data removed]",
      "text/plain": [
       "<Figure size 864x432 with 1 Axes>"
      ]
     },
     "metadata": {
      "needs_background": "light"
     },
     "output_type": "display_data"
    },
    {
     "name": "stdout",
     "output_type": "stream",
     "text": [
      "\n",
      "\n",
      "\n"
     ]
    }
   ],
   "source": [
    "# média de notas (top 6)\n",
    "\n",
    "print(\"\\n\")\n",
    "\n",
    "df_sorted_desc = df[['overall_satisfaction', 'price']].groupby('overall_satisfaction').mean().reset_index().sort_values('price',ascending=False).iloc[1:]\n",
    "\n",
    "plt.figure(figsize=(12,6))\n",
    "plt.bar(df_sorted_desc['overall_satisfaction'],df_sorted_desc['price'],data=df_sorted_desc, edgecolor=\"black\",linewidth = 1, color = 'salmon', zorder = 3, alpha = 0.9)\n",
    "plt.grid(True, zorder = 0)\n",
    "plt.title(\"Media de valor por nota de classificação (Top 6)\", fontsize=15)\n",
    "plt.xlabel('nota de classificação', fontsize=12)\n",
    "plt.show()\n",
    "\n",
    "print(\"\\n\\n\")"
   ]
  },
  {
   "cell_type": "markdown",
   "metadata": {
    "id": "qOAm55NC6Gl6"
   },
   "source": [
    "<br>\n",
    "<br>"
   ]
  },
  {
   "cell_type": "code",
   "execution_count": 14,
   "metadata": {
    "colab": {
     "base_uri": "https://localhost:8080/",
     "height": 619
    },
    "id": "5nx2chTG6GJb",
    "outputId": "68a65bac-9f6d-47f8-956c-556c26eaf945"
   },
   "outputs": [
    {
     "name": "stdout",
     "output_type": "stream",
     "text": [
      "\n",
      "\n"
     ]
    },
    {
     "data": {
      "image/png": "[encoded data removed]",
      "text/plain": [
       "<Figure size 1152x576 with 1 Axes>"
      ]
     },
     "metadata": {
      "needs_background": "light"
     },
     "output_type": "display_data"
    },
    {
     "data": {
      "image/png": "[encoded data removed]",
      "text/plain": [
       "<Figure size 1152x576 with 1 Axes>"
      ]
     },
     "metadata": {
      "needs_background": "light"
     },
     "output_type": "display_data"
    },
    {
     "name": "stdout",
     "output_type": "stream",
     "text": [
      "\n",
      "\n",
      "\n"
     ]
    }
   ],
   "source": [
    "# Somatório e Média de valores por Tipo de propriedades \n",
    "\n",
    "print(\"\\n\")\n",
    "\n",
    "df_sorted_desc = df[['property_type', 'price']].groupby('property_type').mean().reset_index().sort_values('price',ascending=False).iloc[:7]\n",
    "\n",
    "plt.figure(figsize=(16,8))\n",
    "plt.subplot(2,1,2) \n",
    "plt.bar(df_sorted_desc['property_type'],df_sorted_desc['price'],data=df_sorted_desc, edgecolor=\"black\",linewidth = 1, color = 'salmon', zorder = 3, alpha = 0.9)\n",
    "plt.grid(True, zorder = 0)\n",
    "plt.title(\"Média de valores por tipo de propriedade (Top 7)\")\n",
    "plt.xlabel('property_type')\n",
    "plt.show()\n",
    "\n",
    "df_sorted_desc = df[['property_type', 'price']].groupby('property_type').sum().reset_index().sort_values('price',ascending=False).iloc[:7]\n",
    "\n",
    "plt.figure(figsize=(16,8))\n",
    "plt.subplot(2,1,2) \n",
    "plt.bar(df_sorted_desc['property_type'],df_sorted_desc['price'],data=df_sorted_desc, edgecolor=\"black\",linewidth = 1, color = 'salmon', zorder = 3, alpha = 0.9)\n",
    "plt.grid(True, zorder = 0)\n",
    "plt.title(\"Somatória de valores por tipo de propriedade (Top 7)\")\n",
    "plt.xlabel('property_type')\n",
    "plt.show()\n",
    "\n",
    "\n",
    "print('\\n\\n')"
   ]
  },
  {
   "cell_type": "code",
   "execution_count": 15,
   "metadata": {
    "colab": {
     "base_uri": "https://localhost:8080/",
     "height": 535
    },
    "id": "88mVqcTy7Seq",
    "outputId": "7f3933ce-f47e-4073-bfb1-2dc6fc46a6a5"
   },
   "outputs": [
    {
     "data": {
      "image/png": "[encoded data removed]",
      "text/plain": [
       "<Figure size 1152x576 with 1 Axes>"
      ]
     },
     "metadata": {
      "needs_background": "light"
     },
     "output_type": "display_data"
    },
    {
     "data": {
      "image/png": "[encoded data removed]",
      "text/plain": [
       "<Figure size 1152x576 with 1 Axes>"
      ]
     },
     "metadata": {
      "needs_background": "light"
     },
     "output_type": "display_data"
    }
   ],
   "source": [
    "# Média de valor por Bairro \n",
    "\n",
    "\n",
    "df_sorted_desc = df[['neighborhood', 'price']].groupby('neighborhood').mean().reset_index().sort_values('price',ascending=False).iloc[:7]\n",
    "plt.figure(figsize=(16,8))\n",
    "plt.subplot(2,1,2) \n",
    "\n",
    "plt.bar(df_sorted_desc['neighborhood'],df_sorted_desc['price'],data=df_sorted_desc, edgecolor=\"black\",linewidth = 1, color = 'salmon', zorder = 3, alpha = 0.9)\n",
    "plt.grid(True, zorder = 0)\n",
    "plt.title(\"Media de valor por bairro (Top 7)\")\n",
    "plt.xlabel('neighborhood')\n",
    "plt.show()\n",
    "\n",
    "df_sorted_desc = df[['neighborhood', 'price']].groupby('neighborhood').sum().reset_index().sort_values('price',ascending=False).iloc[:7]\n",
    "plt.figure(figsize=(16,8))\n",
    "plt.subplot(2,1,2) \n",
    "\n",
    "plt.bar(df_sorted_desc['neighborhood'],df_sorted_desc['price'],data=df_sorted_desc, edgecolor=\"black\",linewidth = 1, color = 'salmon', zorder = 3, alpha = 0.9)\n",
    "plt.grid(True, zorder = 0)\n",
    "plt.title(\"Somatoria de valor por bairro (Top 7)\")\n",
    "plt.xlabel('neighborhood')\n",
    "plt.show()"
   ]
  },
  {
   "cell_type": "code",
   "execution_count": 16,
   "metadata": {
    "id": "PzNQ8uMtr2AA"
   },
   "outputs": [],
   "source": [
    "def scatter_plot_r(x, \n",
    "                   y, \n",
    "                   title_label, \n",
    "                   x_label, \n",
    "                   y_label):\n",
    "    \"\"\"\"Plota um gráfico de linhas com dados de previsão e de teste. \n",
    "    Args:\n",
    "          x: variavel independente\n",
    "          y: variavel dependente\n",
    "          title_label(str): título do gráfico.\n",
    "          x_label(str): Nome do label do eixo X.\n",
    "          y_label(str): Nome do label do eixo Y.\n",
    "    \"\"\"\n",
    "    #Calcula o coef. de Correlação\n",
    "    pearson = stats.pearsonr(x,y)[0]\n",
    "    # Determina o estilo\n",
    "    sns.set_style(\"whitegrid\", {'grid.linestyle': ':'})\n",
    "    # Determina o tamanho do gráfico.\n",
    "    fig, ax = plt.subplots(figsize=(9,8))\n",
    "    #plota o gráfico\n",
    "    ax = sns.regplot(x=x,\n",
    "                     y=y,\n",
    "                     robust = False, # True: ignora os outliers,demora mais para calcular a regressão linear\n",
    "                     scatter_kws={\"color\":'#0000CD',\"alpha\":0.2,\"s\":50},\n",
    "                     line_kws={\"color\":'#00FFFF',\"alpha\":0.9,\"lw\":1},\n",
    "                     label=\"Coeficiente de Correlação = {0:.2f}\".format(pearson))\n",
    "    #local da legenda\n",
    "    ax.legend(loc=\"best\")\n",
    "    #plota titulo\n",
    "    ax.set_title(title_label, size = 15, fontdict={'family': 'serif','color' : 'black','weight': 'bold'})\n",
    "    #plota eixo x\n",
    "    ax.set_xlabel(x_label, horizontalalignment='left', x=0, size = 14)\n",
    "    #plota eixo y\n",
    "    ax.set_ylabel(y_label,horizontalalignment='left', y=0, size = 14)\n",
    "    #retira as linhas que delimitam o gráfico\n",
    "    sns.despine(top=True, right=True, left=False, bottom=False)\n",
    "    #seta o Zero como limite\n",
    "    plt.ylim(ymin=0)  \n",
    "    #Mostra o gráfico\n",
    "    plt.show()"
   ]
  },
  {
   "cell_type": "code",
   "execution_count": 17,
   "metadata": {
    "colab": {
     "base_uri": "https://localhost:8080/",
     "height": 657
    },
    "id": "Mc60htTbzHAb",
    "outputId": "731e6a3f-f3a7-4e6a-d070-ec274a882edb"
   },
   "outputs": [
    {
     "name": "stdout",
     "output_type": "stream",
     "text": [
      "\n",
      "\n"
     ]
    },
    {
     "data": {
      "image/png": "[encoded data removed]",
      "text/plain": [
       "<Figure size 792x648 with 2 Axes>"
      ]
     },
     "metadata": {
      "needs_background": "light"
     },
     "output_type": "display_data"
    }
   ],
   "source": [
    "# Gráfico de correlação de Pearson\n",
    "\n",
    "print(\"\\n\")\n",
    "\n",
    "corr_celular = df.corr()\n",
    "mask = np.triu(np.ones_like(corr_celular, dtype=bool))\n",
    "f, ax = plt.subplots(figsize=(11, 9))\n",
    "cmap = sns.diverging_palette(230, 20, as_cmap=True)\n",
    "sns.heatmap(corr_celular, mask=mask, cmap=cmap, center=0,square=True, linewidths=.5, cbar_kws={\"shrink\": .5}, annot=True)\n",
    "plt.show()"
   ]
  },
  {
   "cell_type": "code",
   "execution_count": 18,
   "metadata": {
    "colab": {
     "base_uri": "https://localhost:8080/",
     "height": 519
    },
    "id": "j9zmVhFFr7yz",
    "outputId": "82c9d322-f70e-4b96-a0ff-86f849630dcc"
   },
   "outputs": [
    {
     "data": {
      "image/png": "[encoded data removed]",
      "text/plain": [
       "<Figure size 648x576 with 1 Axes>"
      ]
     },
     "metadata": {},
     "output_type": "display_data"
    }
   ],
   "source": [
    "scatter_plot_r(df['overall_satisfaction'], df['price'], \"Correlação entre Ranking de Satisfação e o Preço\", \"overall_satisfaction\", \"price\")"
   ]
  },
  {
   "cell_type": "markdown",
   "metadata": {
    "id": "R9g9XQGRz2z-"
   },
   "source": [
    "<br>\n",
    "\n",
    "\n",
    "analisando as correlações das váriaveis com o target <b> Price </b> identificamos que temos poucas correlações positivas, apenas as váriaveis <b> accommodates </b> e <b> bedrooms </b> com uma correlção de pearson por volta de 0.33 e .29 considerasas baixas.\n",
    "\n",
    "\n",
    "<br>\n",
    "\n"
   ]
  },
  {
   "cell_type": "markdown",
   "metadata": {
    "id": "Xg0wef0N8KEd"
   },
   "source": [
    "<br>\n",
    "<br>\n",
    "<hr>\n",
    "<br>\n",
    "<br>\n",
    "\n",
    "##### 3- Modelagem \n",
    "\n",
    "\n",
    "etapa que vamos modelar os dados para serem usados no treinamendo dos modelos\n",
    "\n",
    "\n",
    "<br>"
   ]
  },
  {
   "cell_type": "code",
   "execution_count": 19,
   "metadata": {
    "colab": {
     "base_uri": "https://localhost:8080/"
    },
    "id": "RCovYINK-szt",
    "outputId": "5fc9f325-c5fd-4246-82c8-98d1a0894bc7"
   },
   "outputs": [
    {
     "data": {
      "text/plain": [
       "room_id                 0\n",
       "room_type               0\n",
       "city                    0\n",
       "borough                 0\n",
       "neighborhood            0\n",
       "reviews                 0\n",
       "overall_satisfaction    0\n",
       "accommodates            0\n",
       "bedrooms                0\n",
       "price                   0\n",
       "property_type           0\n",
       "dtype: int64"
      ]
     },
     "execution_count": 19,
     "metadata": {},
     "output_type": "execute_result"
    }
   ],
   "source": [
    "# valores nulos \n",
    "df.isnull().sum()"
   ]
  },
  {
   "cell_type": "code",
   "execution_count": 20,
   "metadata": {
    "id": "Rj_BNk7-_O6b"
   },
   "outputs": [],
   "source": [
    "# retirar variáveis \n",
    "df.drop(\"room_id\",  axis=1, inplace=True)"
   ]
  },
  {
   "cell_type": "code",
   "execution_count": 21,
   "metadata": {
    "id": "2-8mtCw17LX6"
   },
   "outputs": [],
   "source": [
    "# categóricas e numéricas \n",
    "cat_cols = df.select_dtypes(include=\"object\").columns\n",
    "num_cols = df.select_dtypes(exclude=\"object\").columns\n",
    "\n",
    "\n",
    "# dummies \n",
    "dummies = pd.get_dummies(df[cat_cols], prefix=cat_cols, drop_first=True)\n",
    "df = pd.concat([df, dummies], axis=1)\n",
    "df.drop(cat_cols, axis=1, inplace=True)"
   ]
  },
  {
   "cell_type": "markdown",
   "metadata": {
    "id": "wjPdUDdg7VEn"
   },
   "source": [
    "<br>\n",
    "<br>\n",
    "<hr>\n",
    "<br>\n",
    "<br>\n",
    "<br>\n",
    "\n",
    "\n",
    "#### 4- Validação Cruzada & Gráficos de cada modelagem preditiva para facilitar a interpretação\n",
    "\n",
    "\n",
    "Vamos aplicar validação cruzada utilizando o <b> KFold </b> nos quatro modelos principais.<br><br> \n",
    "Além disso, colocaremos um gráfico em cada modelagem preditiva, para que facilite nossa \n",
    "visualização quanto aos valores reais e preditos de nossa variável target (Preço)\n",
    "\n",
    "\n",
    "<br>\n",
    "<br>"
   ]
  },
  {
   "cell_type": "code",
   "execution_count": 22,
   "metadata": {},
   "outputs": [],
   "source": [
    "# Gráficos utilizados #\n",
    "\n",
    "\n",
    "def line_plot(previsao, \n",
    "              teste, \n",
    "              previsao_label, \n",
    "              teste_label, \n",
    "              title_label, \n",
    "              x_label, \n",
    "              y_label):\n",
    "    \"\"\"\"Plota um gráfico de linhas com dados de previsão e de teste. \n",
    "    Args:\n",
    "          previsao(Series): Serie com os dados de previsão.\n",
    "          teste(Series): Serie com os dados de teste.\n",
    "          previsao_label(str): Nome do label da previsão na legenda.\n",
    "          teste_label(str): Nome do label de teste na legenda.\n",
    "          title_label(str): título do gráfico.\n",
    "          x_label(str): Nome do label do eixo X.\n",
    "          y_label(str): Nome do label do eixo Y.\n",
    "    \"\"\"\n",
    "    # Determina o estilo\n",
    "    plt.style.use('bmh')\n",
    "    # Determina a cor de fundo do gráfico\n",
    "    plt.rcParams['axes.facecolor'] = 'white'    \n",
    "    # Determina o tamanho do gráfico.\n",
    "    plt.figure(figsize=(8,6), dpi=100)\n",
    "    #Plota o título\n",
    "    plt.title(title_label, fontsize=13, fontdict={'family': 'serif','color' : 'black','weight': 'bold'})\n",
    "    # Determina a espessura da linha \n",
    "    plt.rcParams['lines.linewidth'] = 2\n",
    "    plt.plot(previsao, label=previsao_label, color = '#00BFFF' , linestyle = 'solid')\n",
    "    plt.rcParams['lines.linewidth'] = 1\n",
    "    #lista de estilos de linha\n",
    "    #http://matplotlib.org/1.5.3/api/pyplot_api.html#matplotlib.pyplot.plot\n",
    "    #Plota a linha com o teste , cor pode ser substituída por hexadecimal - exemplo: #845ec2\n",
    "    plt.plot(teste, label=teste_label, color = '#483D8B', linestyle ='--')\n",
    "    #Plota a linha com a previsão , estilos de linha suportados : 'solid', 'dashed', 'dashdot', 'dotted'\n",
    " \n",
    "    # Determina o tamanho das letras.(loc em geral upper left/ upper right)\n",
    "    plt.legend(loc=\"upper right\",fontsize=12)\n",
    "    #Plota o label do eixo x próximo da origem (x=0 , máximo x=1)\n",
    "    plt.xlabel(x_label,fontsize=14, horizontalalignment='left', x=0)\n",
    "    #Plota o label do eixo y próximo da origem (y=0 , máximo y=1)\n",
    "    plt.ylabel(y_label,fontsize=14, horizontalalignment='left', y=0)\n",
    "    #seta a base do gráfico com 0\n",
    "    plt.ylim(ymin=0)  \n",
    "    #Mostra o gráfico\n",
    "    plt.show()"
   ]
  },
  {
   "cell_type": "markdown",
   "metadata": {
    "id": "aq8URjtlFzE5"
   },
   "source": [
    "#### << Modelo de Regressão Linear -> 4º Lugar >>"
   ]
  },
  {
   "cell_type": "code",
   "execution_count": 23,
   "metadata": {
    "colab": {
     "base_uri": "https://localhost:8080/"
    },
    "id": "gwDFkxWgyynQ",
    "outputId": "482198d0-a416-48ff-b3cf-acaba345bef5"
   },
   "outputs": [
    {
     "name": "stdout",
     "output_type": "stream",
     "text": [
      "\u001b[1m\n",
      "<<< Regressão Linear >>>\n",
      "\n",
      "\n",
      "_______________________\n",
      "\n",
      "\n",
      "Fold:  1\n",
      "Treino:  8894\n",
      "Teste:  2224\n",
      "-----------------------\n",
      "Validação Cruzada (RL):\n",
      "RMSE: 784114526596.6248\n",
      "MSE: 6.14835590819849e+23\n",
      "MAE: 31167901295.243343\n",
      "R2: -1.386152013591959e+19\n",
      "_______________________\n",
      "\n",
      "\n",
      "Fold:  2\n",
      "Treino:  8894\n",
      "Teste:  2224\n",
      "-----------------------\n",
      "Validação Cruzada (RL):\n",
      "RMSE: 284.2271318668168\n",
      "MSE: 80785.06248923687\n",
      "MAE: 68.15602254524505\n",
      "R2: 0.09913781206539962\n",
      "_______________________\n",
      "\n",
      "\n",
      "Fold:  3\n",
      "Treino:  8894\n",
      "Teste:  2224\n",
      "-----------------------\n",
      "Validação Cruzada (RL):\n",
      "RMSE: 4352749427538.331\n",
      "MSE: 1.894642757893527e+25\n",
      "MAE: 142473272865.90778\n",
      "R2: -6.793281251227326e+20\n",
      "_______________________\n",
      "\n",
      "\n",
      "Fold:  4\n",
      "Treino:  8895\n",
      "Teste:  2223\n",
      "-----------------------\n",
      "Validação Cruzada (RL):\n",
      "RMSE: 1554936062779.8394\n",
      "MSE: 2.4178261593332682e+24\n",
      "MAE: 32979404198.018288\n",
      "R2: -1.5073262605231902e+20\n",
      "_______________________\n",
      "\n",
      "\n",
      "Fold:  5\n",
      "Treino:  8895\n",
      "Teste:  2223\n",
      "-----------------------\n",
      "Validação Cruzada (RL):\n",
      "RMSE: 1055776953579.8378\n",
      "MSE: 1.1146649757103229e+24\n",
      "MAE: 22392493020.302402\n",
      "R2: -1.5621206920778695e+19\n",
      "______________________________________________________\n",
      "Cross-Validation (Regressão Linear):\n",
      "-> RMSE (Root Mean Squared Error): 1549515394155.772;\n",
      "-> MSE (Mean Squared Error): 4.618750860959741e+24;\n",
      "-> MAE (Mean Absolute Error): 45802614289.52556;\n",
      "-> R2 (Root Squared): -1.7190869564635002e+20.\n",
      "______________________________________________________\n",
      "\u001b[0m\n"
     ]
    }
   ],
   "source": [
    "X = df.drop(\"price\", axis=1)\n",
    "y = df['price']\n",
    "\n",
    "# validação cruzada \n",
    "kfold = KFold(n_splits=5, shuffle=True, random_state=42) \n",
    "rmse_results = []\n",
    "mse_results = []\n",
    "mae_results = []\n",
    "r2_results = []\n",
    "\n",
    "print(color.BOLD)\n",
    "\n",
    "fold = 0\n",
    "print('<<< Regressão Linear >>>')\n",
    "print('\\n')\n",
    "\n",
    "\n",
    "for train_index, test_index in kfold.split(X):\n",
    "    fold += 1\n",
    "    print('_'*23)\n",
    "    print(\"\\n\")\n",
    "    print('Fold: ', fold)\n",
    "    print('Treino: ',train_index.shape[0])\n",
    "    print('Teste: ', test_index.shape[0])\n",
    "    \n",
    "\n",
    "\n",
    "    # separando os dados \n",
    "    X_train, X_test = X.iloc[train_index], X.iloc[test_index]\n",
    "    y_train, y_test = y.iloc[train_index], y.iloc[test_index]  \n",
    "    \n",
    "\n",
    "    # Normalizer \n",
    "    normalizer = MinMaxScaler()\n",
    "    X_train = normalizer.fit_transform(X_train)\n",
    "    X_test = normalizer.transform(X_test)\n",
    "    \n",
    "    # modelo Regressão Linear\n",
    "    model = LinearRegression()\n",
    "    model.fit(X_train,y_train)\n",
    "    y_pred = model.predict(X_test)\n",
    "\n",
    "\n",
    "    # métricas \n",
    "    mse = mean_squared_error(y_test,y_pred)\n",
    "    rmse = np.sqrt(mean_squared_error(y_test, y_pred))\n",
    "    mae = mean_absolute_error(y_test,y_pred)\n",
    "    r2 = r2_score(y_test, y_pred)\n",
    "\n",
    "    mse_results.append(mse)\n",
    "    rmse_results.append(rmse)\n",
    "    mae_results.append(mae)\n",
    "    r2_results.append(r2)\n",
    "    \n",
    "    print('-'*23)\n",
    "    print('Validação Cruzada (RL):')\n",
    "    print('RMSE: {}'.format(rmse))\n",
    "    print('MSE: {}'.format(mse))\n",
    "    print('MAE: {}'.format(mae))\n",
    "    print(\"R2: {}\".format(r2))\n",
    "\n",
    "print('_'*54)\n",
    "print('Cross-Validation (Regressão Linear):')\n",
    "print('-> RMSE (Root Mean Squared Error): {};'.format(np.mean(rmse_results))) \n",
    "print('-> MSE (Mean Squared Error): {};'.format(np.mean(mse_results)))\n",
    "print('-> MAE (Mean Absolute Error): {};'.format(np.mean(mae_results))) \n",
    "print('-> R2 (Root Squared): {}.'.format(np.mean(r2_results)))\n",
    "print('_'*54)\n",
    "print(color.END)"
   ]
  },
  {
   "cell_type": "code",
   "execution_count": 24,
   "metadata": {},
   "outputs": [],
   "source": [
    "y_test_ar = np.array(y_test)\n",
    "y_test_series_RL = pd.Series(y_test_ar)\n",
    "y_pred_series_RL = pd.Series(y_pred)"
   ]
  },
  {
   "cell_type": "code",
   "execution_count": 25,
   "metadata": {},
   "outputs": [
    {
     "data": {
      "text/plain": [
       "0        21.0\n",
       "1       311.0\n",
       "2       515.0\n",
       "3       280.0\n",
       "4       186.0\n",
       "        ...  \n",
       "2218     11.0\n",
       "2219     15.0\n",
       "2220     28.0\n",
       "2221     12.0\n",
       "2222     19.0\n",
       "Length: 2223, dtype: float64"
      ]
     },
     "execution_count": 25,
     "metadata": {},
     "output_type": "execute_result"
    }
   ],
   "source": [
    "y_test_series_RL"
   ]
  },
  {
   "cell_type": "code",
   "execution_count": 26,
   "metadata": {},
   "outputs": [
    {
     "data": {
      "text/plain": [
       "0       209.283447\n",
       "1       386.013916\n",
       "2        20.474854\n",
       "3        10.498291\n",
       "4        16.654541\n",
       "           ...    \n",
       "2218     15.927979\n",
       "2219    -16.954834\n",
       "2220     24.068604\n",
       "2221     -6.532959\n",
       "2222     14.381104\n",
       "Length: 2223, dtype: float64"
      ]
     },
     "execution_count": 26,
     "metadata": {},
     "output_type": "execute_result"
    }
   ],
   "source": [
    "y_pred_series_RL"
   ]
  },
  {
   "cell_type": "code",
   "execution_count": 27,
   "metadata": {
    "scrolled": false
   },
   "outputs": [
    {
     "data": {
      "image/png": "[encoded data removed]",
      "text/plain": [
       "<Figure size 800x600 with 1 Axes>"
      ]
     },
     "metadata": {},
     "output_type": "display_data"
    }
   ],
   "source": [
    "line_plot(y_pred_series_RL[0:500],y_test_series_RL[0:500],'Vl_Predito','Vl_Real','Preço de uma hospedagem - Random Forest (500 amostras)','Quantidade amostras','Preço da hospedagem (target)')"
   ]
  },
  {
   "cell_type": "markdown",
   "metadata": {
    "id": "CpwZJgi3GnB4"
   },
   "source": [
    "#### << Modelo KNN -> 3º Lugar >>"
   ]
  },
  {
   "cell_type": "code",
   "execution_count": 28,
   "metadata": {
    "colab": {
     "base_uri": "https://localhost:8080/"
    },
    "id": "Ky6yj1XrH1hf",
    "outputId": "d6f07faf-d3d2-40cf-fe99-e636a23ddd26"
   },
   "outputs": [
    {
     "name": "stdout",
     "output_type": "stream",
     "text": [
      "\u001b[1m\n",
      "<<< K Nearest Neighbors >>>\n",
      "\n",
      "\n",
      "_______________________\n",
      "\n",
      "\n",
      "Fold:  1\n",
      "Treino:  8894\n",
      "Teste:  2224\n",
      "-----------------------\n",
      "Validação Cruzada (KNN):\n",
      "RMSE: 202.15032314463912\n",
      "MSE: 40864.75314748201\n",
      "MAE: 56.14703237410072\n",
      "R2: 0.07870070135679841\n",
      "_______________________\n",
      "\n",
      "\n",
      "Fold:  2\n",
      "Treino:  8894\n",
      "Teste:  2224\n",
      "-----------------------\n",
      "Validação Cruzada (KNN):\n",
      "RMSE: 296.15826394372027\n",
      "MSE: 87709.71730215827\n",
      "MAE: 62.40125899280575\n",
      "R2: 0.021918589931464116\n",
      "_______________________\n",
      "\n",
      "\n",
      "Fold:  3\n",
      "Treino:  8894\n",
      "Teste:  2224\n",
      "-----------------------\n",
      "Validação Cruzada (KNN):\n",
      "RMSE: 149.46834660452575\n",
      "MSE: 22340.786636690646\n",
      "MAE: 51.39253597122302\n",
      "R2: 0.1989664206383892\n",
      "_______________________\n",
      "\n",
      "\n",
      "Fold:  4\n",
      "Treino:  8895\n",
      "Teste:  2223\n",
      "-----------------------\n",
      "Validação Cruzada (KNN):\n",
      "RMSE: 129.38540905207802\n",
      "MSE: 16740.58407557355\n",
      "MAE: 51.12280701754386\n",
      "R2: -0.04364500715662145\n",
      "_______________________\n",
      "\n",
      "\n",
      "Fold:  5\n",
      "Treino:  8895\n",
      "Teste:  2223\n",
      "-----------------------\n",
      "Validação Cruzada (KNN):\n",
      "RMSE: 256.8019967116099\n",
      "MSE: 65947.26551506971\n",
      "MAE: 60.176788124156545\n",
      "R2: 0.07579774827503205\n",
      "______________________________________________________\n",
      "Cross-Validation (K Nearest Neighbors):\n",
      "-> RMSE (Root Mean Squared Error): 206.79286789131461;\n",
      "-> MSE (Mean Squared Error): 46720.62133539484;\n",
      "-> MAE (Mean Absolute Error): 56.248084495965976.\n",
      "-> R2 (Root Squared): 0.06634769060901247\n",
      "______________________________________________________\n"
     ]
    }
   ],
   "source": [
    "X = df.drop(\"price\", axis=1)\n",
    "y = df['price']\n",
    "\n",
    "# validação cruzada \n",
    "kfold = KFold(n_splits=5, shuffle=True, random_state=42) \n",
    "\n",
    "rmse_results = []\n",
    "mse_results = []\n",
    "mae_results = []\n",
    "r2_results = []\n",
    "\n",
    "print(color.BOLD)\n",
    "\n",
    "fold = 0\n",
    "print('<<< K Nearest Neighbors >>>')\n",
    "print('\\n')\n",
    "\n",
    "\n",
    "for train_index, test_index in kfold.split(X):\n",
    "    fold += 1\n",
    "    print('_'*23)\n",
    "    print(\"\\n\")\n",
    "    print('Fold: ', fold)\n",
    "    print('Treino: ',train_index.shape[0])\n",
    "    print('Teste: ', test_index.shape[0])\n",
    "    \n",
    "\n",
    "\n",
    "    # separando os dados \n",
    "    X_train, X_test = X.iloc[train_index], X.iloc[test_index]\n",
    "    y_train, y_test = y.iloc[train_index], y.iloc[test_index]  \n",
    "    \n",
    "\n",
    "    # Normalizer \n",
    "    normalizer = MinMaxScaler()\n",
    "    X_train = normalizer.fit_transform(X_train)\n",
    "    X_test = normalizer.transform(X_test)\n",
    "    \n",
    "    # modelo K Nearest Neighbors\n",
    "    model_knn = KNeighborsRegressor()\n",
    "    model_knn.fit(X_train,y_train)\n",
    "    y_pred_knn = model_knn.predict(X_test)\n",
    "\n",
    "\n",
    "    # métricas \n",
    "    mse = mean_squared_error(y_test,y_pred_knn)\n",
    "    rmse = np.sqrt(mean_squared_error(y_test, y_pred_knn))\n",
    "    mae = mean_absolute_error(y_test,y_pred_knn)\n",
    "    r2 = r2_score(y_test, y_pred_knn)\n",
    "\n",
    "    mse_results.append(mse)\n",
    "    rmse_results.append(rmse)\n",
    "    mae_results.append(mae)\n",
    "    r2_results.append(r2)\n",
    "    print('-'*23)\n",
    "    print('Validação Cruzada (KNN):')\n",
    "    print('RMSE: {}'.format(rmse))\n",
    "    print('MSE: {}'.format(mse))\n",
    "    print('MAE: {}'.format(mae))\n",
    "    print(\"R2: {}\".format(r2))\n",
    "\n",
    "print('_'*54)\n",
    "print('Cross-Validation (K Nearest Neighbors):')\n",
    "print('-> RMSE (Root Mean Squared Error): {};'.format(np.mean(rmse_results))) \n",
    "print('-> MSE (Mean Squared Error): {};'.format(np.mean(mse_results)))\n",
    "print('-> MAE (Mean Absolute Error): {}.'.format(np.mean(mae_results))) \n",
    "print('-> R2 (Root Squared): {}'.format(np.mean(r2_results)))\n",
    "print('_'*54)"
   ]
  },
  {
   "cell_type": "code",
   "execution_count": 29,
   "metadata": {},
   "outputs": [],
   "source": [
    "y_test_ar = np.array(y_test)\n",
    "y_test_series_knn = pd.Series(y_test_ar)\n",
    "y_pred_series_knn = pd.Series(y_pred_knn)"
   ]
  },
  {
   "cell_type": "code",
   "execution_count": 30,
   "metadata": {},
   "outputs": [
    {
     "data": {
      "text/plain": [
       "0        21.0\n",
       "1       311.0\n",
       "2       515.0\n",
       "3       280.0\n",
       "4       186.0\n",
       "        ...  \n",
       "2218     11.0\n",
       "2219     15.0\n",
       "2220     28.0\n",
       "2221     12.0\n",
       "2222     19.0\n",
       "Length: 2223, dtype: float64"
      ]
     },
     "execution_count": 30,
     "metadata": {},
     "output_type": "execute_result"
    }
   ],
   "source": [
    "y_test_series_knn"
   ]
  },
  {
   "cell_type": "code",
   "execution_count": 31,
   "metadata": {},
   "outputs": [
    {
     "data": {
      "text/plain": [
       "0        15.8\n",
       "1       196.4\n",
       "2        22.8\n",
       "3        22.8\n",
       "4        25.0\n",
       "        ...  \n",
       "2218     23.4\n",
       "2219     20.6\n",
       "2220     30.0\n",
       "2221     23.8\n",
       "2222     57.6\n",
       "Length: 2223, dtype: float64"
      ]
     },
     "execution_count": 31,
     "metadata": {},
     "output_type": "execute_result"
    }
   ],
   "source": [
    "y_pred_series_knn"
   ]
  },
  {
   "cell_type": "code",
   "execution_count": 32,
   "metadata": {},
   "outputs": [
    {
     "data": {
      "image/png": "[encoded data removed]",
      "text/plain": [
       "<Figure size 800x600 with 1 Axes>"
      ]
     },
     "metadata": {},
     "output_type": "display_data"
    }
   ],
   "source": [
    "line_plot(y_pred_series_knn[0:500],y_test_series_knn[0:500],'Vl_Predito','Vl_Real','Preço de uma hospedagem - KNN (500 amostras)','Quantidade amostras','Preço da hospedagem (target)')"
   ]
  },
  {
   "cell_type": "markdown",
   "metadata": {
    "id": "D87LbIn1GUQ1"
   },
   "source": [
    "#### << Modelo Decision Tree -> 2º Lugar >>"
   ]
  },
  {
   "cell_type": "code",
   "execution_count": 100,
   "metadata": {
    "colab": {
     "base_uri": "https://localhost:8080/"
    },
    "id": "vNTj0vVMFpm8",
    "outputId": "bdd0bad6-a24e-44fe-8c9d-cc61065268e0"
   },
   "outputs": [
    {
     "name": "stdout",
     "output_type": "stream",
     "text": [
      "\u001b[1m\n",
      "<<< Decision Tree >>>\n",
      "\n",
      "\n",
      "_______________________\n",
      "\n",
      "\n",
      "Fold:  1\n",
      "Treino:  8894\n",
      "Teste:  2224\n",
      "-----------------------\n",
      "Validação Cruzada (DT):\n",
      "RMSE: 181.27179035999166\n",
      "MSE: 32859.46198031676\n",
      "MAE: 56.39644012556069\n",
      "R2: 0.2591806643979654\n",
      "_______________________\n",
      "\n",
      "\n",
      "Fold:  2\n",
      "Treino:  8894\n",
      "Teste:  2224\n",
      "-----------------------\n",
      "Validação Cruzada (DT):\n",
      "RMSE: 291.83005815388486\n",
      "MSE: 85164.78284209981\n",
      "MAE: 60.44222078906154\n",
      "R2: 0.050298034784203804\n",
      "_______________________\n",
      "\n",
      "\n",
      "Fold:  3\n",
      "Treino:  8894\n",
      "Teste:  2224\n",
      "-----------------------\n",
      "Validação Cruzada (DT):\n",
      "RMSE: 143.64123077112433\n",
      "MSE: 20632.80317744339\n",
      "MAE: 51.92760854395329\n",
      "R2: 0.2602065249418033\n",
      "_______________________\n",
      "\n",
      "\n",
      "Fold:  4\n",
      "Treino:  8895\n",
      "Teste:  2223\n",
      "-----------------------\n",
      "Validação Cruzada (DT):\n",
      "RMSE: 114.51914194155829\n",
      "MSE: 13114.633871030774\n",
      "MAE: 48.69231625420526\n",
      "R2: 0.18240474177007193\n",
      "_______________________\n",
      "\n",
      "\n",
      "Fold:  5\n",
      "Treino:  8895\n",
      "Teste:  2223\n",
      "-----------------------\n",
      "Validação Cruzada (DT):\n",
      "RMSE: 240.5219703105464\n",
      "MSE: 57850.81820206736\n",
      "MAE: 56.73739462129202\n",
      "R2: 0.18926348152729933\n",
      "______________________________________________________\n",
      "Cross-Validation (Decision Tree):\n",
      "-> RMSE (Root Mean Squared Error): 194.3568383074211;\n",
      "-> MSE (Mean Squared Error): 41924.50001459162;\n",
      "-> MAE (Mean Absolute Error): 54.83919606681455.\n",
      "-> R2 (Root Squared): 0.18827068948426876\n",
      "______________________________________________________\n"
     ]
    }
   ],
   "source": [
    "X = df.drop(\"price\", axis=1)\n",
    "y = df['price']\n",
    "\n",
    "# validação cruzada \n",
    "kfold = KFold(n_splits=5, shuffle=True, random_state=42) \n",
    "\n",
    "rmse_results = []\n",
    "mse_results = []\n",
    "mae_results = []\n",
    "r2_results = []\n",
    "\n",
    "print(color.BOLD)\n",
    "\n",
    "fold = 0\n",
    "print('<<< Decision Tree >>>')\n",
    "print('\\n')\n",
    "\n",
    "\n",
    "for train_index, test_index in kfold.split(X):\n",
    "    fold += 1\n",
    "    print('_'*23)\n",
    "    print(\"\\n\")\n",
    "    print('Fold: ', fold)\n",
    "    print('Treino: ',train_index.shape[0])\n",
    "    print('Teste: ', test_index.shape[0])\n",
    "    \n",
    "\n",
    "\n",
    "    # separando os dados \n",
    "    X_train, X_test = X.iloc[train_index], X.iloc[test_index]\n",
    "    y_train, y_test = y.iloc[train_index], y.iloc[test_index]  \n",
    "    \n",
    "\n",
    "    # Normalizer \n",
    "    normalizer = MinMaxScaler()\n",
    "    X_train = normalizer.fit_transform(X_train)\n",
    "    X_test = normalizer.transform(X_test)\n",
    "    \n",
    "    # modelo Random Forest\n",
    "    model_dt = DecisionTreeRegressor(max_depth = 4, min_samples_split = 2, min_samples_leaf=20, random_state=42)\n",
    "    model_dt.fit(X_train,y_train)\n",
    "    y_pred_dt = model_dt.predict(X_test)\n",
    "\n",
    "\n",
    "    # métricas \n",
    "    mse = mean_squared_error(y_test,y_pred_dt)\n",
    "    rmse = np.sqrt(mean_squared_error(y_test, y_pred_dt))\n",
    "    mae = mean_absolute_error(y_test,y_pred_dt)\n",
    "    r2 = r2_score(y_test, y_pred_dt)\n",
    "\n",
    "    mse_results.append(mse)\n",
    "    rmse_results.append(rmse)\n",
    "    mae_results.append(mae)\n",
    "    r2_results.append(r2)\n",
    "    print('-'*23)\n",
    "    print('Validação Cruzada (DT):')\n",
    "    print('RMSE: {}'.format(rmse))\n",
    "    print('MSE: {}'.format(mse))\n",
    "    print('MAE: {}'.format(mae))\n",
    "    print(\"R2: {}\".format(r2))\n",
    "\n",
    "print('_'*54)\n",
    "print('Cross-Validation (Decision Tree):')\n",
    "print('-> RMSE (Root Mean Squared Error): {};'.format(np.mean(rmse_results))) \n",
    "print('-> MSE (Mean Squared Error): {};'.format(np.mean(mse_results)))\n",
    "print('-> MAE (Mean Absolute Error): {}.'.format(np.mean(mae_results))) \n",
    "print('-> R2 (Root Squared): {}'.format(np.mean(r2_results)))\n",
    "print('_'*54)"
   ]
  },
  {
   "cell_type": "code",
   "execution_count": 34,
   "metadata": {},
   "outputs": [],
   "source": [
    "y_test_ar = np.array(y_test)\n",
    "y_test_series_dt = pd.Series(y_test_ar)\n",
    "y_pred_series_dt = pd.Series(y_pred_dt)"
   ]
  },
  {
   "cell_type": "code",
   "execution_count": 35,
   "metadata": {},
   "outputs": [
    {
     "data": {
      "text/plain": [
       "0        21.0\n",
       "1       311.0\n",
       "2       515.0\n",
       "3       280.0\n",
       "4       186.0\n",
       "        ...  \n",
       "2218     11.0\n",
       "2219     15.0\n",
       "2220     28.0\n",
       "2221     12.0\n",
       "2222     19.0\n",
       "Length: 2223, dtype: float64"
      ]
     },
     "execution_count": 35,
     "metadata": {},
     "output_type": "execute_result"
    }
   ],
   "source": [
    "y_test_series_dt"
   ]
  },
  {
   "cell_type": "code",
   "execution_count": 36,
   "metadata": {
    "scrolled": true
   },
   "outputs": [
    {
     "data": {
      "text/plain": [
       "0       44.833333\n",
       "1       82.516619\n",
       "2       82.516619\n",
       "3       82.516619\n",
       "4       82.516619\n",
       "          ...    \n",
       "2218    27.761543\n",
       "2219    27.761543\n",
       "2220    27.761543\n",
       "2221    27.761543\n",
       "2222    27.761543\n",
       "Length: 2223, dtype: float64"
      ]
     },
     "execution_count": 36,
     "metadata": {},
     "output_type": "execute_result"
    }
   ],
   "source": [
    "y_pred_series_dt"
   ]
  },
  {
   "cell_type": "code",
   "execution_count": 37,
   "metadata": {},
   "outputs": [
    {
     "data": {
      "image/png": "[encoded data removed]",
      "text/plain": [
       "<Figure size 800x600 with 1 Axes>"
      ]
     },
     "metadata": {},
     "output_type": "display_data"
    }
   ],
   "source": [
    "line_plot(y_pred_series_dt[0:500],y_test_series_dt[0:500],'Vl_Predito','Vl_Real','Preço de uma hospedagem - Decision Tree (500 amostras)','Quantidade amostras','Preço da hospedagem (target)')"
   ]
  },
  {
   "cell_type": "markdown",
   "metadata": {
    "id": "NwAJQ16MGGq6"
   },
   "source": [
    "#### << Modelo Random Forest Regressor -> 1º Lugar >>"
   ]
  },
  {
   "cell_type": "code",
   "execution_count": 38,
   "metadata": {
    "colab": {
     "base_uri": "https://localhost:8080/"
    },
    "id": "UG_j-D9fCNU2",
    "outputId": "a7d6bf9d-a317-4549-e910-284abf5c2808"
   },
   "outputs": [
    {
     "name": "stdout",
     "output_type": "stream",
     "text": [
      "\u001b[1m\n",
      "<<< Random Forest >>>\n",
      "\n",
      "\n",
      "_______________________\n",
      "\n",
      "\n",
      "Fold:  1\n",
      "Treino:  8894\n",
      "Teste:  2224\n",
      "-----------------------\n",
      "Validação Cruzada (RF):\n",
      "RMSE: 178.17535213298643\n",
      "MSE: 31746.45610771371\n",
      "MAE: 54.903773999053406\n",
      "R2: 0.2842734754597187\n",
      "_______________________\n",
      "\n",
      "\n",
      "Fold:  2\n",
      "Treino:  8894\n",
      "Teste:  2224\n",
      "-----------------------\n",
      "Validação Cruzada (RF):\n",
      "RMSE: 288.8861845385884\n",
      "MSE: 83455.22761726336\n",
      "MAE: 58.97548195916133\n",
      "R2: 0.06936187669738403\n",
      "_______________________\n",
      "\n",
      "\n",
      "Fold:  3\n",
      "Treino:  8894\n",
      "Teste:  2224\n",
      "-----------------------\n",
      "Validação Cruzada (RF):\n",
      "RMSE: 134.2607873944337\n",
      "MSE: 18025.959031773324\n",
      "MAE: 48.42902454604823\n",
      "R2: 0.3536754672311727\n",
      "_______________________\n",
      "\n",
      "\n",
      "Fold:  4\n",
      "Treino:  8895\n",
      "Teste:  2223\n",
      "-----------------------\n",
      "Validação Cruzada (RF):\n",
      "RMSE: 109.35607828620152\n",
      "MSE: 11958.751858137837\n",
      "MAE: 47.829462275195304\n",
      "R2: 0.25446498089745295\n",
      "_______________________\n",
      "\n",
      "\n",
      "Fold:  5\n",
      "Treino:  8895\n",
      "Teste:  2223\n",
      "-----------------------\n",
      "Validação Cruzada (RF):\n",
      "RMSE: 240.5223264061474\n",
      "MSE: 57850.989499825315\n",
      "MAE: 55.85092124603522\n",
      "R2: 0.1892610809156533\n",
      "______________________________________________________\n",
      "Cross-Validation (Random Forest):\n",
      "-> RMSE (Root Mean Squared Error): 190.2401457516715;\n",
      "-> MSE (Mean Squared Error): 40607.47682294271;\n",
      "-> MAE (Mean Absolute Error): 53.1977328050987.\n",
      "-> R2 (Root Squared): 0.23020737624027632\n",
      "______________________________________________________\n"
     ]
    }
   ],
   "source": [
    "X = df.drop(\"price\", axis=1)\n",
    "y = df['price']\n",
    "\n",
    "# validação cruzada \n",
    "kfold = KFold(n_splits=5, shuffle=True, random_state=42) \n",
    "rmse_results = []\n",
    "mse_results = []\n",
    "mae_results = []\n",
    "r2_results = []\n",
    "\n",
    "print(color.BOLD)\n",
    "\n",
    "fold = 0\n",
    "print('<<< Random Forest >>>')\n",
    "print('\\n')\n",
    "\n",
    "\n",
    "for train_index, test_index in kfold.split(X):\n",
    "    fold += 1\n",
    "    print('_'*23)\n",
    "    print(\"\\n\")\n",
    "    print('Fold: ', fold)\n",
    "    print('Treino: ',train_index.shape[0])\n",
    "    print('Teste: ', test_index.shape[0])\n",
    "    \n",
    "\n",
    "\n",
    "    # separando os dados \n",
    "    X_train, X_test = X.iloc[train_index], X.iloc[test_index]\n",
    "    y_train, y_test = y.iloc[train_index], y.iloc[test_index]  \n",
    "    \n",
    "\n",
    "    # Normalizer \n",
    "    normalizer = MinMaxScaler()\n",
    "    X_train = normalizer.fit_transform(X_train)\n",
    "    X_test = normalizer.transform(X_test)\n",
    "    \n",
    "    # modelo Random Forest\n",
    "    model_rf = RandomForestRegressor(n_estimators = 100, max_depth = 4, min_samples_leaf = 20, random_state = 42)\n",
    "    model_rf.fit(X_train,y_train)\n",
    "    y_pred_rf = model_rf.predict(X_test)\n",
    "\n",
    "\n",
    "    # métricas \n",
    "    mse = mean_squared_error(y_test,y_pred_rf)\n",
    "    rmse = np.sqrt(mean_squared_error(y_test, y_pred_rf))\n",
    "    mae = mean_absolute_error(y_test,y_pred_rf)\n",
    "    r2 = r2_score(y_test, y_pred_rf)\n",
    "\n",
    "    mse_results.append(mse)\n",
    "    rmse_results.append(rmse)\n",
    "    mae_results.append(mae)\n",
    "    r2_results.append(r2)\n",
    "    print('-'*23)\n",
    "    print('Validação Cruzada (RF):')\n",
    "    print('RMSE: {}'.format(rmse))\n",
    "    print('MSE: {}'.format(mse))\n",
    "    print('MAE: {}'.format(mae))\n",
    "    print(\"R2: {}\".format(r2))\n",
    "\n",
    "print('_'*54)\n",
    "print('Cross-Validation (Random Forest):')\n",
    "print('-> RMSE (Root Mean Squared Error): {};'.format(np.mean(rmse_results))) \n",
    "print('-> MSE (Mean Squared Error): {};'.format(np.mean(mse_results)))\n",
    "print('-> MAE (Mean Absolute Error): {}.'.format(np.mean(mae_results))) \n",
    "print('-> R2 (Root Squared): {}'.format(np.mean(r2_results)))\n",
    "print('_'*54)"
   ]
  },
  {
   "cell_type": "code",
   "execution_count": 39,
   "metadata": {},
   "outputs": [],
   "source": [
    "y_test_ar = np.array(y_test)\n",
    "y_test_series_rf = pd.Series(y_test_ar)\n",
    "y_pred_series_rf = pd.Series(y_pred_rf)"
   ]
  },
  {
   "cell_type": "code",
   "execution_count": 40,
   "metadata": {},
   "outputs": [
    {
     "data": {
      "text/plain": [
       "0        21.0\n",
       "1       311.0\n",
       "2       515.0\n",
       "3       280.0\n",
       "4       186.0\n",
       "        ...  \n",
       "2218     11.0\n",
       "2219     15.0\n",
       "2220     28.0\n",
       "2221     12.0\n",
       "2222     19.0\n",
       "Length: 2223, dtype: float64"
      ]
     },
     "execution_count": 40,
     "metadata": {},
     "output_type": "execute_result"
    }
   ],
   "source": [
    "y_test_series_rf"
   ]
  },
  {
   "cell_type": "code",
   "execution_count": 41,
   "metadata": {},
   "outputs": [
    {
     "data": {
      "text/plain": [
       "0       129.187245\n",
       "1       102.450995\n",
       "2        76.962899\n",
       "3        76.962899\n",
       "4        76.962899\n",
       "           ...    \n",
       "2218     27.839805\n",
       "2219     27.577688\n",
       "2220     27.839805\n",
       "2221     27.839805\n",
       "2222     27.839805\n",
       "Length: 2223, dtype: float64"
      ]
     },
     "execution_count": 41,
     "metadata": {},
     "output_type": "execute_result"
    }
   ],
   "source": [
    "y_pred_series_rf"
   ]
  },
  {
   "cell_type": "code",
   "execution_count": 42,
   "metadata": {},
   "outputs": [
    {
     "data": {
      "image/png": "[encoded data removed]",
      "text/plain": [
       "<Figure size 800x600 with 1 Axes>"
      ]
     },
     "metadata": {},
     "output_type": "display_data"
    }
   ],
   "source": [
    "line_plot(y_pred_series_dt[0:500],y_test_series_dt[0:500],'Vl_Predito','Vl_Real','Preço de uma hospedagem - Decision Tree (500 amostras)','Quantidade amostras','Preço da hospedagem (target)')"
   ]
  },
  {
   "cell_type": "markdown",
   "metadata": {
    "id": "73A08tnaMpyW"
   },
   "source": [
    "<br>\n",
    "<br>\n",
    "<br>\n",
    "<hr>\n",
    "<br>\n",
    "<br>\n",
    "<br>\n",
    "\n",
    "\n",
    "#### 5- Tuning de Hiperparâmetros \n",
    "\n",
    "<br>\n",
    "<br>\n",
    "\n",
    "\n",
    "\n",
    "###### Random Forest Tunning \n",
    "\n",
    "\n",
    "<br>"
   ]
  },
  {
   "cell_type": "code",
   "execution_count": 43,
   "metadata": {
    "id": "TUssj3ykNfuj"
   },
   "outputs": [],
   "source": [
    "from hyperopt import hp, fmin, Trials, tpe"
   ]
  },
  {
   "cell_type": "code",
   "execution_count": 44,
   "metadata": {
    "id": "irNXlgaGMsOV"
   },
   "outputs": [],
   "source": [
    "# objective function \n",
    "def objective(params):\n",
    "  return -np.sqrt(mean_squared_error(y_test, y_pred))"
   ]
  },
  {
   "cell_type": "code",
   "execution_count": 45,
   "metadata": {
    "id": "ZRR_bdsLM5SY"
   },
   "outputs": [],
   "source": [
    "  spaces_random_forest={'n_estimators': hp.randint('n_estimators', 1200),\n",
    "                    'max_depth': hp.randint('max_depth', 30),\n",
    "                    'min_samples_split': hp.uniform('min_samples_split', 0.0, 1.0),\n",
    "                    'min_samples_leaf': hp.uniform('min_samples_leaf', 0, 0.5),\n",
    "                    'min_weight_fraction_leaf': hp.uniform('min_weight_fraction_leaf', 0.0, 0.10),\n",
    "                    'min_impurity_decrease': hp.uniform('min_impurity_decrease', 0.0, 0.10)}"
   ]
  },
  {
   "cell_type": "code",
   "execution_count": 46,
   "metadata": {
    "colab": {
     "base_uri": "https://localhost:8080/"
    },
    "id": "s-ZTU1i4NkoN",
    "outputId": "f4efbee3-0523-45a5-a424-43930e25cba4"
   },
   "outputs": [
    {
     "name": "stdout",
     "output_type": "stream",
     "text": [
      "100%|██████████████████████████████████████████████| 50/50 [00:00<00:00, 137.72trial/s, best loss: -1055776953579.8378]\n"
     ]
    }
   ],
   "source": [
    "trials = Trials()\n",
    "random_tunning = fmin(objective, spaces_random_forest, algo=tpe.suggest, max_evals=50, trials=trials, verbose=1)"
   ]
  },
  {
   "cell_type": "code",
   "execution_count": 47,
   "metadata": {
    "colab": {
     "base_uri": "https://localhost:8080/"
    },
    "id": "YMmWPrVLNwAp",
    "outputId": "bd8cc0a8-c07b-4c71-fc94-8c70eee25ba2"
   },
   "outputs": [
    {
     "name": "stdout",
     "output_type": "stream",
     "text": [
      "RMSE: 267.18271802662844\n",
      "R2: -0.0004305772960992993\n"
     ]
    }
   ],
   "source": [
    "rnd_forest = RandomForestRegressor(**random_tunning, random_state=49)\n",
    "rnd_forest.fit(X_train, y_train)\n",
    "y_pred_tunning_forest = rnd_forest.predict(X_test)\n",
    "\n",
    "\n",
    "print(f\"RMSE: {np.sqrt(mean_squared_error(y_test, y_pred_tunning_forest))}\")\n",
    "print(f\"R2: {r2_score(y_test, y_pred_tunning_forest)}\")"
   ]
  },
  {
   "cell_type": "markdown",
   "metadata": {
    "id": "hCCBNrp1OpL1"
   },
   "source": [
    "<br>\n",
    "<br>\n",
    "<br>\n",
    "<hr>\n",
    "<br>\n",
    "<br>\n",
    "\n",
    "\n",
    "###### Decision Tree Tunning\n",
    "\n",
    "\n",
    "<br>\n",
    "<br>"
   ]
  },
  {
   "cell_type": "code",
   "execution_count": 48,
   "metadata": {
    "id": "xC9z_XUaOW2G"
   },
   "outputs": [],
   "source": [
    "spaces_decision_tree ={\n",
    "                      'max_depth': hp.randint('max_depth', 30),\n",
    "                      'min_samples_split': hp.uniform('min_samples_split', 0.0, 1.0),\n",
    "                      'min_samples_leaf': hp.uniform('min_samples_leaf', 0, 0.5)}  "
   ]
  },
  {
   "cell_type": "code",
   "execution_count": 49,
   "metadata": {
    "colab": {
     "base_uri": "https://localhost:8080/"
    },
    "id": "z0cD__dzPRbC",
    "outputId": "83dc5ab4-6aac-47d8-cfa6-f9656c682cf2"
   },
   "outputs": [
    {
     "name": "stdout",
     "output_type": "stream",
     "text": [
      "100%|██████████████████████████████████████████████| 50/50 [00:00<00:00, 210.14trial/s, best loss: -1055776953579.8378]\n"
     ]
    }
   ],
   "source": [
    "trials = Trials()\n",
    "tree_tunning = fmin(objective, spaces_decision_tree, algo=tpe.suggest, max_evals=50, trials=trials, verbose=1)"
   ]
  },
  {
   "cell_type": "code",
   "execution_count": 50,
   "metadata": {
    "colab": {
     "base_uri": "https://localhost:8080/"
    },
    "id": "y37JDFZvPU5n",
    "outputId": "1298d5bc-d873-4a01-bc7d-96b012d29e21"
   },
   "outputs": [
    {
     "name": "stdout",
     "output_type": "stream",
     "text": [
      "RMSE: 259.67330583475245\n",
      "R2: 0.05501515494399856\n"
     ]
    }
   ],
   "source": [
    "decision_tree = DecisionTreeRegressor(**tree_tunning, random_state=49)\n",
    "decision_tree.fit(X_train, y_train)\n",
    "y_pred_tree = decision_tree.predict(X_test)\n",
    "\n",
    "\n",
    "print(f\"RMSE: {np.sqrt(mean_squared_error(y_test, y_pred_tree))}\")\n",
    "print(f\"R2: {r2_score(y_test, y_pred_tree)}\")"
   ]
  },
  {
   "cell_type": "markdown",
   "metadata": {
    "id": "34nXOLvOPpVb"
   },
   "source": [
    "<br>\n",
    "<br>\n",
    "<br>\n",
    "<hr>\n",
    "<br>\n",
    "<br>\n",
    "<br>"
   ]
  },
  {
   "cell_type": "markdown",
   "metadata": {},
   "source": [
    "<br>\n",
    "<br>\n",
    "<hr>\n",
    "<br>\n",
    "<br>\n",
    "<br>\n",
    "\n",
    "\n",
    "#### 6- Utilizando o ELI5 para vermos o peso de cada variável quando comparada com a target na predição, analisando o TOP 4\n",
    "\n",
    "<br>\n",
    "<br>"
   ]
  },
  {
   "cell_type": "code",
   "execution_count": 92,
   "metadata": {},
   "outputs": [
    {
     "data": {
      "text/plain": [
       "((10006, 201), (1112, 201), (10006,), (1112,))"
      ]
     },
     "execution_count": 92,
     "metadata": {},
     "output_type": "execute_result"
    }
   ],
   "source": [
    "# selecionando apenas variáveis independentes\n",
    "X = df.drop('price', axis=1)\n",
    "# selecionando apenas a variável dependente(target)\n",
    "y = df['price']\n",
    "\n",
    "X_train, X_test, y_train, y_test = train_test_split(X,y, train_size = 0.9, test_size=0.1, random_state=12)# serve para tornar o processo em algo reprodutivo\n",
    "\n",
    "# vendo o shape de cada um dos x(linhas e colunas)\n",
    "X_train.shape, X_test.shape, y_train.shape, y_test.shape"
   ]
  },
  {
   "cell_type": "markdown",
   "metadata": {},
   "source": [
    "#### << Modelo Regressão Linear -> 4º Lugar >>"
   ]
  },
  {
   "cell_type": "code",
   "execution_count": 80,
   "metadata": {},
   "outputs": [
    {
     "data": {
      "text/plain": [
       "Index(['reviews', 'overall_satisfaction', 'accommodates', 'bedrooms',\n",
       "       'room_type_Private room', 'room_type_Shared room', 'borough_BARUERI',\n",
       "       'borough_CAIEIRAS', 'borough_CAJAMAR', 'borough_CARAPICUIBA',\n",
       "       ...\n",
       "       'property_type_Other', 'property_type_Plane', 'property_type_Pousada',\n",
       "       'property_type_Serviced apartment', 'property_type_Tent',\n",
       "       'property_type_Timeshare', 'property_type_Townhouse',\n",
       "       'property_type_Treehouse', 'property_type_Vacation home',\n",
       "       'property_type_Villa'],\n",
       "      dtype='object', length=201)"
      ]
     },
     "execution_count": 80,
     "metadata": {},
     "output_type": "execute_result"
    }
   ],
   "source": [
    "X.columns"
   ]
  },
  {
   "cell_type": "code",
   "execution_count": 120,
   "metadata": {},
   "outputs": [
    {
     "data": {
      "text/html": [
       "\n",
       "    <style>\n",
       "    table.eli5-weights tr:hover {\n",
       "        filter: brightness(85%);\n",
       "    }\n",
       "</style>\n",
       "\n",
       "\n",
       "\n",
       "    \n",
       "\n",
       "    \n",
       "\n",
       "    \n",
       "\n",
       "    \n",
       "\n",
       "    \n",
       "\n",
       "    \n",
       "\n",
       "\n",
       "    \n",
       "\n",
       "    \n",
       "\n",
       "    \n",
       "\n",
       "    \n",
       "        \n",
       "\n",
       "    \n",
       "\n",
       "        \n",
       "            \n",
       "                \n",
       "                \n",
       "    \n",
       "        <p style=\"margin-bottom: 0.5em; margin-top: 0em\">\n",
       "            <b>\n",
       "    \n",
       "        y\n",
       "    \n",
       "</b>\n",
       "\n",
       "top features\n",
       "        </p>\n",
       "    \n",
       "    <table class=\"eli5-weights\"\n",
       "           style=\"border-collapse: collapse; border: none; margin-top: 0em; table-layout: auto; margin-bottom: 2em;\">\n",
       "        <thead>\n",
       "        <tr style=\"border: none;\">\n",
       "            \n",
       "                <th style=\"padding: 0 1em 0 0.5em; text-align: right; border: none;\" title=\"Feature weights. Note that weights do not account for feature value scales, so if feature values have different scales, features with highest weights might not be the most important.\">\n",
       "                    Weight<sup>?</sup>\n",
       "                </th>\n",
       "            \n",
       "            <th style=\"padding: 0 0.5em 0 0.5em; text-align: left; border: none;\">Feature</th>\n",
       "            \n",
       "        </tr>\n",
       "        </thead>\n",
       "        <tbody>\n",
       "        \n",
       "            <tr style=\"background-color: hsl(120, 100.00%, 80.34%); border: none;\">\n",
       "    <td style=\"padding: 0 1em 0 0.5em; text-align: right; border: none;\">\n",
       "        +52248013160863.852\n",
       "    </td>\n",
       "    <td style=\"padding: 0 0.5em 0 0.5em; text-align: left; border: none;\">\n",
       "        borough_COTIA\n",
       "    </td>\n",
       "    \n",
       "</tr>\n",
       "        \n",
       "            <tr style=\"background-color: hsl(120, 100.00%, 81.34%); border: none;\">\n",
       "    <td style=\"padding: 0 1em 0 0.5em; text-align: right; border: none;\">\n",
       "        +48487049803586.156\n",
       "    </td>\n",
       "    <td style=\"padding: 0 0.5em 0 0.5em; text-align: left; border: none;\">\n",
       "        borough_ITAQUAQUECETUBA\n",
       "    </td>\n",
       "    \n",
       "</tr>\n",
       "        \n",
       "            <tr style=\"background-color: hsl(120, 100.00%, 81.66%); border: none;\">\n",
       "    <td style=\"padding: 0 1em 0 0.5em; text-align: right; border: none;\">\n",
       "        +47289413593839.625\n",
       "    </td>\n",
       "    <td style=\"padding: 0 0.5em 0 0.5em; text-align: left; border: none;\">\n",
       "        borough_SANTO ANDRE\n",
       "    </td>\n",
       "    \n",
       "</tr>\n",
       "        \n",
       "            <tr style=\"background-color: hsl(120, 100.00%, 82.54%); border: none;\">\n",
       "    <td style=\"padding: 0 1em 0 0.5em; text-align: right; border: none;\">\n",
       "        +44079381890085.523\n",
       "    </td>\n",
       "    <td style=\"padding: 0 0.5em 0 0.5em; text-align: left; border: none;\">\n",
       "        borough_SAO PAULO\n",
       "    </td>\n",
       "    \n",
       "</tr>\n",
       "        \n",
       "            <tr style=\"background-color: hsl(120, 100.00%, 82.97%); border: none;\">\n",
       "    <td style=\"padding: 0 1em 0 0.5em; text-align: right; border: none;\">\n",
       "        +42544818838511.859\n",
       "    </td>\n",
       "    <td style=\"padding: 0 0.5em 0 0.5em; text-align: left; border: none;\">\n",
       "        borough_MAUA\n",
       "    </td>\n",
       "    \n",
       "</tr>\n",
       "        \n",
       "            <tr style=\"background-color: hsl(120, 100.00%, 84.67%); border: none;\">\n",
       "    <td style=\"padding: 0 1em 0 0.5em; text-align: right; border: none;\">\n",
       "        +36632231904009.516\n",
       "    </td>\n",
       "    <td style=\"padding: 0 0.5em 0 0.5em; text-align: left; border: none;\">\n",
       "        neighborhood_Itapevi\n",
       "    </td>\n",
       "    \n",
       "</tr>\n",
       "        \n",
       "        \n",
       "            <tr style=\"background-color: hsl(120, 100.00%, 84.67%); border: none;\">\n",
       "                <td colspan=\"2\" style=\"padding: 0 0.5em 0 0.5em; text-align: center; border: none; white-space: nowrap;\">\n",
       "                    <i>&hellip; 38 more positive &hellip;</i>\n",
       "                </td>\n",
       "            </tr>\n",
       "        \n",
       "\n",
       "        \n",
       "            <tr style=\"background-color: hsl(0, 100.00%, 82.19%); border: none;\">\n",
       "                <td colspan=\"2\" style=\"padding: 0 0.5em 0 0.5em; text-align: center; border: none; white-space: nowrap;\">\n",
       "                    <i>&hellip; 152 more negative &hellip;</i>\n",
       "                </td>\n",
       "            </tr>\n",
       "        \n",
       "        \n",
       "            <tr style=\"background-color: hsl(0, 100.00%, 82.19%); border: none;\">\n",
       "    <td style=\"padding: 0 1em 0 0.5em; text-align: right; border: none;\">\n",
       "        -45370837141127.797\n",
       "    </td>\n",
       "    <td style=\"padding: 0 0.5em 0 0.5em; text-align: left; border: none;\">\n",
       "        neighborhood_Jardim Ângela\n",
       "    </td>\n",
       "    \n",
       "</tr>\n",
       "        \n",
       "            <tr style=\"background-color: hsl(0, 100.00%, 82.19%); border: none;\">\n",
       "    <td style=\"padding: 0 1em 0 0.5em; text-align: right; border: none;\">\n",
       "        -45370837141180.141\n",
       "    </td>\n",
       "    <td style=\"padding: 0 0.5em 0 0.5em; text-align: left; border: none;\">\n",
       "        neighborhood_São Rafael\n",
       "    </td>\n",
       "    \n",
       "</tr>\n",
       "        \n",
       "            <tr style=\"background-color: hsl(0, 100.00%, 81.32%); border: none;\">\n",
       "    <td style=\"padding: 0 1em 0 0.5em; text-align: right; border: none;\">\n",
       "        -48580868844721.484\n",
       "    </td>\n",
       "    <td style=\"padding: 0 0.5em 0 0.5em; text-align: left; border: none;\">\n",
       "        neighborhood_Capuava\n",
       "    </td>\n",
       "    \n",
       "</tr>\n",
       "        \n",
       "            <tr style=\"background-color: hsl(0, 100.00%, 81.32%); border: none;\">\n",
       "    <td style=\"padding: 0 1em 0 0.5em; text-align: right; border: none;\">\n",
       "        -48580868844739.977\n",
       "    </td>\n",
       "    <td style=\"padding: 0 0.5em 0 0.5em; text-align: left; border: none;\">\n",
       "        neighborhood_Santo André\n",
       "    </td>\n",
       "    \n",
       "</tr>\n",
       "        \n",
       "            <tr style=\"background-color: hsl(0, 100.00%, 81.32%); border: none;\">\n",
       "    <td style=\"padding: 0 1em 0 0.5em; text-align: right; border: none;\">\n",
       "        -48580868844758.445\n",
       "    </td>\n",
       "    <td style=\"padding: 0 0.5em 0 0.5em; text-align: left; border: none;\">\n",
       "        neighborhood_Paranapiacaba\n",
       "    </td>\n",
       "    \n",
       "</tr>\n",
       "        \n",
       "            <tr style=\"background-color: hsl(0, 100.00%, 80.00%); border: none;\">\n",
       "    <td style=\"padding: 0 1em 0 0.5em; text-align: right; border: none;\">\n",
       "        -53539468411800.703\n",
       "    </td>\n",
       "    <td style=\"padding: 0 0.5em 0 0.5em; text-align: left; border: none;\">\n",
       "        neighborhood_Cotia\n",
       "    </td>\n",
       "    \n",
       "</tr>\n",
       "        \n",
       "\n",
       "        </tbody>\n",
       "    </table>\n",
       "\n",
       "            \n",
       "        \n",
       "\n",
       "        \n",
       "\n",
       "\n",
       "\n",
       "    \n",
       "\n",
       "    \n",
       "\n",
       "    \n",
       "\n",
       "    \n",
       "\n",
       "\n",
       "    \n",
       "\n",
       "    \n",
       "\n",
       "    \n",
       "\n",
       "    \n",
       "\n",
       "    \n",
       "\n",
       "    \n",
       "\n",
       "\n",
       "    \n",
       "\n",
       "    \n",
       "\n",
       "    \n",
       "\n",
       "    \n",
       "\n",
       "    \n",
       "\n",
       "    \n",
       "\n",
       "\n",
       "\n"
      ],
      "text/plain": [
       "<IPython.core.display.HTML object>"
      ]
     },
     "execution_count": 120,
     "metadata": {},
     "output_type": "execute_result"
    }
   ],
   "source": [
    "show_weights(model, feature_names = list(X.columns), top = (6, 6))"
   ]
  },
  {
   "cell_type": "code",
   "execution_count": 98,
   "metadata": {},
   "outputs": [
    {
     "data": {
      "text/html": [
       "\n",
       "    <style>\n",
       "    table.eli5-weights tr:hover {\n",
       "        filter: brightness(85%);\n",
       "    }\n",
       "</style>\n",
       "\n",
       "\n",
       "\n",
       "    \n",
       "\n",
       "    \n",
       "\n",
       "    \n",
       "\n",
       "    \n",
       "\n",
       "    \n",
       "\n",
       "    \n",
       "\n",
       "\n",
       "    \n",
       "\n",
       "    \n",
       "\n",
       "    \n",
       "\n",
       "    \n",
       "        \n",
       "\n",
       "    \n",
       "\n",
       "        \n",
       "            \n",
       "                \n",
       "                \n",
       "    \n",
       "        <p style=\"margin-bottom: 0.5em; margin-top: 0em\">\n",
       "            <b>\n",
       "    \n",
       "        y\n",
       "    \n",
       "</b>\n",
       "\n",
       "    \n",
       "    (score <b>753.311</b>)\n",
       "\n",
       "top features\n",
       "        </p>\n",
       "    \n",
       "    <table class=\"eli5-weights\"\n",
       "           style=\"border-collapse: collapse; border: none; margin-top: 0em; table-layout: auto; margin-bottom: 2em;\">\n",
       "        <thead>\n",
       "        <tr style=\"border: none;\">\n",
       "            \n",
       "                <th style=\"padding: 0 1em 0 0.5em; text-align: right; border: none;\" title=\"Feature contribution already accounts for the feature value (for linear models, contribution = weight * feature value), and the sum of feature contributions is equal to the score or, for some classifiers, to the probability. Feature values are shown if &quot;show_feature_values&quot; is True.\">\n",
       "                    Contribution<sup>?</sup>\n",
       "                </th>\n",
       "            \n",
       "            <th style=\"padding: 0 0.5em 0 0.5em; text-align: left; border: none;\">Feature</th>\n",
       "            \n",
       "                <th style=\"padding: 0 0.5em 0 1em; text-align: right; border: none;\">Value</th>\n",
       "            \n",
       "        </tr>\n",
       "        </thead>\n",
       "        <tbody>\n",
       "        \n",
       "            <tr style=\"background-color: hsl(120, 100.00%, 80.40%); border: none;\">\n",
       "    <td style=\"padding: 0 1em 0 0.5em; text-align: right; border: none;\">\n",
       "        +44079381890085.523\n",
       "    </td>\n",
       "    <td style=\"padding: 0 0.5em 0 0.5em; text-align: left; border: none;\">\n",
       "        borough_SAO PAULO\n",
       "    </td>\n",
       "    \n",
       "        <td style=\"padding: 0 0.5em 0 1em; text-align: right; border: none;\">\n",
       "            1.000\n",
       "        </td>\n",
       "    \n",
       "</tr>\n",
       "        \n",
       "            <tr style=\"background-color: hsl(120, 100.00%, 98.34%); border: none;\">\n",
       "    <td style=\"padding: 0 1em 0 0.5em; text-align: right; border: none;\">\n",
       "        +1291455250926.858\n",
       "    </td>\n",
       "    <td style=\"padding: 0 0.5em 0 0.5em; text-align: left; border: none;\">\n",
       "        &lt;BIAS&gt;\n",
       "    </td>\n",
       "    \n",
       "        <td style=\"padding: 0 0.5em 0 1em; text-align: right; border: none;\">\n",
       "            1.000\n",
       "        </td>\n",
       "    \n",
       "</tr>\n",
       "        \n",
       "            <tr style=\"background-color: hsl(120, 100.00%, 100.00%); border: none;\">\n",
       "    <td style=\"padding: 0 1em 0 0.5em; text-align: right; border: none;\">\n",
       "        +494.815\n",
       "    </td>\n",
       "    <td style=\"padding: 0 0.5em 0 0.5em; text-align: left; border: none;\">\n",
       "        accommodates\n",
       "    </td>\n",
       "    \n",
       "        <td style=\"padding: 0 0.5em 0 1em; text-align: right; border: none;\">\n",
       "            2.000\n",
       "        </td>\n",
       "    \n",
       "</tr>\n",
       "        \n",
       "            <tr style=\"background-color: hsl(120, 100.00%, 100.00%); border: none;\">\n",
       "    <td style=\"padding: 0 1em 0 0.5em; text-align: right; border: none;\">\n",
       "        +260.381\n",
       "    </td>\n",
       "    <td style=\"padding: 0 0.5em 0 0.5em; text-align: left; border: none;\">\n",
       "        bedrooms\n",
       "    </td>\n",
       "    \n",
       "        <td style=\"padding: 0 0.5em 0 1em; text-align: right; border: none;\">\n",
       "            1.000\n",
       "        </td>\n",
       "    \n",
       "</tr>\n",
       "        \n",
       "        \n",
       "\n",
       "        \n",
       "        \n",
       "            <tr style=\"background-color: hsl(0, 100.00%, 100.00%); border: none;\">\n",
       "    <td style=\"padding: 0 1em 0 0.5em; text-align: right; border: none;\">\n",
       "        -45.008\n",
       "    </td>\n",
       "    <td style=\"padding: 0 0.5em 0 0.5em; text-align: left; border: none;\">\n",
       "        reviews\n",
       "    </td>\n",
       "    \n",
       "        <td style=\"padding: 0 0.5em 0 1em; text-align: right; border: none;\">\n",
       "            1.000\n",
       "        </td>\n",
       "    \n",
       "</tr>\n",
       "        \n",
       "            <tr style=\"background-color: hsl(0, 100.00%, 80.00%); border: none;\">\n",
       "    <td style=\"padding: 0 1em 0 0.5em; text-align: right; border: none;\">\n",
       "        -45370837140969.258\n",
       "    </td>\n",
       "    <td style=\"padding: 0 0.5em 0 0.5em; text-align: left; border: none;\">\n",
       "        neighborhood_Itaim Bibi\n",
       "    </td>\n",
       "    \n",
       "        <td style=\"padding: 0 0.5em 0 1em; text-align: right; border: none;\">\n",
       "            1.000\n",
       "        </td>\n",
       "    \n",
       "</tr>\n",
       "        \n",
       "\n",
       "        </tbody>\n",
       "    </table>\n",
       "\n",
       "            \n",
       "        \n",
       "\n",
       "        \n",
       "\n",
       "\n",
       "\n",
       "    \n",
       "\n",
       "    \n",
       "\n",
       "    \n",
       "\n",
       "    \n",
       "\n",
       "\n",
       "    \n",
       "\n",
       "    \n",
       "\n",
       "    \n",
       "\n",
       "    \n",
       "\n",
       "    \n",
       "\n",
       "    \n",
       "\n",
       "\n",
       "    \n",
       "\n",
       "    \n",
       "\n",
       "    \n",
       "\n",
       "    \n",
       "\n",
       "    \n",
       "\n",
       "    \n",
       "\n",
       "\n",
       "\n"
      ],
      "text/plain": [
       "<IPython.core.display.HTML object>"
      ]
     },
     "execution_count": 98,
     "metadata": {},
     "output_type": "execute_result"
    }
   ],
   "source": [
    "rand = random.randint(1, len(X_test))\n",
    "\n",
    "show_prediction(model, X_test.iloc[rand], show_feature_values=True)"
   ]
  },
  {
   "cell_type": "markdown",
   "metadata": {},
   "source": [
    "#### << Modelo KNN -> 3º Lugar >>"
   ]
  },
  {
   "cell_type": "code",
   "execution_count": 123,
   "metadata": {},
   "outputs": [
    {
     "data": {
      "text/html": [
       "\n",
       "    <style>\n",
       "    table.eli5-weights tr:hover {\n",
       "        filter: brightness(85%);\n",
       "    }\n",
       "</style>\n",
       "\n",
       "\n",
       "\n",
       "    \n",
       "\n",
       "    \n",
       "\n",
       "    \n",
       "\n",
       "    \n",
       "\n",
       "    \n",
       "\n",
       "    \n",
       "\n",
       "\n",
       "    \n",
       "\n",
       "    \n",
       "\n",
       "    \n",
       "\n",
       "    \n",
       "\n",
       "    \n",
       "\n",
       "    \n",
       "\n",
       "\n",
       "    \n",
       "\n",
       "    \n",
       "\n",
       "    \n",
       "\n",
       "    \n",
       "\n",
       "    \n",
       "\n",
       "    \n",
       "\n",
       "\n",
       "    \n",
       "\n",
       "    \n",
       "\n",
       "    \n",
       "\n",
       "    \n",
       "\n",
       "    \n",
       "\n",
       "    \n",
       "\n",
       "\n",
       "\n",
       "\n",
       "    <div style=\"background-color: #fdd; padding: 0.5em;\">\n",
       "        Error: estimator KNeighborsRegressor() is not supported\n",
       "    </div>\n"
      ],
      "text/plain": [
       "<IPython.core.display.HTML object>"
      ]
     },
     "execution_count": 123,
     "metadata": {},
     "output_type": "execute_result"
    }
   ],
   "source": [
    "show_weights(model_knn, feature_names = list(X.columns), top = (6, 6))"
   ]
  },
  {
   "cell_type": "markdown",
   "metadata": {},
   "source": [
    "#### << Decision Tree -> 2º Lugar >>"
   ]
  },
  {
   "cell_type": "code",
   "execution_count": 122,
   "metadata": {},
   "outputs": [
    {
     "data": {
      "text/html": [
       "\n",
       "    <style>\n",
       "    table.eli5-weights tr:hover {\n",
       "        filter: brightness(85%);\n",
       "    }\n",
       "</style>\n",
       "\n",
       "\n",
       "\n",
       "    \n",
       "\n",
       "    \n",
       "\n",
       "    \n",
       "\n",
       "    \n",
       "\n",
       "    \n",
       "        <table class=\"eli5-weights eli5-feature-importances\" style=\"border-collapse: collapse; border: none; margin-top: 0em; table-layout: auto;\">\n",
       "    <thead>\n",
       "    <tr style=\"border: none;\">\n",
       "        <th style=\"padding: 0 1em 0 0.5em; text-align: right; border: none;\">Weight</th>\n",
       "        <th style=\"padding: 0 0.5em 0 0.5em; text-align: left; border: none;\">Feature</th>\n",
       "    </tr>\n",
       "    </thead>\n",
       "    <tbody>\n",
       "    \n",
       "        <tr style=\"background-color: hsl(120, 100.00%, 80.00%); border: none;\">\n",
       "            <td style=\"padding: 0 1em 0 0.5em; text-align: right; border: none;\">\n",
       "                0.5547\n",
       "                \n",
       "            </td>\n",
       "            <td style=\"padding: 0 0.5em 0 0.5em; text-align: left; border: none;\">\n",
       "                accommodates\n",
       "            </td>\n",
       "        </tr>\n",
       "    \n",
       "        <tr style=\"background-color: hsl(120, 100.00%, 88.91%); border: none;\">\n",
       "            <td style=\"padding: 0 1em 0 0.5em; text-align: right; border: none;\">\n",
       "                0.2388\n",
       "                \n",
       "            </td>\n",
       "            <td style=\"padding: 0 0.5em 0 0.5em; text-align: left; border: none;\">\n",
       "                reviews\n",
       "            </td>\n",
       "        </tr>\n",
       "    \n",
       "        <tr style=\"background-color: hsl(120, 100.00%, 91.70%); border: none;\">\n",
       "            <td style=\"padding: 0 1em 0 0.5em; text-align: right; border: none;\">\n",
       "                0.1580\n",
       "                \n",
       "            </td>\n",
       "            <td style=\"padding: 0 0.5em 0 0.5em; text-align: left; border: none;\">\n",
       "                bedrooms\n",
       "            </td>\n",
       "        </tr>\n",
       "    \n",
       "        <tr style=\"background-color: hsl(120, 100.00%, 97.13%); border: none;\">\n",
       "            <td style=\"padding: 0 1em 0 0.5em; text-align: right; border: none;\">\n",
       "                0.0346\n",
       "                \n",
       "            </td>\n",
       "            <td style=\"padding: 0 0.5em 0 0.5em; text-align: left; border: none;\">\n",
       "                room_type_Private room\n",
       "            </td>\n",
       "        </tr>\n",
       "    \n",
       "        <tr style=\"background-color: hsl(120, 100.00%, 99.06%); border: none;\">\n",
       "            <td style=\"padding: 0 1em 0 0.5em; text-align: right; border: none;\">\n",
       "                0.0071\n",
       "                \n",
       "            </td>\n",
       "            <td style=\"padding: 0 0.5em 0 0.5em; text-align: left; border: none;\">\n",
       "                room_type_Shared room\n",
       "            </td>\n",
       "        </tr>\n",
       "    \n",
       "        <tr style=\"background-color: hsl(120, 100.00%, 99.09%); border: none;\">\n",
       "            <td style=\"padding: 0 1em 0 0.5em; text-align: right; border: none;\">\n",
       "                0.0067\n",
       "                \n",
       "            </td>\n",
       "            <td style=\"padding: 0 0.5em 0 0.5em; text-align: left; border: none;\">\n",
       "                property_type_House\n",
       "            </td>\n",
       "        </tr>\n",
       "    \n",
       "        <tr style=\"background-color: hsl(0, 100.00%, 100.00%); border: none;\">\n",
       "            <td style=\"padding: 0 1em 0 0.5em; text-align: right; border: none;\">\n",
       "                0\n",
       "                \n",
       "            </td>\n",
       "            <td style=\"padding: 0 0.5em 0 0.5em; text-align: left; border: none;\">\n",
       "                neighborhood_Consolação\n",
       "            </td>\n",
       "        </tr>\n",
       "    \n",
       "        <tr style=\"background-color: hsl(0, 100.00%, 100.00%); border: none;\">\n",
       "            <td style=\"padding: 0 1em 0 0.5em; text-align: right; border: none;\">\n",
       "                0\n",
       "                \n",
       "            </td>\n",
       "            <td style=\"padding: 0 0.5em 0 0.5em; text-align: left; border: none;\">\n",
       "                neighborhood_Cidade Tiradentes\n",
       "            </td>\n",
       "        </tr>\n",
       "    \n",
       "    \n",
       "        \n",
       "            <tr style=\"background-color: hsl(0, 100.00%, 100.00%); border: none;\">\n",
       "                <td colspan=\"2\" style=\"padding: 0 0.5em 0 0.5em; text-align: center; border: none; white-space: nowrap;\">\n",
       "                    <i>&hellip; 193 more &hellip;</i>\n",
       "                </td>\n",
       "            </tr>\n",
       "        \n",
       "    \n",
       "    </tbody>\n",
       "</table>\n",
       "    \n",
       "\n",
       "    \n",
       "\n",
       "\n",
       "\n"
      ],
      "text/plain": [
       "<IPython.core.display.HTML object>"
      ]
     },
     "execution_count": 122,
     "metadata": {},
     "output_type": "execute_result"
    }
   ],
   "source": [
    "show_weights(model_dt, feature_names=list(X.columns), show=[\"feature_importances\"], top = 8)"
   ]
  },
  {
   "cell_type": "code",
   "execution_count": 138,
   "metadata": {},
   "outputs": [
    {
     "data": {
      "text/html": [
       "<div>\n",
       "<style scoped>\n",
       "    .dataframe tbody tr th:only-of-type {\n",
       "        vertical-align: middle;\n",
       "    }\n",
       "\n",
       "    .dataframe tbody tr th {\n",
       "        vertical-align: top;\n",
       "    }\n",
       "\n",
       "    .dataframe thead th {\n",
       "        text-align: right;\n",
       "    }\n",
       "</style>\n",
       "<table border=\"1\" class=\"dataframe\">\n",
       "  <thead>\n",
       "    <tr style=\"text-align: right;\">\n",
       "      <th></th>\n",
       "      <th>0</th>\n",
       "      <th>1</th>\n",
       "      <th>2</th>\n",
       "      <th>3</th>\n",
       "      <th>4</th>\n",
       "      <th>5</th>\n",
       "      <th>6</th>\n",
       "      <th>7</th>\n",
       "      <th>8</th>\n",
       "      <th>9</th>\n",
       "      <th>...</th>\n",
       "      <th>191</th>\n",
       "      <th>192</th>\n",
       "      <th>193</th>\n",
       "      <th>194</th>\n",
       "      <th>195</th>\n",
       "      <th>196</th>\n",
       "      <th>197</th>\n",
       "      <th>198</th>\n",
       "      <th>199</th>\n",
       "      <th>200</th>\n",
       "    </tr>\n",
       "  </thead>\n",
       "  <tbody>\n",
       "    <tr>\n",
       "      <th>0</th>\n",
       "      <td>0.0</td>\n",
       "      <td>0.0</td>\n",
       "      <td>1.0</td>\n",
       "      <td>0.1</td>\n",
       "      <td>0.0</td>\n",
       "      <td>1.0</td>\n",
       "      <td>0.0</td>\n",
       "      <td>0.0</td>\n",
       "      <td>0.0</td>\n",
       "      <td>0.0</td>\n",
       "      <td>...</td>\n",
       "      <td>0.0</td>\n",
       "      <td>0.0</td>\n",
       "      <td>0.0</td>\n",
       "      <td>0.0</td>\n",
       "      <td>0.0</td>\n",
       "      <td>0.0</td>\n",
       "      <td>0.0</td>\n",
       "      <td>0.0</td>\n",
       "      <td>0.0</td>\n",
       "      <td>0.0</td>\n",
       "    </tr>\n",
       "  </tbody>\n",
       "</table>\n",
       "<p>1 rows × 201 columns</p>\n",
       "</div>"
      ],
      "text/plain": [
       "   0    1    2    3    4    5    6    7    8    9    ...  191  192  193  194  \\\n",
       "0  0.0  0.0  1.0  0.1  0.0  1.0  0.0  0.0  0.0  0.0  ...  0.0  0.0  0.0  0.0   \n",
       "\n",
       "   195  196  197  198  199  200  \n",
       "0  0.0  0.0  0.0  0.0  0.0  0.0  \n",
       "\n",
       "[1 rows x 201 columns]"
      ]
     },
     "execution_count": 138,
     "metadata": {},
     "output_type": "execute_result"
    }
   ],
   "source": [
    "X_test_series = pd.DataFrame(X_test)\n",
    "X_test_series.head(1)"
   ]
  },
  {
   "cell_type": "code",
   "execution_count": 136,
   "metadata": {},
   "outputs": [
    {
     "name": "stdout",
     "output_type": "stream",
     "text": [
      "Actual Target Value :  16.0\n"
     ]
    },
    {
     "data": {
      "text/html": [
       "\n",
       "    <style>\n",
       "    table.eli5-weights tr:hover {\n",
       "        filter: brightness(85%);\n",
       "    }\n",
       "</style>\n",
       "\n",
       "\n",
       "\n",
       "    \n",
       "\n",
       "    \n",
       "\n",
       "    \n",
       "\n",
       "    \n",
       "\n",
       "    \n",
       "\n",
       "    \n",
       "\n",
       "\n",
       "    \n",
       "\n",
       "    \n",
       "\n",
       "    \n",
       "\n",
       "    \n",
       "        \n",
       "\n",
       "    \n",
       "\n",
       "        \n",
       "            \n",
       "                \n",
       "                \n",
       "    \n",
       "        <p style=\"margin-bottom: 0.5em; margin-top: 0em\">\n",
       "            <b>\n",
       "    \n",
       "        y\n",
       "    \n",
       "</b>\n",
       "\n",
       "    \n",
       "    (score <b>27.762</b>)\n",
       "\n",
       "top features\n",
       "        </p>\n",
       "    \n",
       "    <table class=\"eli5-weights\"\n",
       "           style=\"border-collapse: collapse; border: none; margin-top: 0em; table-layout: auto; margin-bottom: 2em;\">\n",
       "        <thead>\n",
       "        <tr style=\"border: none;\">\n",
       "            \n",
       "                <th style=\"padding: 0 1em 0 0.5em; text-align: right; border: none;\" title=\"Feature contribution already accounts for the feature value (for linear models, contribution = weight * feature value), and the sum of feature contributions is equal to the score or, for some classifiers, to the probability. Feature values are shown if &quot;show_feature_values&quot; is True.\">\n",
       "                    Contribution<sup>?</sup>\n",
       "                </th>\n",
       "            \n",
       "            <th style=\"padding: 0 0.5em 0 0.5em; text-align: left; border: none;\">Feature</th>\n",
       "            \n",
       "                <th style=\"padding: 0 0.5em 0 1em; text-align: right; border: none;\">Value</th>\n",
       "            \n",
       "        </tr>\n",
       "        </thead>\n",
       "        <tbody>\n",
       "        \n",
       "            <tr style=\"background-color: hsl(120, 100.00%, 80.00%); border: none;\">\n",
       "    <td style=\"padding: 0 1em 0 0.5em; text-align: right; border: none;\">\n",
       "        +82.924\n",
       "    </td>\n",
       "    <td style=\"padding: 0 0.5em 0 0.5em; text-align: left; border: none;\">\n",
       "        &lt;BIAS&gt;\n",
       "    </td>\n",
       "    \n",
       "        <td style=\"padding: 0 0.5em 0 1em; text-align: right; border: none;\">\n",
       "            1.000\n",
       "        </td>\n",
       "    \n",
       "</tr>\n",
       "        \n",
       "        \n",
       "\n",
       "        \n",
       "        \n",
       "            <tr style=\"background-color: hsl(0, 100.00%, 95.37%); border: none;\">\n",
       "    <td style=\"padding: 0 1em 0 0.5em; text-align: right; border: none;\">\n",
       "        -10.255\n",
       "    </td>\n",
       "    <td style=\"padding: 0 0.5em 0 0.5em; text-align: left; border: none;\">\n",
       "        reviews\n",
       "    </td>\n",
       "    \n",
       "        <td style=\"padding: 0 0.5em 0 1em; text-align: right; border: none;\">\n",
       "            0.120\n",
       "        </td>\n",
       "    \n",
       "</tr>\n",
       "        \n",
       "            <tr style=\"background-color: hsl(0, 100.00%, 95.23%); border: none;\">\n",
       "    <td style=\"padding: 0 1em 0 0.5em; text-align: right; border: none;\">\n",
       "        -10.690\n",
       "    </td>\n",
       "    <td style=\"padding: 0 0.5em 0 0.5em; text-align: left; border: none;\">\n",
       "        room_type_Private room\n",
       "    </td>\n",
       "    \n",
       "        <td style=\"padding: 0 0.5em 0 1em; text-align: right; border: none;\">\n",
       "            1.000\n",
       "        </td>\n",
       "    \n",
       "</tr>\n",
       "        \n",
       "            <tr style=\"background-color: hsl(0, 100.00%, 94.51%); border: none;\">\n",
       "    <td style=\"padding: 0 1em 0 0.5em; text-align: right; border: none;\">\n",
       "        -13.074\n",
       "    </td>\n",
       "    <td style=\"padding: 0 0.5em 0 0.5em; text-align: left; border: none;\">\n",
       "        bedrooms\n",
       "    </td>\n",
       "    \n",
       "        <td style=\"padding: 0 0.5em 0 1em; text-align: right; border: none;\">\n",
       "            0.100\n",
       "        </td>\n",
       "    \n",
       "</tr>\n",
       "        \n",
       "            <tr style=\"background-color: hsl(0, 100.00%, 92.32%); border: none;\">\n",
       "    <td style=\"padding: 0 1em 0 0.5em; text-align: right; border: none;\">\n",
       "        -21.143\n",
       "    </td>\n",
       "    <td style=\"padding: 0 0.5em 0 0.5em; text-align: left; border: none;\">\n",
       "        accommodates\n",
       "    </td>\n",
       "    \n",
       "        <td style=\"padding: 0 0.5em 0 1em; text-align: right; border: none;\">\n",
       "            0.000\n",
       "        </td>\n",
       "    \n",
       "</tr>\n",
       "        \n",
       "\n",
       "        </tbody>\n",
       "    </table>\n",
       "\n",
       "            \n",
       "        \n",
       "\n",
       "        \n",
       "\n",
       "\n",
       "\n",
       "    \n",
       "\n",
       "    \n",
       "\n",
       "    \n",
       "\n",
       "    \n",
       "\n",
       "\n",
       "    \n",
       "\n",
       "    \n",
       "\n",
       "    \n",
       "\n",
       "    \n",
       "\n",
       "    \n",
       "\n",
       "    \n",
       "\n",
       "\n",
       "    \n",
       "\n",
       "    \n",
       "\n",
       "    \n",
       "\n",
       "    \n",
       "\n",
       "    \n",
       "\n",
       "    \n",
       "\n",
       "\n",
       "\n"
      ],
      "text/plain": [
       "<IPython.core.display.HTML object>"
      ]
     },
     "execution_count": 136,
     "metadata": {},
     "output_type": "execute_result"
    }
   ],
   "source": [
    "rand = random.randint(1, len(X_test))\n",
    "\n",
    "print(\"Actual Target Value : \", y_test.iloc[rand])\n",
    "\n",
    "show_prediction(model_dt,\n",
    "                X_test_series.iloc[rand],\n",
    "                feature_names=list(X.columns),\n",
    "                show_feature_values=True,\n",
    "                )"
   ]
  },
  {
   "cell_type": "markdown",
   "metadata": {},
   "source": [
    "#### << Random Forest -> 1º Lugar >>"
   ]
  },
  {
   "cell_type": "code",
   "execution_count": 119,
   "metadata": {},
   "outputs": [
    {
     "data": {
      "text/html": [
       "\n",
       "    <style>\n",
       "    table.eli5-weights tr:hover {\n",
       "        filter: brightness(85%);\n",
       "    }\n",
       "</style>\n",
       "\n",
       "\n",
       "\n",
       "    \n",
       "\n",
       "    \n",
       "\n",
       "    \n",
       "\n",
       "    \n",
       "\n",
       "    \n",
       "        <table class=\"eli5-weights eli5-feature-importances\" style=\"border-collapse: collapse; border: none; margin-top: 0em; table-layout: auto;\">\n",
       "    <thead>\n",
       "    <tr style=\"border: none;\">\n",
       "        <th style=\"padding: 0 1em 0 0.5em; text-align: right; border: none;\">Weight</th>\n",
       "        <th style=\"padding: 0 0.5em 0 0.5em; text-align: left; border: none;\">Feature</th>\n",
       "    </tr>\n",
       "    </thead>\n",
       "    <tbody>\n",
       "    \n",
       "        <tr style=\"background-color: hsl(120, 100.00%, 80.00%); border: none;\">\n",
       "            <td style=\"padding: 0 1em 0 0.5em; text-align: right; border: none;\">\n",
       "                0.5179\n",
       "                \n",
       "                    &plusmn; 0.1767\n",
       "                \n",
       "            </td>\n",
       "            <td style=\"padding: 0 0.5em 0 0.5em; text-align: left; border: none;\">\n",
       "                accommodates\n",
       "            </td>\n",
       "        </tr>\n",
       "    \n",
       "        <tr style=\"background-color: hsl(120, 100.00%, 88.59%); border: none;\">\n",
       "            <td style=\"padding: 0 1em 0 0.5em; text-align: right; border: none;\">\n",
       "                0.2322\n",
       "                \n",
       "                    &plusmn; 0.0553\n",
       "                \n",
       "            </td>\n",
       "            <td style=\"padding: 0 0.5em 0 0.5em; text-align: left; border: none;\">\n",
       "                reviews\n",
       "            </td>\n",
       "        </tr>\n",
       "    \n",
       "        <tr style=\"background-color: hsl(120, 100.00%, 91.46%); border: none;\">\n",
       "            <td style=\"padding: 0 1em 0 0.5em; text-align: right; border: none;\">\n",
       "                0.1536\n",
       "                \n",
       "                    &plusmn; 0.1811\n",
       "                \n",
       "            </td>\n",
       "            <td style=\"padding: 0 0.5em 0 0.5em; text-align: left; border: none;\">\n",
       "                bedrooms\n",
       "            </td>\n",
       "        </tr>\n",
       "    \n",
       "        <tr style=\"background-color: hsl(120, 100.00%, 96.00%); border: none;\">\n",
       "            <td style=\"padding: 0 1em 0 0.5em; text-align: right; border: none;\">\n",
       "                0.0520\n",
       "                \n",
       "                    &plusmn; 0.0875\n",
       "                \n",
       "            </td>\n",
       "            <td style=\"padding: 0 0.5em 0 0.5em; text-align: left; border: none;\">\n",
       "                property_type_House\n",
       "            </td>\n",
       "        </tr>\n",
       "    \n",
       "        <tr style=\"background-color: hsl(120, 100.00%, 97.28%); border: none;\">\n",
       "            <td style=\"padding: 0 1em 0 0.5em; text-align: right; border: none;\">\n",
       "                0.0299\n",
       "                \n",
       "                    &plusmn; 0.0376\n",
       "                \n",
       "            </td>\n",
       "            <td style=\"padding: 0 0.5em 0 0.5em; text-align: left; border: none;\">\n",
       "                room_type_Private room\n",
       "            </td>\n",
       "        </tr>\n",
       "    \n",
       "        <tr style=\"background-color: hsl(120, 100.00%, 99.22%); border: none;\">\n",
       "            <td style=\"padding: 0 1em 0 0.5em; text-align: right; border: none;\">\n",
       "                0.0050\n",
       "                \n",
       "                    &plusmn; 0.0404\n",
       "                \n",
       "            </td>\n",
       "            <td style=\"padding: 0 0.5em 0 0.5em; text-align: left; border: none;\">\n",
       "                borough_SAO PAULO\n",
       "            </td>\n",
       "        </tr>\n",
       "    \n",
       "        <tr style=\"background-color: hsl(120, 100.00%, 99.33%); border: none;\">\n",
       "            <td style=\"padding: 0 1em 0 0.5em; text-align: right; border: none;\">\n",
       "                0.0041\n",
       "                \n",
       "                    &plusmn; 0.0194\n",
       "                \n",
       "            </td>\n",
       "            <td style=\"padding: 0 0.5em 0 0.5em; text-align: left; border: none;\">\n",
       "                room_type_Shared room\n",
       "            </td>\n",
       "        </tr>\n",
       "    \n",
       "        <tr style=\"background-color: hsl(120, 100.00%, 99.63%); border: none;\">\n",
       "            <td style=\"padding: 0 1em 0 0.5em; text-align: right; border: none;\">\n",
       "                0.0018\n",
       "                \n",
       "                    &plusmn; 0.0167\n",
       "                \n",
       "            </td>\n",
       "            <td style=\"padding: 0 0.5em 0 0.5em; text-align: left; border: none;\">\n",
       "                neighborhood_Vila Andrade\n",
       "            </td>\n",
       "        </tr>\n",
       "    \n",
       "        <tr style=\"background-color: hsl(120, 100.00%, 99.66%); border: none;\">\n",
       "            <td style=\"padding: 0 1em 0 0.5em; text-align: right; border: none;\">\n",
       "                0.0015\n",
       "                \n",
       "                    &plusmn; 0.0193\n",
       "                \n",
       "            </td>\n",
       "            <td style=\"padding: 0 0.5em 0 0.5em; text-align: left; border: none;\">\n",
       "                neighborhood_Pinheiros\n",
       "            </td>\n",
       "        </tr>\n",
       "    \n",
       "        <tr style=\"background-color: hsl(120, 100.00%, 99.76%); border: none;\">\n",
       "            <td style=\"padding: 0 1em 0 0.5em; text-align: right; border: none;\">\n",
       "                0.0009\n",
       "                \n",
       "                    &plusmn; 0.0129\n",
       "                \n",
       "            </td>\n",
       "            <td style=\"padding: 0 0.5em 0 0.5em; text-align: left; border: none;\">\n",
       "                neighborhood_Artur Alvim\n",
       "            </td>\n",
       "        </tr>\n",
       "    \n",
       "        <tr style=\"background-color: hsl(120, 100.00%, 99.84%); border: none;\">\n",
       "            <td style=\"padding: 0 1em 0 0.5em; text-align: right; border: none;\">\n",
       "                0.0005\n",
       "                \n",
       "                    &plusmn; 0.0105\n",
       "                \n",
       "            </td>\n",
       "            <td style=\"padding: 0 0.5em 0 0.5em; text-align: left; border: none;\">\n",
       "                neighborhood_Itaquera\n",
       "            </td>\n",
       "        </tr>\n",
       "    \n",
       "        <tr style=\"background-color: hsl(120, 100.00%, 99.87%); border: none;\">\n",
       "            <td style=\"padding: 0 1em 0 0.5em; text-align: right; border: none;\">\n",
       "                0.0004\n",
       "                \n",
       "                    &plusmn; 0.0052\n",
       "                \n",
       "            </td>\n",
       "            <td style=\"padding: 0 0.5em 0 0.5em; text-align: left; border: none;\">\n",
       "                neighborhood_Morumbi\n",
       "            </td>\n",
       "        </tr>\n",
       "    \n",
       "        <tr style=\"background-color: hsl(120, 100.00%, 99.97%); border: none;\">\n",
       "            <td style=\"padding: 0 1em 0 0.5em; text-align: right; border: none;\">\n",
       "                0.0001\n",
       "                \n",
       "                    &plusmn; 0.0005\n",
       "                \n",
       "            </td>\n",
       "            <td style=\"padding: 0 0.5em 0 0.5em; text-align: left; border: none;\">\n",
       "                neighborhood_Jardim Paulista\n",
       "            </td>\n",
       "        </tr>\n",
       "    \n",
       "        <tr style=\"background-color: hsl(120, 100.00%, 99.97%); border: none;\">\n",
       "            <td style=\"padding: 0 1em 0 0.5em; text-align: right; border: none;\">\n",
       "                0.0000\n",
       "                \n",
       "                    &plusmn; 0.0005\n",
       "                \n",
       "            </td>\n",
       "            <td style=\"padding: 0 0.5em 0 0.5em; text-align: left; border: none;\">\n",
       "                neighborhood_Consolação\n",
       "            </td>\n",
       "        </tr>\n",
       "    \n",
       "    \n",
       "        \n",
       "            <tr style=\"background-color: hsl(120, 100.00%, 99.97%); border: none;\">\n",
       "                <td colspan=\"2\" style=\"padding: 0 0.5em 0 0.5em; text-align: center; border: none; white-space: nowrap;\">\n",
       "                    <i>&hellip; 187 more &hellip;</i>\n",
       "                </td>\n",
       "            </tr>\n",
       "        \n",
       "    \n",
       "    </tbody>\n",
       "</table>\n",
       "    \n",
       "\n",
       "    \n",
       "\n",
       "\n",
       "\n"
      ],
      "text/plain": [
       "<IPython.core.display.HTML object>"
      ]
     },
     "execution_count": 119,
     "metadata": {},
     "output_type": "execute_result"
    }
   ],
   "source": [
    "show_weights(model_rf, feature_names=list(X.columns), show=[\"feature_importances\"], top = 14)"
   ]
  },
  {
   "cell_type": "code",
   "execution_count": 139,
   "metadata": {},
   "outputs": [
    {
     "name": "stdout",
     "output_type": "stream",
     "text": [
      "Actual Target Value :  56.0\n"
     ]
    },
    {
     "data": {
      "text/html": [
       "\n",
       "    <style>\n",
       "    table.eli5-weights tr:hover {\n",
       "        filter: brightness(85%);\n",
       "    }\n",
       "</style>\n",
       "\n",
       "\n",
       "\n",
       "    \n",
       "\n",
       "    \n",
       "\n",
       "    \n",
       "\n",
       "    \n",
       "\n",
       "    \n",
       "\n",
       "    \n",
       "\n",
       "\n",
       "    \n",
       "\n",
       "    \n",
       "\n",
       "    \n",
       "\n",
       "    \n",
       "        \n",
       "\n",
       "    \n",
       "\n",
       "        \n",
       "            \n",
       "                \n",
       "                \n",
       "    \n",
       "        <p style=\"margin-bottom: 0.5em; margin-top: 0em\">\n",
       "            <b>\n",
       "    \n",
       "        y\n",
       "    \n",
       "</b>\n",
       "\n",
       "    \n",
       "    (score <b>77.800</b>)\n",
       "\n",
       "top features\n",
       "        </p>\n",
       "    \n",
       "    <table class=\"eli5-weights\"\n",
       "           style=\"border-collapse: collapse; border: none; margin-top: 0em; table-layout: auto; margin-bottom: 2em;\">\n",
       "        <thead>\n",
       "        <tr style=\"border: none;\">\n",
       "            \n",
       "                <th style=\"padding: 0 1em 0 0.5em; text-align: right; border: none;\" title=\"Feature contribution already accounts for the feature value (for linear models, contribution = weight * feature value), and the sum of feature contributions is equal to the score or, for some classifiers, to the probability. Feature values are shown if &quot;show_feature_values&quot; is True.\">\n",
       "                    Contribution<sup>?</sup>\n",
       "                </th>\n",
       "            \n",
       "            <th style=\"padding: 0 0.5em 0 0.5em; text-align: left; border: none;\">Feature</th>\n",
       "            \n",
       "                <th style=\"padding: 0 0.5em 0 1em; text-align: right; border: none;\">Value</th>\n",
       "            \n",
       "        </tr>\n",
       "        </thead>\n",
       "        <tbody>\n",
       "        \n",
       "            <tr style=\"background-color: hsl(120, 100.00%, 80.00%); border: none;\">\n",
       "    <td style=\"padding: 0 1em 0 0.5em; text-align: right; border: none;\">\n",
       "        +82.859\n",
       "    </td>\n",
       "    <td style=\"padding: 0 0.5em 0 0.5em; text-align: left; border: none;\">\n",
       "        &lt;BIAS&gt;\n",
       "    </td>\n",
       "    \n",
       "        <td style=\"padding: 0 0.5em 0 1em; text-align: right; border: none;\">\n",
       "            1.000\n",
       "        </td>\n",
       "    \n",
       "</tr>\n",
       "        \n",
       "            <tr style=\"background-color: hsl(120, 100.00%, 93.46%); border: none;\">\n",
       "    <td style=\"padding: 0 1em 0 0.5em; text-align: right; border: none;\">\n",
       "        +16.781\n",
       "    </td>\n",
       "    <td style=\"padding: 0 0.5em 0 0.5em; text-align: left; border: none;\">\n",
       "        reviews\n",
       "    </td>\n",
       "    \n",
       "        <td style=\"padding: 0 0.5em 0 1em; text-align: right; border: none;\">\n",
       "            0.000\n",
       "        </td>\n",
       "    \n",
       "</tr>\n",
       "        \n",
       "            <tr style=\"background-color: hsl(120, 100.00%, 94.48%); border: none;\">\n",
       "    <td style=\"padding: 0 1em 0 0.5em; text-align: right; border: none;\">\n",
       "        +13.175\n",
       "    </td>\n",
       "    <td style=\"padding: 0 0.5em 0 0.5em; text-align: left; border: none;\">\n",
       "        room_type_Private room\n",
       "    </td>\n",
       "    \n",
       "        <td style=\"padding: 0 0.5em 0 1em; text-align: right; border: none;\">\n",
       "            0.000\n",
       "        </td>\n",
       "    \n",
       "</tr>\n",
       "        \n",
       "            <tr style=\"background-color: hsl(120, 100.00%, 99.77%); border: none;\">\n",
       "    <td style=\"padding: 0 1em 0 0.5em; text-align: right; border: none;\">\n",
       "        +0.143\n",
       "    </td>\n",
       "    <td style=\"padding: 0 0.5em 0 0.5em; text-align: left; border: none;\">\n",
       "        room_type_Shared room\n",
       "    </td>\n",
       "    \n",
       "        <td style=\"padding: 0 0.5em 0 1em; text-align: right; border: none;\">\n",
       "            0.000\n",
       "        </td>\n",
       "    \n",
       "</tr>\n",
       "        \n",
       "        \n",
       "\n",
       "        \n",
       "        \n",
       "            <tr style=\"background-color: hsl(0, 100.00%, 99.90%); border: none;\">\n",
       "    <td style=\"padding: 0 1em 0 0.5em; text-align: right; border: none;\">\n",
       "        -0.045\n",
       "    </td>\n",
       "    <td style=\"padding: 0 0.5em 0 0.5em; text-align: left; border: none;\">\n",
       "        neighborhood_Pinheiros\n",
       "    </td>\n",
       "    \n",
       "        <td style=\"padding: 0 0.5em 0 1em; text-align: right; border: none;\">\n",
       "            0.000\n",
       "        </td>\n",
       "    \n",
       "</tr>\n",
       "        \n",
       "            <tr style=\"background-color: hsl(0, 100.00%, 99.88%); border: none;\">\n",
       "    <td style=\"padding: 0 1em 0 0.5em; text-align: right; border: none;\">\n",
       "        -0.053\n",
       "    </td>\n",
       "    <td style=\"padding: 0 0.5em 0 0.5em; text-align: left; border: none;\">\n",
       "        neighborhood_Morumbi\n",
       "    </td>\n",
       "    \n",
       "        <td style=\"padding: 0 0.5em 0 1em; text-align: right; border: none;\">\n",
       "            0.000\n",
       "        </td>\n",
       "    \n",
       "</tr>\n",
       "        \n",
       "            <tr style=\"background-color: hsl(0, 100.00%, 95.03%); border: none;\">\n",
       "    <td style=\"padding: 0 1em 0 0.5em; text-align: right; border: none;\">\n",
       "        -11.333\n",
       "    </td>\n",
       "    <td style=\"padding: 0 0.5em 0 0.5em; text-align: left; border: none;\">\n",
       "        bedrooms\n",
       "    </td>\n",
       "    \n",
       "        <td style=\"padding: 0 0.5em 0 1em; text-align: right; border: none;\">\n",
       "            0.000\n",
       "        </td>\n",
       "    \n",
       "</tr>\n",
       "        \n",
       "            <tr style=\"background-color: hsl(0, 100.00%, 91.67%); border: none;\">\n",
       "    <td style=\"padding: 0 1em 0 0.5em; text-align: right; border: none;\">\n",
       "        -23.727\n",
       "    </td>\n",
       "    <td style=\"padding: 0 0.5em 0 0.5em; text-align: left; border: none;\">\n",
       "        accommodates\n",
       "    </td>\n",
       "    \n",
       "        <td style=\"padding: 0 0.5em 0 1em; text-align: right; border: none;\">\n",
       "            0.067\n",
       "        </td>\n",
       "    \n",
       "</tr>\n",
       "        \n",
       "\n",
       "        </tbody>\n",
       "    </table>\n",
       "\n",
       "            \n",
       "        \n",
       "\n",
       "        \n",
       "\n",
       "\n",
       "\n",
       "    \n",
       "\n",
       "    \n",
       "\n",
       "    \n",
       "\n",
       "    \n",
       "\n",
       "\n",
       "    \n",
       "\n",
       "    \n",
       "\n",
       "    \n",
       "\n",
       "    \n",
       "\n",
       "    \n",
       "\n",
       "    \n",
       "\n",
       "\n",
       "    \n",
       "\n",
       "    \n",
       "\n",
       "    \n",
       "\n",
       "    \n",
       "\n",
       "    \n",
       "\n",
       "    \n",
       "\n",
       "\n",
       "\n"
      ],
      "text/plain": [
       "<IPython.core.display.HTML object>"
      ]
     },
     "execution_count": 139,
     "metadata": {},
     "output_type": "execute_result"
    }
   ],
   "source": [
    "rand = random.randint(1, len(X_test))\n",
    "\n",
    "print(\"Actual Target Value : \", y_test.iloc[rand])\n",
    "\n",
    "show_prediction(model_rf,\n",
    "                X_test_series.iloc[rand],\n",
    "                feature_names=list(X.columns),\n",
    "                show_feature_values=True,\n",
    "                )"
   ]
  }
 ],
 "metadata": {
  "colab": {
   "collapsed_sections": [],
   "name": "ml-aplicado-airbnb.ipynb",
   "provenance": [],
   "toc_visible": true
  },
  "kernelspec": {
   "display_name": "Python 3",
   "language": "python",
   "name": "python3"
  },
  "language_info": {
   "codemirror_mode": {
    "name": "ipython",
    "version": 3
   },
   "file_extension": ".py",
   "mimetype": "text/x-python",
   "name": "python",
   "nbconvert_exporter": "python",
   "pygments_lexer": "ipython3",
   "version": "3.8.5"
  }
 },
 "nbformat": 4,
 "nbformat_minor": 1
}
